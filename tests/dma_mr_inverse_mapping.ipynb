{
 "cells": [
  {
   "cell_type": "code",
   "execution_count": null,
   "id": "656076b1",
   "metadata": {},
   "outputs": [],
   "source": [
    "from dma_mr import *\n",
    "from pypo import nlp_based_approach\n",
    "import jax.numpy as np"
   ]
  },
  {
   "cell_type": "code",
   "execution_count": null,
   "id": "d5f538a4",
   "metadata": {},
   "outputs": [],
   "source": [
    "# Lower and upper bounds for DOS definition.\n",
    "DOS_bounds =  np.array([[15, 25],\n",
    "                        [35, 45]])\n",
    "\n",
    "# Discretization Resolution - 10x10 grid for DOS.\n",
    "DOS_resolution = [10, 10]\n",
    "\n",
    "# Lower and upper bounds of AIS (design)\n",
    "lb = np.array([10, 0.1])\n",
    "ub = np.array([300, 2])\n",
    "\n",
    "# Initial estimate for NLP.\n",
    "u0 = np.array([100, 1])\n",
    "\n",
    "# Plug-flow constraint definition: L/D >=30.\n",
    "def plug_flow(u):\n",
    "    return u[0] - 30.0*u[1]\n",
    "\n",
    "con ={'type': 'ineq', 'fun': plug_flow}\n",
    "# Model assignment - Design Problem - Inverse mapping.\n",
    "model = dma_mr_design\n",
    "\n",
    "# Obtain AOS.\n",
    "fDIS, fDOS = nlp_based_approach(model, DOS_bounds, DOS_resolution,\n",
    "                                u0, lb, ub,\n",
    "                                constr    = (con),\n",
    "                                method    = 'ipopt',\n",
    "                                plot      =  True,\n",
    "                                ad        =  True,\n",
    "                                warmstart =  True)"
   ]
  }
 ],
 "metadata": {
  "kernelspec": {
   "display_name": "Python 3 (Spyder)",
   "language": "python3",
   "name": "python3"
  },
  "language_info": {
   "codemirror_mode": {
    "name": "ipython",
    "version": 3
   },
   "file_extension": ".py",
   "mimetype": "text/x-python",
   "name": "python",
   "nbconvert_exporter": "python",
   "pygments_lexer": "ipython3",
   "version": "3.11.4"
  }
 },
 "nbformat": 4,
 "nbformat_minor": 5
}
