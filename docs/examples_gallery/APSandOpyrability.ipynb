{
 "cells": [
  {
   "cell_type": "markdown",
   "id": "37e05362",
   "metadata": {},
   "source": [
    "<h1>Operability analysis of a multistage membrane separation process for direct air capture (m-DAC) using AVEVA Process Simulation</h1>\n",
    "\n",
    "In order to address the impacts of fossil fuel emissions to climate change, CO<sub>2</sub> capture have been expanded from usual point-source capture to CO<sub>2</sub> removal from the atmosphere. The process described in the figure simulates the use of gas separation membranes for the CO<sub>2</sub>  removal.\n",
    "\n",
    "![m-DAC Process flow diagram](m-DAC_ProcessPFD.png)\n",
    "\n",
    "<h2>Process Overview: Multistage Membrane-Based Direct Air Capture (DAC)</h2>\n",
    "<p>\n",
    "This process is designed for <strong>direct air capture (DAC) of CO<sub>2</sub></strong>, using a multistage membrane separation approach \n",
    "to concentrate carbon dioxide from atmospheric levels (~420 ppm) to a <strong>low-purity product (~5% CO<sub>2</sub> molar fraction)</strong>. \n",
    "The system is engineered to handle approximately <strong>1 megaton of air per year</strong>, aligning with urgent \n",
    "climate action goals.\n",
    "</p>\n",
    "<p>\n",
    "The final CO<sub>2</sub>-enriched stream is suitable for applications that tolerate lower purity, such as:\n",
    "<ul>\n",
    "    <li>Algae cultivation</li>\n",
    "    <li>Enhanced indoor farming and greenhouses</li>\n",
    "    <li>Mineral carbonation processes</li>\n",
    "</ul>\n",
    "</p>\n",
    "<p>\n",
    "Key operations include vacuuming the permeate using vacuum pumps, compressors to restore pressure, and heat exchangers to maintain temperatures to acceptable ranges in order to avoid membrane degradation.\n",
    "</p>"
   ]
  },
  {
   "cell_type": "markdown",
   "id": "eb7b81c4-e7a4-4247-bf64-4668111670f9",
   "metadata": {},
   "source": [
    "<h2>Step-by-step set up of Opyrability with AVEVA Process Simulation</h2>"
   ]
  },
  {
   "cell_type": "markdown",
   "id": "b2285765-32ac-49f5-b224-06b2a1dd61cd",
   "metadata": {},
   "source": [
    "<h2>Step 1: Necessary imports for connection with APS and for Operability computations:</h2>"
   ]
  },
  {
   "cell_type": "markdown",
   "id": "e9f613ec-e3d1-4676-b0b1-e8f44232b83f",
   "metadata": {},
   "source": [
    "<h4> APS connection import</h4>"
   ]
  },
  {
   "cell_type": "code",
   "execution_count": 32,
   "id": "b2fd9257-793a-45db-9c1b-33c95bb2ec64",
   "metadata": {},
   "outputs": [],
   "source": [
    "import simcentralconnect #AVEVA PROCESS SIMULATION REQUIRED IMPORT TO ENABLE CONNECTION"
   ]
  },
  {
   "cell_type": "markdown",
   "id": "a21cc370-10af-4bc8-972d-fc4285e7d4db",
   "metadata": {},
   "source": [
    "<color><red><i>This import is essential to enable communication with APS. Once you have installed and configured your APS, you should be able to find the Scripting Interface files. In it, a step-by-step README file guides the user through enabling the connection.</i></color></red>"
   ]
  },
  {
   "cell_type": "code",
   "execution_count": 33,
   "id": "cb8f638f-c0a0-4a63-894c-c2fecab59b50",
   "metadata": {},
   "outputs": [
    {
     "name": "stdout",
     "output_type": "stream",
     "text": [
      "SimCentral.Client.Auto loaded from: PATH\n"
     ]
    }
   ],
   "source": [
    "import numpy as np\n",
    "from opyrability import AIS2AOS_map, multimodel_rep, OI_eval #Operability algorigthms import from Opyrability library\n",
    "from scipy.io import savemat\n",
    "\n",
    "# Instantiating the required interfaces for the scripting interface\n",
    "\n",
    "sc = simcentralconnect.connect().Result\n",
    "sm = sc.GetService(\"ISimulationManager\")\n",
    "vm = sc.GetService(\"IVariableManager\")\n",
    "snap = sc.GetService(\"ISnapshotManager\")\n",
    "\n",
    "# Example of how to set options.  API logging is ON by default.  Disabled by changing to 'false'\n",
    "sc.SetOptions(repr({'Timeout': 500000, 'EnableApiLogging': 'false'}))"
   ]
  },
  {
   "cell_type": "markdown",
   "id": "410aca41-0810-462b-b36a-d389775e4fb3",
   "metadata": {},
   "source": [
    "<h2>Step 2: Calling the simulation file you want to work with:</h2>"
   ]
  },
  {
   "cell_type": "code",
   "execution_count": 34,
   "id": "0e590659-232a-4687-8164-9f7d399fdf09",
   "metadata": {},
   "outputs": [],
   "source": [
    "simFile = \"APS_mDAC\"\n",
    "simName = \"APS_mDAC\" #WARNING: Sometimes APS might rename your simulation as its opened so always make sure the name of the simulation you are working with aligns with the current opened simulation\n",
    "nameSnap = \"steady\" #Note: This is only required in case the user wants to set the simulation to a specific snapshot"
   ]
  },
  {
   "cell_type": "markdown",
   "id": "505152bd-ff4a-4355-9ef1-02bc2f2eed5c",
   "metadata": {},
   "source": [
    "<h2>Step 3: Function for double checking if simulation exist:</h2>"
   ]
  },
  {
   "cell_type": "code",
   "execution_count": 35,
   "id": "fa255559-e9f9-409f-bd16-9296eac81799",
   "metadata": {},
   "outputs": [
    {
     "data": {
      "text/plain": [
       "True"
      ]
     },
     "execution_count": 35,
     "metadata": {},
     "output_type": "execute_result"
    }
   ],
   "source": [
    "def open_simulation(simName):\n",
    "    opened = False\n",
    "    try:\n",
    "        opened = sm.OpenSimulation(simName).Result\n",
    "    except System.AggregateException as ex:\n",
    "        if not isinstance(ex.InnerException, System.InvalidOperationException) \\\n",
    "                or \"simulation doesn't exists\" not in ex.InnerException.Message:\n",
    "            raise\n",
    "    return opened\n",
    "\n",
    "\n",
    "\n",
    "open_simulation(simName)"
   ]
  },
  {
   "cell_type": "markdown",
   "id": "9572f16d-ce3e-44d3-a33a-d6a6a0a13e94",
   "metadata": {},
   "source": [
    "<h2>Step 4: Process model function to communicate with APS and Opyrability:</h2>"
   ]
  },
  {
   "cell_type": "code",
   "execution_count": null,
   "id": "cf88aaf7-a977-4200-b20e-ebc8916d4126",
   "metadata": {},
   "outputs": [],
   "source": [
    "def M(u):\n",
    "\n",
    "    y = np.zeros(2) #Prealocating outputs\n",
    "     \n",
    "    # Membrane properties case - First membrane module study\n",
    "\n",
    "    # --------- Restarting simulation snapshot before changes -----------------------------\n",
    "        \n",
    "    snap.RevertSnapshot(simName,nameSnap)\n",
    "\n",
    "    #Parameters required for SetVariable method vm.SetVariableValue(<string> simulation name, <object> variable, <object> value, <object> unit, <object> apiOptions)(more on methods and interfaces is available in the AVEVA Scripting Interface documentation)\n",
    "    vm.SetVariableValue(simName, \"MDAC1.QCO2\", u[0], \"\", ).Result \n",
    "    vm.SetVariableValue(simName, \"MDAC1.Selectivity\", u[1], \"\", ).Result\n",
    "\n",
    "    # --------- Checking solution status ----------------------------- \n",
    "\n",
    "    print(f\"\\nCalling simulation with inputs: {u}\")\n",
    "    print(f\"Simulation name: {simName}\")\n",
    "    try:\n",
    "        status = sm.GetSimulationStatus(simName).Result #Retrieving solution status of the simulation. Argument [2] holds the boolean value that informs if the solver was capable to solve (True) or not (False) the simulation.\n",
    "        print(f\"Initial simulation status: {str(status[2])}\")\n",
    "    except Exception as e:\n",
    "        print(\"Failed to get simulation status:\", e) \n",
    "\n",
    "    if (status[2]):\n",
    "        flag_conv = True\n",
    "    else:\n",
    "        flag_conv= False\n",
    "\n",
    "    if flag_conv is True:\n",
    "        \n",
    "        # ------------------ PRODUCTIVITY VARIABLES -----------------------------------------\n",
    "\n",
    "        Feed_flow = vm.GetVariableValue(simName, \"Air_feed.F\", \"kmol/h\").Result         \n",
    "        Permeate = vm.GetVariableValue(simName, \"Product.F\", \"kmol/h\", ).Result            \n",
    "        Purity =  vm.GetVariableValue(simName, \"Product.z[CO2]\", \"mol frac\", ).Result       \n",
    "\n",
    "        # ---------------- AOS VARIABLES --------------------------------------------------\n",
    "                \n",
    "        # -------------------- Purity vs. Recovery case study ----------------------\n",
    "        y[0] = Purity*100\n",
    "        y[1] = 100*((Permeate*Purity) / (Feed_flow*0.000420))\n",
    "        \n",
    "    else:\n",
    "            # --------- Restarting solver to try again -----------------------------\n",
    "        \n",
    "            snap.RevertSnapshot(simName,nameSnap)\n",
    "\n",
    "            # --------- Checking solution status again-----------------------------   \n",
    "                \n",
    "            status = sm.GetSimulationStatus(simName).Result\n",
    "\n",
    "            print(u[0], u[1],\"failed\")\n",
    "            if (status[2]):\n",
    "                flag_conv = True\n",
    "            else:\n",
    "                flag_conv= False\n",
    "            \n",
    "            if flag_conv is True:\n",
    "                            \n",
    "                # ------------------- MEMBRANE PROPERTIES CASE -------------------------------\n",
    "                \n",
    "                #First membrane module study\n",
    "                                \n",
    "                vm.SetVariableValue(simName, \"MDAC1.QCO2\", u[0], \"\", ).Result\n",
    "                vm.SetVariableValue(simName, \"MDAC1.Selectivity\", u[1], \"\", ).Result\n",
    "            \n",
    "                       \n",
    "                # ------------------ PRODUCTIVITY VARIABLES -----------------------------------------\n",
    "\n",
    "                Feed_flow = vm.GetVariableValue(simName, \"Air_feed.F\", \"kmol/h\").Result         \n",
    "                Permeate = vm.GetVariableValue(simName, \"Product.F\", \"kmol/h\", ).Result            \n",
    "                Purity =  vm.GetVariableValue(simName, \"Prodcut.z[CO2]\", \"mol frac\", ).Result                \n",
    "   \n",
    "                \n",
    "                # ---------------- AOS VARIABLES --------------------------------------------------\n",
    "                \n",
    "                # -------------------- Purity vs. Recovery case study ----------------------\n",
    "                y[0] = Purity*100\n",
    "                y[1] = 100*((Permeate*Purity) / (Feed_flow*0.000420))              \n",
    "                \n",
    "            else:\n",
    "                pass\n",
    "            \n",
    "            \n",
    "    return y #Returning outputs for the Operability study"
   ]
  },
  {
   "cell_type": "markdown",
   "id": "f8b6a289-69c5-4bd2-ae18-f3af9f532e89",
   "metadata": {},
   "source": [
    "<h2>Step 5: Defining Operability study </h2>\n",
    "\n",
    "The current case study aims to analyze how the membrane intrinsic properties of the 1<sup>st</sup> module affect the captured CO<sub>2</sub> purity and recovery."
   ]
  },
  {
   "cell_type": "code",
   "execution_count": null,
   "id": "d67abce0-75c6-4cdc-b7bb-1b9e4f82de2b",
   "metadata": {},
   "outputs": [
    {
     "name": "stdout",
     "output_type": "stream",
     "text": [
      "\n",
      "Calling simulation with inputs: [0. 8.]\n",
      "Simulation name: APS_mDAC_v2\n",
      "Initial simulation status: True\n",
      "\n",
      "Calling simulation with inputs: [3.35e-08, 8.0]\n",
      "Simulation name: APS_mDAC_v2\n",
      "Initial simulation status: True\n",
      "\n",
      "Calling simulation with inputs: [1.700125e-06, 8.0]\n",
      "Simulation name: APS_mDAC_v2\n",
      "Initial simulation status: True\n",
      "\n",
      "Calling simulation with inputs: [3.3667500000000004e-06, 8.0]\n",
      "Simulation name: APS_mDAC_v2\n",
      "Initial simulation status: True\n",
      "\n",
      "Calling simulation with inputs: [5.033375e-06, 8.0]\n",
      "Simulation name: APS_mDAC_v2\n",
      "Initial simulation status: True\n",
      "\n",
      "Calling simulation with inputs: [6.7e-06, 8.0]\n",
      "Simulation name: APS_mDAC_v2\n",
      "Initial simulation status: True\n",
      "\n",
      "Calling simulation with inputs: [3.35e-08, 506.0]\n",
      "Simulation name: APS_mDAC_v2\n",
      "Initial simulation status: True\n",
      "\n",
      "Calling simulation with inputs: [1.700125e-06, 506.0]\n",
      "Simulation name: APS_mDAC_v2\n",
      "Initial simulation status: True\n",
      "\n",
      "Calling simulation with inputs: [3.3667500000000004e-06, 506.0]\n",
      "Simulation name: APS_mDAC_v2\n",
      "Initial simulation status: True\n",
      "\n",
      "Calling simulation with inputs: [5.033375e-06, 506.0]\n",
      "Simulation name: APS_mDAC_v2\n",
      "Initial simulation status: True\n",
      "\n",
      "Calling simulation with inputs: [6.7e-06, 506.0]\n",
      "Simulation name: APS_mDAC_v2\n",
      "Initial simulation status: True\n",
      "\n",
      "Calling simulation with inputs: [3.35e-08, 1004.0]\n",
      "Simulation name: APS_mDAC_v2\n",
      "Initial simulation status: True\n",
      "\n",
      "Calling simulation with inputs: [1.700125e-06, 1004.0]\n",
      "Simulation name: APS_mDAC_v2\n",
      "Initial simulation status: True\n",
      "\n",
      "Calling simulation with inputs: [3.3667500000000004e-06, 1004.0]\n",
      "Simulation name: APS_mDAC_v2\n",
      "Initial simulation status: True\n",
      "\n",
      "Calling simulation with inputs: [5.033375e-06, 1004.0]\n",
      "Simulation name: APS_mDAC_v2\n",
      "Initial simulation status: True\n",
      "\n",
      "Calling simulation with inputs: [6.7e-06, 1004.0]\n",
      "Simulation name: APS_mDAC_v2\n",
      "Initial simulation status: True\n",
      "\n",
      "Calling simulation with inputs: [3.35e-08, 1502.0]\n",
      "Simulation name: APS_mDAC_v2\n",
      "Initial simulation status: True\n",
      "\n",
      "Calling simulation with inputs: [1.700125e-06, 1502.0]\n",
      "Simulation name: APS_mDAC_v2\n",
      "Initial simulation status: True\n",
      "\n",
      "Calling simulation with inputs: [3.3667500000000004e-06, 1502.0]\n",
      "Simulation name: APS_mDAC_v2\n",
      "Initial simulation status: True\n",
      "\n",
      "Calling simulation with inputs: [5.033375e-06, 1502.0]\n",
      "Simulation name: APS_mDAC_v2\n",
      "Initial simulation status: True\n",
      "\n",
      "Calling simulation with inputs: [6.7e-06, 1502.0]\n",
      "Simulation name: APS_mDAC_v2\n",
      "Initial simulation status: True\n",
      "\n",
      "Calling simulation with inputs: [3.35e-08, 2000.0]\n",
      "Simulation name: APS_mDAC_v2\n",
      "Initial simulation status: True\n",
      "\n",
      "Calling simulation with inputs: [1.700125e-06, 2000.0]\n",
      "Simulation name: APS_mDAC_v2\n",
      "Initial simulation status: True\n",
      "\n",
      "Calling simulation with inputs: [3.3667500000000004e-06, 2000.0]\n",
      "Simulation name: APS_mDAC_v2\n",
      "Initial simulation status: True\n",
      "\n",
      "Calling simulation with inputs: [5.033375e-06, 2000.0]\n",
      "Simulation name: APS_mDAC_v2\n",
      "Initial simulation status: True\n",
      "\n",
      "Calling simulation with inputs: [6.7e-06, 2000.0]\n",
      "Simulation name: APS_mDAC_v2\n",
      "Initial simulation status: True\n"
     ]
    },
    {
     "data": {
      "image/png": "[encoded data removed]",
      "text/plain": [
       "<Figure size 960x720 with 2 Axes>"
      ]
     },
     "metadata": {},
     "output_type": "display_data"
    }
   ],
   "source": [
    "#---------------------- OPERABILIY STUDY --------------------------------------------------\n",
    "\n",
    "AIS_bounds =  np.array([[3.35e-8, 6.7e-06],[8, 2000]]) #AIS bounds definition for the 2 inputs x 2 outputs case study\n",
    "#AIS_bounds =  np.array([[2220, 4123],[630, 1170]]) #AIS bounds definition for the 2 inputs x 2 outputs case study\n",
    "\n",
    "\n",
    "AIS_resolution =  [5,5] #AIS discretization definition for the 2 inputs x 2 outputs case study\n",
    "\n",
    "AIS, AOS = AIS2AOS_map(M2, AIS_bounds, AIS_resolution) #Forwad mapping call for the 2 inputs x 2 outputs case study"
   ]
  },
  {
   "cell_type": "markdown",
   "id": "7a652811",
   "metadata": {},
   "source": [
    "The axes of the AIS represent different membranes, since each pair of CO<sub>2</sub> permeance (u<sub>1</sub>) and CO<sub>2</sub>/N<sub>2</sub> (u<sub>2</sub>) values physically mean that a different membrane is being evaluated.\n",
    "\n",
    "On the other hand, the AOS axes show the outputs of the simulation. (y<sub>1</sub>) being CO<sub>2</sub> purity in mol% and (y<sub>2</sub>) being CO<sub>2</sub> recovery in %. The color gradient maps input cases to the respective outputs, and as it is possible to notice, there's seem to exist a propotional relationship between CO<sub>2</sub> purity and recovery as the membrane properties varies, showcasing the operability capabilities of assessing the process outcomes by manipulating the membrane instrinsic properties."
   ]
  },
  {
   "cell_type": "markdown",
   "id": "645d4a7e",
   "metadata": {},
   "source": [
    "<h2>Multimodel representation</h2>"
   ]
  },
  {
   "cell_type": "code",
   "execution_count": null,
   "id": "94c2374a",
   "metadata": {},
   "outputs": [],
   "source": [
    "def M2(u):\n",
    "\n",
    "    y = np.zeros(2) #Prealocating outputs\n",
    "     \n",
    "    # Membrane properties case - First membrane module study\n",
    "\n",
    "    # --------- Restarting simulation snapshot before changes -----------------------------\n",
    "        \n",
    "    snap.RevertSnapshot(simName,nameSnap)\n",
    "\n",
    "    #Parameters required for SetVariable method vm.SetVariableValue(<string> simulation name, <object> variable, <object> value, <object> unit, <object> apiOptions)(more on methods and interfaces is available in the AVEVA Scripting Interface documentation)\n",
    "    vm.SetVariableValue(simName, \"MDAC1.QCO2\", u[0], \"\", ).Result \n",
    "    vm.SetVariableValue(simName, \"MDAC1.Selectivity\", u[1], \"\", ).Result\n",
    "\n",
    "    # --------- Checking solution status ----------------------------- \n",
    "\n",
    "    print(f\"\\nCalling simulation with inputs: {u}\")\n",
    "    print(f\"Simulation name: {simName}\")\n",
    "    try:\n",
    "        status = sm.GetSimulationStatus(simName).Result #Retrieving solution status of the simulation. Argument [2] holds the boolean value that informs if the solver was capable to solve (True) or not (False) the simulation.\n",
    "        print(f\"Initial simulation status: {str(status[2])}\")\n",
    "    except Exception as e:\n",
    "        print(\"Failed to get simulation status:\", e) \n",
    "\n",
    "    if (status[2]):\n",
    "        flag_conv = True\n",
    "    else:\n",
    "        flag_conv= False\n",
    "\n",
    "    if flag_conv is True:\n",
    "        \n",
    "        # ------------------ PRODUCTIVITY VARIABLES -----------------------------------------\n",
    "\n",
    "        Feed_flow = vm.GetVariableValue(simName, \"Air_feed.F\", \"kmol/h\").Result         \n",
    "        Permeate = vm.GetVariableValue(simName, \"Permeate.F\", \"kmol/h\", ).Result            \n",
    "        Purity =  vm.GetVariableValue(simName, \"Permeate.z[CO2]\", \"mol frac\", ).Result       \n",
    "\n",
    "        # ---------------- AOS VARIABLES --------------------------------------------------\n",
    "                \n",
    "        # -------------------- Purity vs. Recovery case study ----------------------\n",
    "        y[0] = Purity*100\n",
    "        y[1] = 100*((Permeate*Purity) / (Feed_flow*0.000420))\n",
    "        \n",
    "    else:\n",
    "            # --------- Restarting solver to try again -----------------------------\n",
    "        \n",
    "            snap.RevertSnapshot(simName,nameSnap)\n",
    "\n",
    "            # --------- Checking solution status again-----------------------------   \n",
    "                \n",
    "            status = sm.GetSimulationStatus(simName).Result\n",
    "\n",
    "            print(u[0], u[1],\"failed\")\n",
    "            if (status[2]):\n",
    "                flag_conv = True\n",
    "            else:\n",
    "                flag_conv= False\n",
    "            \n",
    "            if flag_conv is True:\n",
    "                            \n",
    "                # ------------------- MEMBRANE PROPERTIES CASE -------------------------------\n",
    "                \n",
    "                #First membrane module study\n",
    "                                \n",
    "                vm.SetVariableValue(simName, \"MDAC1.QCO2\", u[0], \"\", ).Result\n",
    "                vm.SetVariableValue(simName, \"MDAC1.Selectivity\", u[1], \"\", ).Result\n",
    "            \n",
    "                       \n",
    "                # ------------------ PRODUCTIVITY VARIABLES -----------------------------------------\n",
    "\n",
    "                Feed_flow = vm.GetVariableValue(simName, \"Air_feed.F\", \"kmol/h\").Result         \n",
    "                Permeate = vm.GetVariableValue(simName, \"Permeate.F\", \"kmol/h\", ).Result            \n",
    "                Purity =  vm.GetVariableValue(simName, \"Permeate.z[CO2]\", \"mol frac\", ).Result                \n",
    "   \n",
    "                \n",
    "                # ---------------- AOS VARIABLES --------------------------------------------------\n",
    "                \n",
    "                # -------------------- Purity vs. Recovery case study ----------------------\n",
    "                y[0] = Purity*100\n",
    "                y[1] = 100*((Permeate*Purity) / (Feed_flow*0.000420))              \n",
    "                \n",
    "            else:\n",
    "                pass\n",
    "            \n",
    "            \n",
    "    return y #Returning outputs for the Operability study"
   ]
  },
  {
   "cell_type": "code",
   "execution_count": null,
   "id": "9303ca33",
   "metadata": {},
   "outputs": [],
   "source": [
    "#---------------------- OPERABILIY STUDY --------------------------------------------------\n",
    "\n",
    "AIS_bounds =  np.array([[3.35e-8, 6.7e-06],[8, 2000]]) #AIS bounds definition for the 2 inputs x 2 outputs case study\n",
    "#AIS_bounds =  np.array([[2220, 4123],[630, 1170]]) #AIS bounds definition for the 2 inputs x 2 outputs case study\n",
    "\n",
    "\n",
    "AIS_resolution =  [10,10] #AIS discretization definition for the 2 inputs x 2 outputs case study\n",
    "\n",
    "AIS, AOS = multimodel_rep(M, AIS_bounds, AIS_resolution) #Multimodel representation call for the 2 inputs x 2 outputs case study"
   ]
  },
  {
   "cell_type": "code",
   "execution_count": null,
   "id": "77c04fad",
   "metadata": {},
   "outputs": [],
   "source": [
    "DOS_bounds =  np.array([[1.0, 1.8], \n",
    "                            [20, 50]])\n",
    "OI = OI_eval(AOS, DOS_bounds)"
   ]
  }
 ],
 "metadata": {
  "kernelspec": {
   "display_name": "op-env",
   "language": "python",
   "name": "python3"
  },
  "language_info": {
   "codemirror_mode": {
    "name": "ipython",
    "version": 3
   },
   "file_extension": ".py",
   "mimetype": "text/x-python",
   "name": "python",
   "nbconvert_exporter": "python",
   "pygments_lexer": "ipython3",
   "version": "3.9.18"
  }
 },
 "nbformat": 4,
 "nbformat_minor": 5
}
