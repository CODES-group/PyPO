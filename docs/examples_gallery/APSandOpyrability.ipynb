{
 "cells": [
  {
   "cell_type": "markdown",
   "id": "eb7b81c4-e7a4-4247-bf64-4668111670f9",
   "metadata": {},
   "source": [
    "<h1>Jupyter notebook with the step-by-step set up of Opyrability with AVEVA Process Simulation</h1>"
   ]
  },
  {
   "cell_type": "markdown",
   "id": "b2285765-32ac-49f5-b224-06b2a1dd61cd",
   "metadata": {},
   "source": [
    "<h2>Step 1: Necessary imports for connection with APS and for Operability computations:</h2>"
   ]
  },
  {
   "cell_type": "markdown",
   "id": "e9f613ec-e3d1-4676-b0b1-e8f44232b83f",
   "metadata": {},
   "source": [
    "<h4> APS connection import</h4>"
   ]
  },
  {
   "cell_type": "code",
   "execution_count": 25,
   "id": "b2fd9257-793a-45db-9c1b-33c95bb2ec64",
   "metadata": {},
   "outputs": [],
   "source": [
    "import simcentralconnect #AVEVA PROCESS SIMULATION REQUIRED IMPORT TO ENABLE CONNECTION"
   ]
  },
  {
   "cell_type": "markdown",
   "id": "a21cc370-10af-4bc8-972d-fc4285e7d4db",
   "metadata": {},
   "source": [
    "<color><red><i>This import is essential to enable the communication with APS. Once you installed and configured you APS, you should be able to find the Scripting Interface files. In it, a step-by-step readme file guides the user through enabiling the connection.</i></color></red>"
   ]
  },
  {
   "cell_type": "code",
   "execution_count": 26,
   "id": "cb8f638f-c0a0-4a63-894c-c2fecab59b50",
   "metadata": {},
   "outputs": [
    {
     "name": "stdout",
     "output_type": "stream",
     "text": [
      "SimCentral.Client.Auto loaded from: PATH\n"
     ]
    }
   ],
   "source": [
    "import numpy as np\n",
    "from opyrability import AIS2AOS_map, multimodel_rep, OI_eval #Operability algorigthms import from Opyrability library\n",
    "from scipy.io import savemat\n",
    "\n",
    "# Instantiating the required interfaces for the scripting interface\n",
    "\n",
    "sc = simcentralconnect.connect().Result\n",
    "sm = sc.GetService(\"ISimulationManager\")\n",
    "vm = sc.GetService(\"IVariableManager\")\n",
    "snap = sc.GetService(\"ISnapshotManager\")\n",
    "\n",
    "# Example of how to set options.  API logging is ON by default.  Disabled by changing to 'false'\n",
    "sc.SetOptions(repr({'Timeout': 100000, 'EnableApiLogging': 'false'}))"
   ]
  },
  {
   "cell_type": "markdown",
   "id": "410aca41-0810-462b-b36a-d389775e4fb3",
   "metadata": {},
   "source": [
    "<h2>Step 2: Calling the simulation file you want to work with:</h2>"
   ]
  },
  {
   "cell_type": "code",
   "execution_count": 27,
   "id": "0e590659-232a-4687-8164-9f7d399fdf09",
   "metadata": {},
   "outputs": [],
   "source": [
    "simFile = \"Mem_DAC_withouttrends\"\n",
    "simName = \"Sim 93\" #WARNING: Sometimes APS might rename your simulation as its opened so always make sure the name of the simulation you are working with aligns with the current opened simulation\n",
    "nameSnap = \"steady\" #Note: This is only required in case the user wants to set the simulation to a specific snapshot"
   ]
  },
  {
   "cell_type": "markdown",
   "id": "505152bd-ff4a-4355-9ef1-02bc2f2eed5c",
   "metadata": {},
   "source": [
    "<h2>Step 3: Function for double checking if simulation exist:</h2>"
   ]
  },
  {
   "cell_type": "code",
   "execution_count": 28,
   "id": "fa255559-e9f9-409f-bd16-9296eac81799",
   "metadata": {},
   "outputs": [
    {
     "data": {
      "text/plain": [
       "True"
      ]
     },
     "execution_count": 28,
     "metadata": {},
     "output_type": "execute_result"
    }
   ],
   "source": [
    "def open_simulation(simName):\n",
    "    opened = False\n",
    "    try:\n",
    "        opened = sm.OpenSimulation(simName).Result\n",
    "    except System.AggregateException as ex:\n",
    "        if not isinstance(ex.InnerException, System.InvalidOperationException) \\\n",
    "                or \"simulation doesn't exists\" not in ex.InnerException.Message:\n",
    "            raise\n",
    "    return opened\n",
    "\n",
    "\n",
    "\n",
    "open_simulation(simName)"
   ]
  },
  {
   "cell_type": "markdown",
   "id": "9572f16d-ce3e-44d3-a33a-d6a6a0a13e94",
   "metadata": {},
   "source": [
    "<h2>Step 4: Process model function to communicate with APS and Opyrability:</h2>"
   ]
  },
  {
   "cell_type": "code",
   "execution_count": null,
   "id": "cf88aaf7-a977-4200-b20e-ebc8916d4126",
   "metadata": {},
   "outputs": [],
   "source": [
    "def M(u):\n",
    "\n",
    "    y = np.zeros(2) #Prealocating outputs\n",
    "     \n",
    "    # Membrane properties case\n",
    "    \n",
    "    vm.SetVariableValue(simName, \"MDAC1.QCO2\", u[0], \"\", ).Result\n",
    "    vm.SetVariableValue(simName, \"MDAC1.Selectivity\", u[1], \"\", ).Result\n",
    "    vm.SetVariableValue(simName, \"MDAC2.QCO2\", u[0], \"\", ).Result\n",
    "    vm.SetVariableValue(simName, \"MDAC2.Selectivity\", u[1], \"\", ).Result\n",
    "\n",
    "    # --------- Checking solution status ----------------------------- \n",
    "    simstat = sm.GetSimulationStatus(simName).Result\n",
    "    print(str(simstat[0]),str(simstat[1]),str(simstat[2]))\n",
    "    print(u[0])\n",
    "    if (simstat[2]):\n",
    "        flag_conv = True\n",
    "    else:\n",
    "        flag_conv= False\n",
    "\n",
    "    if flag_conv is True:\n",
    "        \n",
    "        # ------------------ PRODUCTIVITY VARIABLES -----------------------------------------\n",
    "\n",
    "        feed_flow = vm.GetVariableValue(simName, \"Air_feed.F\", \"kmol/h\").Result\n",
    "        prod_F1 = vm.GetVariableValue(simName, \"Permeate1.F\", \"kmol/h\", ).Result\n",
    "        purity1 =  vm.GetVariableValue(simName, \"Permeate1.z[CO2]\", \"mol frac\", ).Result\n",
    "        Temp1 = vm.GetVariableValue(simName, \"Permeate1.T\", \"K\", ).Result   \n",
    "        prod_F2 = vm.GetVariableValue(simName, \"Product.F\", \"kmol/h\", ).Result            \n",
    "        purity2 =  vm.GetVariableValue(simName, \"Product.z[CO2]\", \"mol frac\", ).Result                \n",
    "        Temp2 = vm.GetVariableValue(simName, \"Permeate2.T\", \"K\", ).Result\n",
    "        prod_W = vm.GetVariableValue(simName, \"Product.W\", \"kg/h\", ).Result\n",
    "        \n",
    "        # --------------------- ENERGY VARIABLES ----------------------------------------\n",
    "        \n",
    "        comp1 = vm.GetVariableValue(simName, \"Comp1.Power\", \"kW\", ).Result\n",
    "        hx1 = vm.GetVariableValue(simName, \"Cooler1.Duty\", \"kW\", ).Result    \n",
    "        e1 = vm.GetVariableValue(simName, \"Heater1.Duty\", \"kW\", ).Result\n",
    "        blower = vm.GetVariableValue(simName, \"Blower.Power\", \"kW\", ).Result        \n",
    "        comp2 = vm.GetVariableValue(simName, \"Comp2.Power\", \"kW\", ).Result\n",
    "        hx2 = vm.GetVariableValue(simName, \"Cooler2.Duty\", \"kW\", ).Result                         \n",
    "        e2 = vm.GetVariableValue(simName, \"Heater2.Duty\", \"kW\", ).Result     \n",
    "        \n",
    "        # ---------------- AOS VARIABLES --------------------------------------------------\n",
    "                \n",
    "        # -------------------- Purity vs. Recovery case study ----------------------\n",
    "        y[0] = purity2*100\n",
    "        y[1] = 100*((prod_F2*purity2) / (feed_flow*0.000420))\n",
    "\n",
    "        # -------------------- Purity vs. Energy consumed case study ----------------------\n",
    "        #energy = abs(comp1) + abs(hx1) + abs(e1)+ abs(blower)+  abs(comp2) + abs(hx2) + abs(e2) #Energy in kWh\n",
    "        #y[1] = energy/(prod_W*purity2)\n",
    "\n",
    "        if flag_conv is True:\n",
    "                             \n",
    "            # ------------------- MEMBRANE PROPERTIES CASE -------------------------------\n",
    "            vm.SetVariableValue(simName, \"MDAC1.QCO2\", u[0], \"\", ).Result\n",
    "            vm.SetVariableValue(simName, \"MDAC1.Selectivity\", u[1], \"\", ).Result  \n",
    "            vm.SetVariableValue(simName, \"MDAC2.QCO2\", u[0], \"\", ).Result\n",
    "            vm.SetVariableValue(simName, \"MDAC2.Selectivity\", u[1], \"\", ).Result  \n",
    "            \n",
    "            # --------- Checking solution status again-----------------------------        \n",
    "            simstat = sm.GetSimulationStatus(simName).Result\n",
    "            print(u[0],\"failed\")\n",
    "            if (simstat[2]):\n",
    "                flag_conv = True\n",
    "            else:\n",
    "                flag_conv= False\n",
    "            \n",
    "            if flag_conv is True:\n",
    "            \n",
    "                # ------------------ PRODUCTIVITY VARIABLES -----------------------------------------\n",
    "\n",
    "                feed_flow = vm.GetVariableValue(simName, \"Air_feed.F\", \"kmol/h\").Result\n",
    "                prod_F1 = vm.GetVariableValue(simName, \"Permeate1.F\", \"kmol/h\", ).Result\n",
    "                purity1 =  vm.GetVariableValue(simName, \"Permeate1.z[CO2]\", \"mol frac\", ).Result\n",
    "                Temp1 = vm.GetVariableValue(simName, \"Permeate1.T\", \"K\", ).Result                \n",
    "                prod_F2 = vm.GetVariableValue(simName, \"Product.F\", \"kmol/h\", ).Result            \n",
    "                purity2 =  vm.GetVariableValue(simName, \"Product.z[CO2]\", \"mol frac\", ).Result                \n",
    "                Temp2 = vm.GetVariableValue(simName, \"Permeate2.T\", \"K\", ).Result                \n",
    "                prod_W = vm.GetVariableValue(simName, \"Product.W\", \"kg/h\", ).Result\n",
    "                \n",
    "                # --------------------- ENERGY VARIABLES ----------------------------------------\n",
    "                                \n",
    "                comp1 = vm.GetVariableValue(simName, \"Comp1.Power\", \"kW\", ).Result\n",
    "                hx1 = vm.GetVariableValue(simName, \"Cooler1.Duty\", \"kW\", ).Result\n",
    "                e1 = vm.GetVariableValue(simName, \"Heater1.Duty\", \"kW\", ).Result\n",
    "                blower = vm.GetVariableValue(simName, \"Blower.Power\", \"kW\", ).Result                \n",
    "                comp2 = vm.GetVariableValue(simName, \"Comp2.Power\", \"kW\", ).Result\n",
    "                hx2 = vm.GetVariableValue(simName, \"Cooler2.Duty\", \"kW\", ).Result                  \n",
    "                e2 = vm.GetVariableValue(simName, \"Heater2.Duty\", \"kW\", ).Result\n",
    "                \n",
    "                # ---------------- AOS VARIABLES --------------------------------------------------\n",
    "                \n",
    "                # -------------------- Purity vs. Recovery case study ----------------------\n",
    "                y[0] = purity2*100\n",
    "                y[1] = 100*((prod_F2*purity2) / (feed_flow*0.000420))\n",
    "\n",
    "                # -------------------- Purity vs. Energy consumed case study ----------------------\n",
    "                #energy = abs(comp1) + abs(hx1) + abs(e1)+ abs(blower)+  abs(comp2) + abs(hx2) + abs(e2) #Energy in kWh\n",
    "                #y[1] = energy/(prod_W*purity2)\n",
    "                \n",
    "            else:\n",
    "                pass\n",
    "            \n",
    "            \n",
    "    return y #Returning outputs for the Operability study"
   ]
  },
  {
   "cell_type": "markdown",
   "id": "f8b6a289-69c5-4bd2-ae18-f3af9f532e89",
   "metadata": {},
   "source": [
    "<h2>Step 5: Defining Operability study </h2>"
   ]
  },
  {
   "cell_type": "code",
   "execution_count": 30,
   "id": "d67abce0-75c6-4cdc-b7bb-1b9e4f82de2b",
   "metadata": {},
   "outputs": [
    {
     "name": "stdout",
     "output_type": "stream",
     "text": [
      "True True False\n",
      "3.35e-08\n",
      "True True False\n",
      "3.35e-08\n",
      "True True False\n",
      "1.700125e-06\n",
      "True True False\n",
      "3.3667500000000004e-06\n",
      "True True False\n",
      "5.033375e-06\n",
      "True True False\n",
      "6.7e-06\n",
      "True True False\n",
      "3.35e-08\n",
      "True True False\n",
      "1.700125e-06\n",
      "True True False\n",
      "3.3667500000000004e-06\n",
      "True True False\n",
      "5.033375e-06\n",
      "True True False\n",
      "6.7e-06\n",
      "True True False\n",
      "3.35e-08\n",
      "True True False\n",
      "1.700125e-06\n",
      "True True False\n",
      "3.3667500000000004e-06\n",
      "True True False\n",
      "5.033375e-06\n",
      "True True False\n",
      "6.7e-06\n",
      "True True False\n",
      "3.35e-08\n",
      "True True False\n",
      "1.700125e-06\n",
      "True True False\n",
      "3.3667500000000004e-06\n",
      "True True False\n",
      "5.033375e-06\n",
      "True True False\n",
      "6.7e-06\n",
      "True True False\n",
      "3.35e-08\n",
      "True True False\n",
      "1.700125e-06\n",
      "True True False\n",
      "3.3667500000000004e-06\n",
      "True True False\n",
      "5.033375e-06\n",
      "True True False\n",
      "6.7e-06\n"
     ]
    },
    {
     "data": {
      "image/png": "[encoded data removed]",
      "text/plain": [
       "<Figure size 960x720 with 2 Axes>"
      ]
     },
     "metadata": {},
     "output_type": "display_data"
    }
   ],
   "source": [
    "#---------------------- OPERABILIY STUDY --------------------------------------------------\n",
    "\n",
    "AIS_bounds =  np.array([[3.35e-8, 6.7e-06],[8, 2000]]) #AIS bounds definition for the 2 inputs x 2 outputs case study\n",
    "\n",
    "\n",
    "AIS_resolution =  [5,5] #AIS discretization definition for the 2 inputs x 2 outputs case study\n",
    "\n",
    "AIS, AOS = AIS2AOS_map(M, AIS_bounds, AIS_resolution) #Forwad mapping call for the 2 inputs x 2 outputs case study\n",
    "AIS_human = AIS.reshape(AIS.shape[0]*AIS.shape[1],-1)\n",
    "AOS_human = AOS.reshape(AOS.shape[0]*AOS.shape[1],-1)"
   ]
  }
 ],
 "metadata": {
  "kernelspec": {
   "display_name": "op-env",
   "language": "python",
   "name": "python3"
  },
  "language_info": {
   "codemirror_mode": {
    "name": "ipython",
    "version": 3
   },
   "file_extension": ".py",
   "mimetype": "text/x-python",
   "name": "python",
   "nbconvert_exporter": "python",
   "pygments_lexer": "ipython3",
   "version": "3.9.18"
  }
 },
 "nbformat": 4,
 "nbformat_minor": 5
}
