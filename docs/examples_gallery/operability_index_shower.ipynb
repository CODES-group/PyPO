{
 "cells": [
  {
   "attachments": {},
   "cell_type": "markdown",
   "id": "56036a99",
   "metadata": {},
   "source": [
    "Evaluation of the OI for the Shower Problem\n",
    "-------------------------------------------"
   ]
  },
  {
   "attachments": {},
   "cell_type": "markdown",
   "id": "ce644e65",
   "metadata": {},
   "source": [
    "As an introductory example, the shower problem will be assessed. Since its initial\n",
    "formulation {cite}`vinson00` it has been used thoroughly {cite}`georgakis00,gazzaneo18,gazzaneo19,gazzaneo20,lima10` in process operability research as a benchmark\n",
    "to either illustrate operability concepts or test new algorithms and approaches.\n",
    "\n",
    "The shower problem is easy to grasp but has an acceptable level of nonlinearity to be used as an illustrative example: The AIS/DIS variables corresponds to hot and cold flow rates from your shower knobs. The AOS/DOS\n",
    "variables are the total flow rate of your shower and its temperature. It is desired, in general:\n",
    "\n",
    "- A sufficient amount of flow rate for the shower\n",
    "- A comfortable temperature (neither too cold nor too hot).\n",
    "\n",
    "A simple schematic is found below:"
   ]
  },
  {
   "attachments": {},
   "cell_type": "markdown",
   "id": "38570be5",
   "metadata": {},
   "source": [
    "![](shower_oi_schematic.gif)"
   ]
  },
  {
   "attachments": {},
   "cell_type": "markdown",
   "id": "49434858",
   "metadata": {},
   "source": [
    "In the most simple \"variation\" of the shower problem, the model (algebraic) equations that define the process model $M$ {cite}`vinson00,lima10b` are:"
   ]
  },
  {
   "attachments": {},
   "cell_type": "markdown",
   "id": "a29ce6ef",
   "metadata": {},
   "source": [
    "$$\n",
    "\\left\\{\\begin{array}{c}\n",
    "y_1=u_1+u_2 \\\\\n",
    "y_2=\\frac{\\left(60 * u_1+120 * u_2\\right)}{\\left(u_1+u_2\\right)} \\\\\n",
    "\\text { if } y_1=0 \\rightarrow y_2=90\n",
    "\\end{array}\\right.\n",
    "$$"
   ]
  },
  {
   "attachments": {},
   "cell_type": "markdown",
   "id": "4fa2ee4b",
   "metadata": {},
   "source": [
    "With the essentials covered, let's start import PyPO's modules:"
   ]
  },
  {
   "cell_type": "code",
   "execution_count": null,
   "id": "b3a00ed3",
   "metadata": {
    "tags": [
     "remove-output"
    ]
   },
   "outputs": [],
   "source": [
    "from pypo import multimodel_rep, OI_eval\n",
    "import numpy as np"
   ]
  },
  {
   "attachments": {},
   "cell_type": "markdown",
   "id": "9dff3e0e",
   "metadata": {},
   "source": [
    "And defining the equations for the shower problem as a function:"
   ]
  },
  {
   "cell_type": "code",
   "execution_count": null,
   "id": "e03d2e26",
   "metadata": {},
   "outputs": [],
   "source": [
    "def shower_problem_2x2(u):\n",
    "    y = np.zeros(2)\n",
    "    y[0]=u[0]+u[1]\n",
    "    if y[0]!=0:\n",
    "        y[1]=(u[0]*60+u[1]*120)/(u[0]+u[1])\n",
    "    else:\n",
    "        y[1]=(60+120)/2\n",
    "        \n",
    "    return y"
   ]
  },
  {
   "attachments": {},
   "cell_type": "markdown",
   "id": "aecd9003",
   "metadata": {},
   "source": [
    "Defining the AIS and DOS Bounds:"
   ]
  },
  {
   "cell_type": "code",
   "execution_count": null,
   "id": "8d253e65",
   "metadata": {},
   "outputs": [],
   "source": [
    "DOS_bounds =  np.array([[10, 20], \n",
    "                        [70, 100]])\n",
    "\n",
    "AIS_bounds =  np.array([[1, 10],\n",
    "                        [1, 10]])\n",
    "\n",
    "AIS_resolution =  [5, 5]\n",
    "\n",
    "model =  shower_problem_2x2"
   ]
  },
  {
   "attachments": {},
   "cell_type": "markdown",
   "id": "bb9268a8",
   "metadata": {},
   "source": [
    "Then, obtaining the AOS from the AIS using the multimodel approach:"
   ]
  },
  {
   "cell_type": "code",
   "execution_count": null,
   "id": "d07a70dc",
   "metadata": {},
   "outputs": [],
   "source": [
    "AOS_region  =  multimodel_rep(model, AIS_bounds, AIS_resolution)"
   ]
  },
  {
   "attachments": {},
   "cell_type": "markdown",
   "id": "c0829704",
   "metadata": {},
   "source": [
    "Lastly, let's evaluate how operable the shower problem is, using the OI as a metric:"
   ]
  },
  {
   "cell_type": "code",
   "execution_count": null,
   "id": "f3849696",
   "metadata": {},
   "outputs": [],
   "source": [
    "OI = OI_eval(AOS_region, DOS_bounds)"
   ]
  },
  {
   "attachments": {},
   "cell_type": "markdown",
   "id": "1c00e472",
   "metadata": {},
   "source": [
    "The OI of $60.24\\%$ indicates that with the current limits of the AIS variables (hot and cold flow rates), \n",
    "the process is not fully operable!"
   ]
  }
 ],
 "metadata": {
  "kernelspec": {
   "display_name": "Python 3 (Spyder)",
   "language": "python3",
   "name": "python3"
  },
  "language_info": {
   "codemirror_mode": {
    "name": "ipython",
    "version": 3
   },
   "file_extension": ".py",
   "mimetype": "text/x-python",
   "name": "python",
   "nbconvert_exporter": "python",
   "pygments_lexer": "ipython3",
   "version": "3.9.13"
  }
 },
 "nbformat": 4,
 "nbformat_minor": 5
}
