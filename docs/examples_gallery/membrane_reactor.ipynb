{
 "cells": [
  {
   "attachments": {},
   "cell_type": "markdown",
   "metadata": {},
   "source": [
    "## Operability Analysis of a Membrane Reactor for Methane Aromatizaion and Hydrogen Production"
   ]
  },
  {
   "attachments": {},
   "cell_type": "markdown",
   "metadata": {},
   "source": [
    "This case study consists of a membrane reactor for direct methane aromatization (DMA-MR)\n",
    "that allows hydrogen and benzene production from natural gas. This single-unit operation is capable of performing reaction and separation simultaneously, allowing for achieving\n",
    "higher conversion of hydrogen due to Le'Chatelier's principle.\n",
    "\n",
    "The DMA-MR model has been extensively studied in process operability analysis due to\n",
    "its particular potential for system modularization and process intensification, as well as\n",
    "the challenging modeling due to its inherent nonlinearity."
   ]
  },
  {
   "attachments": {},
   "cell_type": "markdown",
   "metadata": {},
   "source": [
    "In this case study, some of pypo's features are highlighted, such as:\n",
    "\n",
    "-  Inverse mapping using state-of-the-art nonlinear programming solvers (e.g., Ipopt)\n",
    "-  Support for automatic differentiation\n",
    "-  Evaluation of operability sets for design and control objectives."
   ]
  },
  {
   "cell_type": "code",
   "execution_count": 73,
   "metadata": {},
   "outputs": [],
   "source": [
    "import jax.numpy as np\n",
    "from jax.numpy import pi as pi\n",
    "from jax.experimental.ode import odeint"
   ]
  },
  {
   "attachments": {},
   "cell_type": "markdown",
   "metadata": {},
   "source": [
    "Defining the Kinetic and general parameters for the DMA-MR model:"
   ]
  },
  {
   "cell_type": "code",
   "execution_count": 74,
   "metadata": {},
   "outputs": [],
   "source": [
    "# Kinetic and general parameters\n",
    "\n",
    "R = 8.314e6                 # [Pa.cm³/(K.mol.)]\n",
    "k1 = 0.04                   # [s-¹]\n",
    "k1_Inv = 6.40e6             # [cm³/s-mol]\n",
    "k2 = 4.20                   # [s-¹]\n",
    "k2_Inv = 56.38              # [cm³/s-mol]\n",
    "\n",
    "    \n",
    "# Molecular weights\n",
    "MM_B = 78.00     #[g/mol] \n",
    "\n",
    "# Fixed Reactor Values\n",
    "T = 1173.15                 # Temperature[K]  =900[°C] (Isothermal)\n",
    "Q = 3600 * 0.01e-4          # [mol/(h.cm².atm1/4)]\n",
    "selec = 1500\n",
    "\n",
    "# Tube side\n",
    "Pt = 101325.0               # Pressure [Pa](1atm)\n",
    "v0 = 3600 * (2 / 15)        # Vol. Flow rate [cm³ h-¹]\n",
    "Ft0 = Pt * v0 / (R * T)     # Initial molar flow rate[mol/h] - Pure CH4\n",
    "\n",
    "# Shell side\n",
    "Ps = 101325.0               # Pressure [Pa](1atm)\n",
    "ds = 3                      # Diameter[cm]\n",
    "v_He = 3600 * (1 / 6)       # Vol. flow rate[cm³/h]\n"
   ]
  },
  {
   "attachments": {},
   "cell_type": "markdown",
   "metadata": {},
   "source": [
    "Defining the DMA-MR Model equations (mol balances), compatible with Google's JAX:"
   ]
  },
  {
   "cell_type": "code",
   "execution_count": 75,
   "metadata": {},
   "outputs": [],
   "source": [
    "def dma_mr_model(F, z, dt,v_He,v0, F_He, Ft0):\n",
    "\n",
    "    At = 0.25 * np.pi * (dt ** 2)  # Cross sectional area[cm³]\n",
    "    \n",
    "    # Avoid negative flows that can happen in the first integration steps.\n",
    "    # Consequently this avoids that any molar balance (^ 1/4 terms) generates\n",
    "    # complex numbers.\n",
    "    F = np.where(F <= 1e-9, 1e-9, F)\n",
    "    \n",
    "    \n",
    "\n",
    "    \n",
    "    # Evaluate the total flow rate in the tube & shell.\n",
    "    Ft = F[0:4].sum()\n",
    "    Fs = F[4:].sum() + F_He\n",
    "    v = v0 * (Ft / Ft0)\n",
    "\n",
    "    # Concentrations from molar flow rates [mol/cm3]\n",
    "    C = F[:4] / v\n",
    "    # Partial pressures - Tube & Shell [mol/cm3]\n",
    "\n",
    "    P0t = (Pt / 101325) * (F[0] / Ft)\n",
    "    P1t = (Pt / 101325) * (F[1] / Ft)\n",
    "    P2t = (Pt / 101325) * (F[2] / Ft)\n",
    "    P3t = (Pt / 101325) * (F[3] / Ft)\n",
    "\n",
    "    P0s = (Ps / 101325) * (F[4] / Fs)\n",
    "    P1s = (Ps / 101325) * (F[5] / Fs)\n",
    "    P2s = (Ps / 101325) * (F[6] / Fs)\n",
    "    P3s = (Ps / 101325) * (F[7] / Fs)\n",
    "    \n",
    "    \n",
    "\n",
    "    \n",
    "    r0 = 3600 * k1 * C[0] * (1 - ((k1_Inv * C[1] * C[2] ** 2) / \n",
    "                                  (k1 * (C[0])**2 )))\n",
    "    \n",
    "\n",
    "    # This replicates an if statement whenever the concentrations are near zero\n",
    "    C0_aux = C[0]\n",
    "    r0 = np.where(C0_aux <= 1e-9, 0, r0)\n",
    "    \n",
    "    r1 = 3600 * k2 * C[1] * (1 - ((k2_Inv * C[3] * C[2] ** 3) / \n",
    "                                  (k2 * (C[1])**3 )))\n",
    "    \n",
    "\n",
    "    # Same as before\n",
    "    C1_aux = C[1]\n",
    "    r1 = np.where(C1_aux <= 1e-9 , 0, r1)  \n",
    "\n",
    "    # Molar balances adjustment with experimental data.\n",
    "    eff = 0.9\n",
    "    vb = 0.5\n",
    "    Cat = (1 - vb) * eff\n",
    "\n",
    "    # Molar balances dFdz - Tube (0 to 3) & Shell (4 to 7)\n",
    "    dF0 = -Cat * r0 * At - (Q / selec) * ((P0t ** 0.25) - (P0s ** 0.25)) * pi * dt\n",
    "    dF1 = 1 / 2 * Cat * r0 * At - Cat * r1 * At - (Q / selec) * ((P1t ** 0.25) - (P1s ** 0.25)) * pi * dt\n",
    "    dF2 = Cat * r0 * At + Cat * r1 * At- (Q) * ((P2t ** 0.25) - (P2s ** 0.25)) * pi * dt\n",
    "    dF3 = (1 / 3) * Cat * r1 * At - (Q / selec) * ((P3t ** 0.25) - (P3s ** 0.25)) * pi * dt\n",
    "    dF4 = (Q / selec) * ((P0t ** 0.25) - (P0s ** 0.25)) * pi * dt\n",
    "    dF5 = (Q / selec) * ((P1t ** 0.25) - (P1s ** 0.25)) * pi * dt\n",
    "    dF6 = (Q) * ((P2t ** 0.25) - (P2s ** 0.25)) * pi * dt\n",
    "    dF7 = (Q / selec) * ((P3t ** 0.25) - (P3s ** 0.25)) * pi * dt\n",
    "    \n",
    "    dFdz = np.array([ dF0, dF1, dF2, dF3, dF4, dF5, dF6, dF7 ])\n",
    "\n",
    "    return dFdz"
   ]
  },
  {
   "attachments": {},
   "cell_type": "markdown",
   "metadata": {},
   "source": [
    "### Analyzing a modular design region using operability inverse mapping"
   ]
  },
  {
   "attachments": {},
   "cell_type": "markdown",
   "metadata": {},
   "source": [
    "Defining the outputs based on the integration of the DMA-MR model equations.\n",
    "\n",
    "AIS/DIS Variables:\n",
    "- Length [cm]\n",
    "- Diameter [cm]\n",
    "\n",
    "AOS/DOS Variables:\n",
    "- Methane conversion [%]\n",
    "- Benzene production [mg/h]"
   ]
  },
  {
   "cell_type": "code",
   "execution_count": 76,
   "metadata": {},
   "outputs": [],
   "source": [
    "def dma_mr_design(u):\n",
    "\n",
    "    L =  u[0]\n",
    "    dt = u[1]\n",
    "\n",
    "    F_He = Ps * v_He / (R * T)  # Sweep gas molar flow rate [mol/h]\n",
    "    # Initial conditions\n",
    "    y0 = np.hstack((Ft0, np.zeros(7)))\n",
    "    rtol, atol = 1e-10, 1e-10\n",
    "\n",
    "    # Integration of mol balances using Jax's Dormand Prince\n",
    "    z = np.linspace(0, L, 2000)\n",
    "    F = odeint(dma_mr_model, y0, z, dt,v_He,v0, F_He, Ft0, rtol=rtol, atol=atol)\n",
    "    \n",
    "    # Calculating outputs (AOS/DOS) from states.\n",
    "    F_C6H6 = ((F[-1, 3] * 1000) * MM_B)\n",
    "    X_CH4  = (100 * (Ft0 - F[-1, 0] - F[-1, 4]) / Ft0)\n",
    "\n",
    "    return np.array([F_C6H6, X_CH4])"
   ]
  },
  {
   "attachments": {},
   "cell_type": "markdown",
   "metadata": {},
   "source": [
    "Importing pypo's inverse mapping (NLP-based)"
   ]
  },
  {
   "cell_type": "code",
   "execution_count": 77,
   "metadata": {
    "tags": [
     "remove-output"
    ]
   },
   "outputs": [],
   "source": [
    "from pypo import nlp_based_approach"
   ]
  },
  {
   "attachments": {},
   "cell_type": "markdown",
   "metadata": {},
   "source": [
    "Definition of operability sets and their bounds:"
   ]
  },
  {
   "cell_type": "code",
   "execution_count": 78,
   "metadata": {
    "tags": [
     "remove-output"
    ]
   },
   "outputs": [],
   "source": [
    "# Lower and upper bounds for DOS definition\n",
    "DOS_bounds = np.array([[15,25],\n",
    "                       [35,45]])\n",
    "\n",
    "# Discretization Grid - 10x10 grid for DOS.\n",
    "DOS_resolution =  [10, 10]\n",
    "\n",
    "# Lower and upper bounds of AIS design variables.\n",
    "lb = np.array([10,  0.1])\n",
    "ub = np.array([300, 2])\n",
    "\n",
    "# Initial estimate for NLP.\n",
    "u0 = np.array([50, 1])"
   ]
  },
  {
   "attachments": {},
   "cell_type": "markdown",
   "metadata": {},
   "source": [
    "Defining a nonlinear constraint $L/D \\geq 30 $ to the inverse mapping to guarantee\n",
    "plug-flow operation"
   ]
  },
  {
   "cell_type": "code",
   "execution_count": 79,
   "metadata": {},
   "outputs": [],
   "source": [
    "# Plug-flow constraint definition: Length/Diameter >= 30.\n",
    "def plug_flow(u):\n",
    "    return u[0] - 30.0*u[1]\n",
    "\n",
    "con= {'type': 'ineq', 'fun': plug_flow}"
   ]
  },
  {
   "attachments": {},
   "cell_type": "markdown",
   "metadata": {},
   "source": [
    "Obtaining the feasible desired input/output sets $(DIS^*/DOS^*)$ at each discretized point"
   ]
  },
  {
   "cell_type": "code",
   "execution_count": 80,
   "metadata": {
    "execution": {
     "timeout": 1000000000
    },
    "tags": []
   },
   "outputs": [
    {
     "name": "stdout",
     "output_type": "stream",
     "text": [
      " You have selected automatic differentiation as a method for obtaining higher-order data (Jacobians/Hessian). Make sure your process model is JAX-compatible implementation-wise.\n"
     ]
    },
    {
     "data": {
      "application/vnd.jupyter.widget-view+json": {
       "model_id": "2c91bbec565b4511b3dfcb43fb223073",
       "version_major": 2,
       "version_minor": 0
      },
      "text/plain": [
       "  0%|          | 0/100 [00:00<?, ?it/s]"
      ]
     },
     "metadata": {},
     "output_type": "display_data"
    },
    {
     "ename": "KeyboardInterrupt",
     "evalue": "",
     "output_type": "error",
     "traceback": [
      "\u001b[1;31m---------------------------------------------------------------------------\u001b[0m",
      "\u001b[1;31mKeyboardInterrupt\u001b[0m                         Traceback (most recent call last)",
      "\u001b[1;32m~\\AppData\\Local\\Temp\\ipykernel_18744\\507409542.py\u001b[0m in \u001b[0;36m<module>\u001b[1;34m\u001b[0m\n\u001b[0;32m      1\u001b[0m \u001b[1;31m# Model assignment: Design Problem - Inverse mapping\u001b[0m\u001b[1;33m\u001b[0m\u001b[1;33m\u001b[0m\u001b[0m\n\u001b[0;32m      2\u001b[0m \u001b[1;31m# Obtain inverse mapping.\u001b[0m\u001b[1;33m\u001b[0m\u001b[1;33m\u001b[0m\u001b[0m\n\u001b[1;32m----> 3\u001b[1;33m fDIS, fDOS, convergence = nlp_based_approach(DOS_bounds, \n\u001b[0m\u001b[0;32m      4\u001b[0m                                              \u001b[0mDOS_resolution\u001b[0m\u001b[1;33m,\u001b[0m\u001b[1;33m\u001b[0m\u001b[1;33m\u001b[0m\u001b[0m\n\u001b[0;32m      5\u001b[0m                                              \u001b[0mdma_mr_design\u001b[0m\u001b[1;33m,\u001b[0m\u001b[1;33m\u001b[0m\u001b[1;33m\u001b[0m\u001b[0m\n",
      "\u001b[1;32m~\\Documents\\python_operability\\python_operability\\src\\pypo.py\u001b[0m in \u001b[0;36mnlp_based_approach\u001b[1;34m(DOS_bounds, DOS_resolution, model, u0, lb, ub, constr, method, plot, ad, warmstart)\u001b[0m\n\u001b[0;32m    786\u001b[0m             \u001b[1;32mif\u001b[0m \u001b[0mmethod\u001b[0m \u001b[1;33m==\u001b[0m \u001b[1;34m'ipopt'\u001b[0m\u001b[1;33m:\u001b[0m\u001b[1;33m\u001b[0m\u001b[1;33m\u001b[0m\u001b[0m\n\u001b[0;32m    787\u001b[0m                 \u001b[1;32mif\u001b[0m \u001b[0mad\u001b[0m\u001b[1;33m==\u001b[0m\u001b[1;32mTrue\u001b[0m\u001b[1;33m:\u001b[0m\u001b[1;33m\u001b[0m\u001b[1;33m\u001b[0m\u001b[0m\n\u001b[1;32m--> 788\u001b[1;33m                     sol = minimize_ipopt(p1, x0=u0, bounds=bounds,\n\u001b[0m\u001b[0;32m    789\u001b[0m                                          \u001b[0mconstraints\u001b[0m\u001b[1;33m=\u001b[0m\u001b[1;33m(\u001b[0m\u001b[0mconstr\u001b[0m\u001b[1;33m)\u001b[0m\u001b[1;33m,\u001b[0m\u001b[1;33m\u001b[0m\u001b[1;33m\u001b[0m\u001b[0m\n\u001b[0;32m    790\u001b[0m                                          \u001b[0mjac\u001b[0m\u001b[1;33m=\u001b[0m\u001b[0mgrad_ad\u001b[0m\u001b[1;33m,\u001b[0m\u001b[1;33m\u001b[0m\u001b[1;33m\u001b[0m\u001b[0m\n",
      "\u001b[1;32mc:\\Users\\vc00004\\Anaconda3\\envs\\operability\\lib\\site-packages\\cyipopt\\scipy_interface.py\u001b[0m in \u001b[0;36mminimize_ipopt\u001b[1;34m(fun, x0, args, kwargs, method, jac, hess, hessp, bounds, constraints, tol, callback, options)\u001b[0m\n\u001b[0;32m    312\u001b[0m             \u001b[1;32mraise\u001b[0m \u001b[0mTypeError\u001b[0m\u001b[1;33m(\u001b[0m\u001b[0mmsg\u001b[0m\u001b[1;33m.\u001b[0m\u001b[0mformat\u001b[0m\u001b[1;33m(\u001b[0m\u001b[0moption\u001b[0m\u001b[1;33m,\u001b[0m \u001b[0mvalue\u001b[0m\u001b[1;33m,\u001b[0m \u001b[0me\u001b[0m\u001b[1;33m)\u001b[0m\u001b[1;33m)\u001b[0m\u001b[1;33m\u001b[0m\u001b[1;33m\u001b[0m\u001b[0m\n\u001b[0;32m    313\u001b[0m \u001b[1;33m\u001b[0m\u001b[0m\n\u001b[1;32m--> 314\u001b[1;33m     \u001b[0mx\u001b[0m\u001b[1;33m,\u001b[0m \u001b[0minfo\u001b[0m \u001b[1;33m=\u001b[0m \u001b[0mnlp\u001b[0m\u001b[1;33m.\u001b[0m\u001b[0msolve\u001b[0m\u001b[1;33m(\u001b[0m\u001b[0m_x0\u001b[0m\u001b[1;33m)\u001b[0m\u001b[1;33m\u001b[0m\u001b[1;33m\u001b[0m\u001b[0m\n\u001b[0m\u001b[0;32m    315\u001b[0m \u001b[1;33m\u001b[0m\u001b[0m\n\u001b[0;32m    316\u001b[0m     \u001b[1;32mif\u001b[0m \u001b[0mnp\u001b[0m\u001b[1;33m.\u001b[0m\u001b[0masarray\u001b[0m\u001b[1;33m(\u001b[0m\u001b[0mx0\u001b[0m\u001b[1;33m)\u001b[0m\u001b[1;33m.\u001b[0m\u001b[0mshape\u001b[0m \u001b[1;33m==\u001b[0m \u001b[1;33m(\u001b[0m\u001b[1;33m)\u001b[0m\u001b[1;33m:\u001b[0m\u001b[1;33m\u001b[0m\u001b[1;33m\u001b[0m\u001b[0m\n",
      "\u001b[1;32mc:\\Users\\vc00004\\Anaconda3\\envs\\operability\\lib\\site-packages\\cyipopt\\cython\\ipopt_wrapper.pyx\u001b[0m in \u001b[0;36mipopt_wrapper.Problem.solve\u001b[1;34m()\u001b[0m\n",
      "\u001b[1;32mc:\\Users\\vc00004\\Anaconda3\\envs\\operability\\lib\\site-packages\\cyipopt\\cython\\ipopt_wrapper.pyx\u001b[0m in \u001b[0;36mipopt_wrapper.objective_cb\u001b[1;34m()\u001b[0m\n",
      "\u001b[1;32mc:\\Users\\vc00004\\Anaconda3\\envs\\operability\\lib\\site-packages\\cyipopt\\scipy_interface.py\u001b[0m in \u001b[0;36mobjective\u001b[1;34m(self, x)\u001b[0m\n\u001b[0;32m    143\u001b[0m     \u001b[1;32mdef\u001b[0m \u001b[0mobjective\u001b[0m\u001b[1;33m(\u001b[0m\u001b[0mself\u001b[0m\u001b[1;33m,\u001b[0m \u001b[0mx\u001b[0m\u001b[1;33m)\u001b[0m\u001b[1;33m:\u001b[0m\u001b[1;33m\u001b[0m\u001b[1;33m\u001b[0m\u001b[0m\n\u001b[0;32m    144\u001b[0m         \u001b[0mself\u001b[0m\u001b[1;33m.\u001b[0m\u001b[0mnfev\u001b[0m \u001b[1;33m+=\u001b[0m \u001b[1;36m1\u001b[0m\u001b[1;33m\u001b[0m\u001b[1;33m\u001b[0m\u001b[0m\n\u001b[1;32m--> 145\u001b[1;33m         \u001b[1;32mreturn\u001b[0m \u001b[0mself\u001b[0m\u001b[1;33m.\u001b[0m\u001b[0mfun\u001b[0m\u001b[1;33m(\u001b[0m\u001b[0mx\u001b[0m\u001b[1;33m,\u001b[0m \u001b[1;33m*\u001b[0m\u001b[0mself\u001b[0m\u001b[1;33m.\u001b[0m\u001b[0margs\u001b[0m\u001b[1;33m,\u001b[0m \u001b[1;33m**\u001b[0m\u001b[0mself\u001b[0m\u001b[1;33m.\u001b[0m\u001b[0mkwargs\u001b[0m\u001b[1;33m)\u001b[0m\u001b[1;33m\u001b[0m\u001b[1;33m\u001b[0m\u001b[0m\n\u001b[0m\u001b[0;32m    146\u001b[0m \u001b[1;33m\u001b[0m\u001b[0m\n\u001b[0;32m    147\u001b[0m     \u001b[1;32mdef\u001b[0m \u001b[0mgradient\u001b[0m\u001b[1;33m(\u001b[0m\u001b[0mself\u001b[0m\u001b[1;33m,\u001b[0m \u001b[0mx\u001b[0m\u001b[1;33m,\u001b[0m \u001b[1;33m**\u001b[0m\u001b[0mkwargs\u001b[0m\u001b[1;33m)\u001b[0m\u001b[1;33m:\u001b[0m\u001b[1;33m\u001b[0m\u001b[1;33m\u001b[0m\u001b[0m\n",
      "\u001b[1;32m~\\Documents\\python_operability\\python_operability\\src\\pypo.py\u001b[0m in \u001b[0;36mp1\u001b[1;34m(u, model, DOSpt)\u001b[0m\n\u001b[0;32m    656\u001b[0m                DOSpt: np.ndarray):\n\u001b[0;32m    657\u001b[0m \u001b[1;33m\u001b[0m\u001b[0m\n\u001b[1;32m--> 658\u001b[1;33m             \u001b[0my_found\u001b[0m \u001b[1;33m=\u001b[0m \u001b[0mmodel\u001b[0m\u001b[1;33m(\u001b[0m\u001b[0mu\u001b[0m\u001b[1;33m)\u001b[0m\u001b[1;33m\u001b[0m\u001b[1;33m\u001b[0m\u001b[0m\n\u001b[0m\u001b[0;32m    659\u001b[0m \u001b[1;33m\u001b[0m\u001b[0m\n\u001b[0;32m    660\u001b[0m             \u001b[0mvector_of_f\u001b[0m \u001b[1;33m=\u001b[0m \u001b[0mnp\u001b[0m\u001b[1;33m.\u001b[0m\u001b[0marray\u001b[0m\u001b[1;33m(\u001b[0m\u001b[1;33m[\u001b[0m\u001b[0my_found\u001b[0m\u001b[1;33m.\u001b[0m\u001b[0mT\u001b[0m\u001b[1;33m,\u001b[0m \u001b[0mDOSpt\u001b[0m\u001b[1;33m.\u001b[0m\u001b[0mT\u001b[0m\u001b[1;33m]\u001b[0m\u001b[1;33m)\u001b[0m\u001b[1;33m\u001b[0m\u001b[1;33m\u001b[0m\u001b[0m\n",
      "\u001b[1;32m~\\AppData\\Local\\Temp\\ipykernel_18744\\1492600681.py\u001b[0m in \u001b[0;36mdma_mr_design\u001b[1;34m(u)\u001b[0m\n\u001b[0;32m      6\u001b[0m     \u001b[0mF_He\u001b[0m \u001b[1;33m=\u001b[0m \u001b[0mPs\u001b[0m \u001b[1;33m*\u001b[0m \u001b[0mv_He\u001b[0m \u001b[1;33m/\u001b[0m \u001b[1;33m(\u001b[0m\u001b[0mR\u001b[0m \u001b[1;33m*\u001b[0m \u001b[0mT\u001b[0m\u001b[1;33m)\u001b[0m  \u001b[1;31m# Sweep gas molar flow rate [mol/h]\u001b[0m\u001b[1;33m\u001b[0m\u001b[1;33m\u001b[0m\u001b[0m\n\u001b[0;32m      7\u001b[0m     \u001b[1;31m# Initial conditions\u001b[0m\u001b[1;33m\u001b[0m\u001b[1;33m\u001b[0m\u001b[0m\n\u001b[1;32m----> 8\u001b[1;33m     \u001b[0my0\u001b[0m \u001b[1;33m=\u001b[0m \u001b[0mnp\u001b[0m\u001b[1;33m.\u001b[0m\u001b[0mhstack\u001b[0m\u001b[1;33m(\u001b[0m\u001b[1;33m(\u001b[0m\u001b[0mFt0\u001b[0m\u001b[1;33m,\u001b[0m \u001b[0mnp\u001b[0m\u001b[1;33m.\u001b[0m\u001b[0mzeros\u001b[0m\u001b[1;33m(\u001b[0m\u001b[1;36m7\u001b[0m\u001b[1;33m)\u001b[0m\u001b[1;33m)\u001b[0m\u001b[1;33m)\u001b[0m\u001b[1;33m\u001b[0m\u001b[1;33m\u001b[0m\u001b[0m\n\u001b[0m\u001b[0;32m      9\u001b[0m     \u001b[0mrtol\u001b[0m\u001b[1;33m,\u001b[0m \u001b[0matol\u001b[0m \u001b[1;33m=\u001b[0m \u001b[1;36m1e-10\u001b[0m\u001b[1;33m,\u001b[0m \u001b[1;36m1e-10\u001b[0m\u001b[1;33m\u001b[0m\u001b[1;33m\u001b[0m\u001b[0m\n\u001b[0;32m     10\u001b[0m \u001b[1;33m\u001b[0m\u001b[0m\n",
      "\u001b[1;32mc:\\Users\\vc00004\\Anaconda3\\envs\\operability\\lib\\site-packages\\jax\\_src\\numpy\\lax_numpy.py\u001b[0m in \u001b[0;36mzeros\u001b[1;34m(shape, dtype)\u001b[0m\n\u001b[0;32m   1966\u001b[0m   \u001b[0mlax_internal\u001b[0m\u001b[1;33m.\u001b[0m\u001b[0m_check_user_dtype_supported\u001b[0m\u001b[1;33m(\u001b[0m\u001b[0mdtype\u001b[0m\u001b[1;33m,\u001b[0m \u001b[1;34m\"zeros\"\u001b[0m\u001b[1;33m)\u001b[0m\u001b[1;33m\u001b[0m\u001b[1;33m\u001b[0m\u001b[0m\n\u001b[0;32m   1967\u001b[0m   \u001b[0mshape\u001b[0m \u001b[1;33m=\u001b[0m \u001b[0mcanonicalize_shape\u001b[0m\u001b[1;33m(\u001b[0m\u001b[0mshape\u001b[0m\u001b[1;33m)\u001b[0m\u001b[1;33m\u001b[0m\u001b[1;33m\u001b[0m\u001b[0m\n\u001b[1;32m-> 1968\u001b[1;33m   \u001b[1;32mreturn\u001b[0m \u001b[0mlax\u001b[0m\u001b[1;33m.\u001b[0m\u001b[0mfull\u001b[0m\u001b[1;33m(\u001b[0m\u001b[0mshape\u001b[0m\u001b[1;33m,\u001b[0m \u001b[1;36m0\u001b[0m\u001b[1;33m,\u001b[0m \u001b[0m_jnp_dtype\u001b[0m\u001b[1;33m(\u001b[0m\u001b[0mdtype\u001b[0m\u001b[1;33m)\u001b[0m\u001b[1;33m)\u001b[0m\u001b[1;33m\u001b[0m\u001b[1;33m\u001b[0m\u001b[0m\n\u001b[0m\u001b[0;32m   1969\u001b[0m \u001b[1;33m\u001b[0m\u001b[0m\n\u001b[0;32m   1970\u001b[0m \u001b[1;33m@\u001b[0m\u001b[0m_wraps\u001b[0m\u001b[1;33m(\u001b[0m\u001b[0mnp\u001b[0m\u001b[1;33m.\u001b[0m\u001b[0mones\u001b[0m\u001b[1;33m)\u001b[0m\u001b[1;33m\u001b[0m\u001b[1;33m\u001b[0m\u001b[0m\n",
      "\u001b[1;32mc:\\Users\\vc00004\\Anaconda3\\envs\\operability\\lib\\site-packages\\jax\\_src\\lax\\lax.py\u001b[0m in \u001b[0;36mfull\u001b[1;34m(shape, fill_value, dtype)\u001b[0m\n\u001b[0;32m   1097\u001b[0m   \u001b[0mdtype\u001b[0m \u001b[1;33m=\u001b[0m \u001b[0mdtypes\u001b[0m\u001b[1;33m.\u001b[0m\u001b[0mcanonicalize_dtype\u001b[0m\u001b[1;33m(\u001b[0m\u001b[0mdtype\u001b[0m \u001b[1;32mor\u001b[0m \u001b[0m_dtype\u001b[0m\u001b[1;33m(\u001b[0m\u001b[0mfill_value\u001b[0m\u001b[1;33m)\u001b[0m\u001b[1;33m)\u001b[0m\u001b[1;33m\u001b[0m\u001b[1;33m\u001b[0m\u001b[0m\n\u001b[0;32m   1098\u001b[0m   \u001b[0mfill_value\u001b[0m \u001b[1;33m=\u001b[0m \u001b[0m_convert_element_type\u001b[0m\u001b[1;33m(\u001b[0m\u001b[0mfill_value\u001b[0m\u001b[1;33m,\u001b[0m \u001b[0mdtype\u001b[0m\u001b[1;33m,\u001b[0m \u001b[0mweak_type\u001b[0m\u001b[1;33m)\u001b[0m\u001b[1;33m\u001b[0m\u001b[1;33m\u001b[0m\u001b[0m\n\u001b[1;32m-> 1099\u001b[1;33m   \u001b[1;32mreturn\u001b[0m \u001b[0mbroadcast\u001b[0m\u001b[1;33m(\u001b[0m\u001b[0mfill_value\u001b[0m\u001b[1;33m,\u001b[0m \u001b[0mshape\u001b[0m\u001b[1;33m)\u001b[0m\u001b[1;33m\u001b[0m\u001b[1;33m\u001b[0m\u001b[0m\n\u001b[0m\u001b[0;32m   1100\u001b[0m \u001b[1;33m\u001b[0m\u001b[0m\n\u001b[0;32m   1101\u001b[0m \u001b[1;32mdef\u001b[0m \u001b[0mzeros_like_shaped_array\u001b[0m\u001b[1;33m(\u001b[0m\u001b[0maval\u001b[0m\u001b[1;33m:\u001b[0m \u001b[0mArray\u001b[0m\u001b[1;33m)\u001b[0m \u001b[1;33m->\u001b[0m \u001b[0mArray\u001b[0m\u001b[1;33m:\u001b[0m\u001b[1;33m\u001b[0m\u001b[1;33m\u001b[0m\u001b[0m\n",
      "\u001b[1;32mc:\\Users\\vc00004\\Anaconda3\\envs\\operability\\lib\\site-packages\\jax\\_src\\lax\\lax.py\u001b[0m in \u001b[0;36mbroadcast\u001b[1;34m(operand, sizes)\u001b[0m\n\u001b[0;32m    715\u001b[0m   \"\"\"\n\u001b[0;32m    716\u001b[0m   \u001b[0mdims\u001b[0m \u001b[1;33m=\u001b[0m \u001b[0mtuple\u001b[0m\u001b[1;33m(\u001b[0m\u001b[0mrange\u001b[0m\u001b[1;33m(\u001b[0m\u001b[0mlen\u001b[0m\u001b[1;33m(\u001b[0m\u001b[0msizes\u001b[0m\u001b[1;33m)\u001b[0m\u001b[1;33m,\u001b[0m \u001b[0mlen\u001b[0m\u001b[1;33m(\u001b[0m\u001b[0msizes\u001b[0m\u001b[1;33m)\u001b[0m \u001b[1;33m+\u001b[0m \u001b[0mnp\u001b[0m\u001b[1;33m.\u001b[0m\u001b[0mndim\u001b[0m\u001b[1;33m(\u001b[0m\u001b[0moperand\u001b[0m\u001b[1;33m)\u001b[0m\u001b[1;33m)\u001b[0m\u001b[1;33m)\u001b[0m\u001b[1;33m\u001b[0m\u001b[1;33m\u001b[0m\u001b[0m\n\u001b[1;32m--> 717\u001b[1;33m   \u001b[1;32mreturn\u001b[0m \u001b[0mbroadcast_in_dim\u001b[0m\u001b[1;33m(\u001b[0m\u001b[0moperand\u001b[0m\u001b[1;33m,\u001b[0m \u001b[0mtuple\u001b[0m\u001b[1;33m(\u001b[0m\u001b[0msizes\u001b[0m\u001b[1;33m)\u001b[0m \u001b[1;33m+\u001b[0m \u001b[0mnp\u001b[0m\u001b[1;33m.\u001b[0m\u001b[0mshape\u001b[0m\u001b[1;33m(\u001b[0m\u001b[0moperand\u001b[0m\u001b[1;33m)\u001b[0m\u001b[1;33m,\u001b[0m \u001b[0mdims\u001b[0m\u001b[1;33m)\u001b[0m\u001b[1;33m\u001b[0m\u001b[1;33m\u001b[0m\u001b[0m\n\u001b[0m\u001b[0;32m    718\u001b[0m \u001b[1;33m\u001b[0m\u001b[0m\n\u001b[0;32m    719\u001b[0m def broadcast_in_dim(operand: Array, shape: Shape,\n",
      "\u001b[1;32mc:\\Users\\vc00004\\Anaconda3\\envs\\operability\\lib\\site-packages\\jax\\_src\\lax\\lax.py\u001b[0m in \u001b[0;36mbroadcast_in_dim\u001b[1;34m(operand, shape, broadcast_dimensions)\u001b[0m\n\u001b[0;32m    746\u001b[0m     \u001b[0mdyn_shape\u001b[0m \u001b[1;33m=\u001b[0m \u001b[1;33m[\u001b[0m\u001b[1;33m]\u001b[0m\u001b[1;33m\u001b[0m\u001b[1;33m\u001b[0m\u001b[0m\n\u001b[0;32m    747\u001b[0m     \u001b[0mshape_\u001b[0m \u001b[1;33m=\u001b[0m \u001b[0mshape\u001b[0m  \u001b[1;31m# type: ignore\u001b[0m\u001b[1;33m\u001b[0m\u001b[1;33m\u001b[0m\u001b[0m\n\u001b[1;32m--> 748\u001b[1;33m   return broadcast_in_dim_p.bind(\n\u001b[0m\u001b[0;32m    749\u001b[0m       \u001b[0moperand\u001b[0m\u001b[1;33m,\u001b[0m \u001b[1;33m*\u001b[0m\u001b[0mdyn_shape\u001b[0m\u001b[1;33m,\u001b[0m \u001b[0mshape\u001b[0m\u001b[1;33m=\u001b[0m\u001b[0mtuple\u001b[0m\u001b[1;33m(\u001b[0m\u001b[0mshape_\u001b[0m\u001b[1;33m)\u001b[0m\u001b[1;33m,\u001b[0m\u001b[1;33m\u001b[0m\u001b[1;33m\u001b[0m\u001b[0m\n\u001b[0;32m    750\u001b[0m       broadcast_dimensions=tuple(broadcast_dimensions))\n",
      "\u001b[1;32mc:\\Users\\vc00004\\Anaconda3\\envs\\operability\\lib\\site-packages\\jax\\core.py\u001b[0m in \u001b[0;36mbind\u001b[1;34m(self, *args, **params)\u001b[0m\n\u001b[0;32m    325\u001b[0m     assert (not config.jax_enable_checks or\n\u001b[0;32m    326\u001b[0m             all(isinstance(arg, Tracer) or valid_jaxtype(arg) for arg in args)), args\n\u001b[1;32m--> 327\u001b[1;33m     \u001b[1;32mreturn\u001b[0m \u001b[0mself\u001b[0m\u001b[1;33m.\u001b[0m\u001b[0mbind_with_trace\u001b[0m\u001b[1;33m(\u001b[0m\u001b[0mfind_top_trace\u001b[0m\u001b[1;33m(\u001b[0m\u001b[0margs\u001b[0m\u001b[1;33m)\u001b[0m\u001b[1;33m,\u001b[0m \u001b[0margs\u001b[0m\u001b[1;33m,\u001b[0m \u001b[0mparams\u001b[0m\u001b[1;33m)\u001b[0m\u001b[1;33m\u001b[0m\u001b[1;33m\u001b[0m\u001b[0m\n\u001b[0m\u001b[0;32m    328\u001b[0m \u001b[1;33m\u001b[0m\u001b[0m\n\u001b[0;32m    329\u001b[0m   \u001b[1;32mdef\u001b[0m \u001b[0mbind_with_trace\u001b[0m\u001b[1;33m(\u001b[0m\u001b[0mself\u001b[0m\u001b[1;33m,\u001b[0m \u001b[0mtrace\u001b[0m\u001b[1;33m,\u001b[0m \u001b[0margs\u001b[0m\u001b[1;33m,\u001b[0m \u001b[0mparams\u001b[0m\u001b[1;33m)\u001b[0m\u001b[1;33m:\u001b[0m\u001b[1;33m\u001b[0m\u001b[1;33m\u001b[0m\u001b[0m\n",
      "\u001b[1;32mc:\\Users\\vc00004\\Anaconda3\\envs\\operability\\lib\\site-packages\\jax\\core.py\u001b[0m in \u001b[0;36mbind_with_trace\u001b[1;34m(self, trace, args, params)\u001b[0m\n\u001b[0;32m    328\u001b[0m \u001b[1;33m\u001b[0m\u001b[0m\n\u001b[0;32m    329\u001b[0m   \u001b[1;32mdef\u001b[0m \u001b[0mbind_with_trace\u001b[0m\u001b[1;33m(\u001b[0m\u001b[0mself\u001b[0m\u001b[1;33m,\u001b[0m \u001b[0mtrace\u001b[0m\u001b[1;33m,\u001b[0m \u001b[0margs\u001b[0m\u001b[1;33m,\u001b[0m \u001b[0mparams\u001b[0m\u001b[1;33m)\u001b[0m\u001b[1;33m:\u001b[0m\u001b[1;33m\u001b[0m\u001b[1;33m\u001b[0m\u001b[0m\n\u001b[1;32m--> 330\u001b[1;33m     \u001b[0mout\u001b[0m \u001b[1;33m=\u001b[0m \u001b[0mtrace\u001b[0m\u001b[1;33m.\u001b[0m\u001b[0mprocess_primitive\u001b[0m\u001b[1;33m(\u001b[0m\u001b[0mself\u001b[0m\u001b[1;33m,\u001b[0m \u001b[0mmap\u001b[0m\u001b[1;33m(\u001b[0m\u001b[0mtrace\u001b[0m\u001b[1;33m.\u001b[0m\u001b[0mfull_raise\u001b[0m\u001b[1;33m,\u001b[0m \u001b[0margs\u001b[0m\u001b[1;33m)\u001b[0m\u001b[1;33m,\u001b[0m \u001b[0mparams\u001b[0m\u001b[1;33m)\u001b[0m\u001b[1;33m\u001b[0m\u001b[1;33m\u001b[0m\u001b[0m\n\u001b[0m\u001b[0;32m    331\u001b[0m     \u001b[1;32mreturn\u001b[0m \u001b[0mmap\u001b[0m\u001b[1;33m(\u001b[0m\u001b[0mfull_lower\u001b[0m\u001b[1;33m,\u001b[0m \u001b[0mout\u001b[0m\u001b[1;33m)\u001b[0m \u001b[1;32mif\u001b[0m \u001b[0mself\u001b[0m\u001b[1;33m.\u001b[0m\u001b[0mmultiple_results\u001b[0m \u001b[1;32melse\u001b[0m \u001b[0mfull_lower\u001b[0m\u001b[1;33m(\u001b[0m\u001b[0mout\u001b[0m\u001b[1;33m)\u001b[0m\u001b[1;33m\u001b[0m\u001b[1;33m\u001b[0m\u001b[0m\n\u001b[0;32m    332\u001b[0m \u001b[1;33m\u001b[0m\u001b[0m\n",
      "\u001b[1;32mc:\\Users\\vc00004\\Anaconda3\\envs\\operability\\lib\\site-packages\\jax\\core.py\u001b[0m in \u001b[0;36mprocess_primitive\u001b[1;34m(self, primitive, tracers, params)\u001b[0m\n\u001b[0;32m    678\u001b[0m \u001b[1;33m\u001b[0m\u001b[0m\n\u001b[0;32m    679\u001b[0m   \u001b[1;32mdef\u001b[0m \u001b[0mprocess_primitive\u001b[0m\u001b[1;33m(\u001b[0m\u001b[0mself\u001b[0m\u001b[1;33m,\u001b[0m \u001b[0mprimitive\u001b[0m\u001b[1;33m,\u001b[0m \u001b[0mtracers\u001b[0m\u001b[1;33m,\u001b[0m \u001b[0mparams\u001b[0m\u001b[1;33m)\u001b[0m\u001b[1;33m:\u001b[0m\u001b[1;33m\u001b[0m\u001b[1;33m\u001b[0m\u001b[0m\n\u001b[1;32m--> 680\u001b[1;33m     \u001b[1;32mreturn\u001b[0m \u001b[0mprimitive\u001b[0m\u001b[1;33m.\u001b[0m\u001b[0mimpl\u001b[0m\u001b[1;33m(\u001b[0m\u001b[1;33m*\u001b[0m\u001b[0mtracers\u001b[0m\u001b[1;33m,\u001b[0m \u001b[1;33m**\u001b[0m\u001b[0mparams\u001b[0m\u001b[1;33m)\u001b[0m\u001b[1;33m\u001b[0m\u001b[1;33m\u001b[0m\u001b[0m\n\u001b[0m\u001b[0;32m    681\u001b[0m \u001b[1;33m\u001b[0m\u001b[0m\n\u001b[0;32m    682\u001b[0m   \u001b[1;32mdef\u001b[0m \u001b[0mprocess_call\u001b[0m\u001b[1;33m(\u001b[0m\u001b[0mself\u001b[0m\u001b[1;33m,\u001b[0m \u001b[0mprimitive\u001b[0m\u001b[1;33m,\u001b[0m \u001b[0mf\u001b[0m\u001b[1;33m,\u001b[0m \u001b[0mtracers\u001b[0m\u001b[1;33m,\u001b[0m \u001b[0mparams\u001b[0m\u001b[1;33m)\u001b[0m\u001b[1;33m:\u001b[0m\u001b[1;33m\u001b[0m\u001b[1;33m\u001b[0m\u001b[0m\n",
      "\u001b[1;32mc:\\Users\\vc00004\\Anaconda3\\envs\\operability\\lib\\site-packages\\jax\\_src\\dispatch.py\u001b[0m in \u001b[0;36mapply_primitive\u001b[1;34m(prim, *args, **params)\u001b[0m\n\u001b[0;32m     99\u001b[0m   compiled_fun = xla_primitive_callable(prim, *unsafe_map(arg_spec, args),\n\u001b[0;32m    100\u001b[0m                                         **params)\n\u001b[1;32m--> 101\u001b[1;33m   \u001b[1;32mreturn\u001b[0m \u001b[0mcompiled_fun\u001b[0m\u001b[1;33m(\u001b[0m\u001b[1;33m*\u001b[0m\u001b[0margs\u001b[0m\u001b[1;33m)\u001b[0m\u001b[1;33m\u001b[0m\u001b[1;33m\u001b[0m\u001b[0m\n\u001b[0m\u001b[0;32m    102\u001b[0m \u001b[1;33m\u001b[0m\u001b[0m\n\u001b[0;32m    103\u001b[0m \u001b[1;31m# TODO(phawkins): update code referring to xla.apply_primitive to point here.\u001b[0m\u001b[1;33m\u001b[0m\u001b[1;33m\u001b[0m\u001b[0m\n",
      "\u001b[1;32mc:\\Users\\vc00004\\Anaconda3\\envs\\operability\\lib\\site-packages\\jax\\_src\\dispatch.py\u001b[0m in \u001b[0;36m<lambda>\u001b[1;34m(*args, **kw)\u001b[0m\n\u001b[0;32m    165\u001b[0m                                     prim.name, donated_invars, False, *arg_specs)\n\u001b[0;32m    166\u001b[0m   \u001b[1;32mif\u001b[0m \u001b[1;32mnot\u001b[0m \u001b[0mprim\u001b[0m\u001b[1;33m.\u001b[0m\u001b[0mmultiple_results\u001b[0m\u001b[1;33m:\u001b[0m\u001b[1;33m\u001b[0m\u001b[1;33m\u001b[0m\u001b[0m\n\u001b[1;32m--> 167\u001b[1;33m     \u001b[1;32mreturn\u001b[0m \u001b[1;32mlambda\u001b[0m \u001b[1;33m*\u001b[0m\u001b[0margs\u001b[0m\u001b[1;33m,\u001b[0m \u001b[1;33m**\u001b[0m\u001b[0mkw\u001b[0m\u001b[1;33m:\u001b[0m \u001b[0mcompiled\u001b[0m\u001b[1;33m(\u001b[0m\u001b[1;33m*\u001b[0m\u001b[0margs\u001b[0m\u001b[1;33m,\u001b[0m \u001b[1;33m**\u001b[0m\u001b[0mkw\u001b[0m\u001b[1;33m)\u001b[0m\u001b[1;33m[\u001b[0m\u001b[1;36m0\u001b[0m\u001b[1;33m]\u001b[0m\u001b[1;33m\u001b[0m\u001b[1;33m\u001b[0m\u001b[0m\n\u001b[0m\u001b[0;32m    168\u001b[0m   \u001b[1;32melse\u001b[0m\u001b[1;33m:\u001b[0m\u001b[1;33m\u001b[0m\u001b[1;33m\u001b[0m\u001b[0m\n\u001b[0;32m    169\u001b[0m     \u001b[1;32mreturn\u001b[0m \u001b[0mcompiled\u001b[0m\u001b[1;33m\u001b[0m\u001b[1;33m\u001b[0m\u001b[0m\n",
      "\u001b[1;32mc:\\Users\\vc00004\\Anaconda3\\envs\\operability\\lib\\site-packages\\jax\\_src\\dispatch.py\u001b[0m in \u001b[0;36m_execute_compiled\u001b[1;34m(name, compiled, input_handler, output_buffer_counts, result_handler, has_unordered_effects, ordered_effects, kept_var_idx, *args)\u001b[0m\n\u001b[0;32m    715\u001b[0m     in_flat, token_handler = _add_tokens(has_unordered_effects, ordered_effects,\n\u001b[0;32m    716\u001b[0m                                          device, in_flat)\n\u001b[1;32m--> 717\u001b[1;33m   \u001b[0mout_flat\u001b[0m \u001b[1;33m=\u001b[0m \u001b[0mcompiled\u001b[0m\u001b[1;33m.\u001b[0m\u001b[0mexecute\u001b[0m\u001b[1;33m(\u001b[0m\u001b[0min_flat\u001b[0m\u001b[1;33m)\u001b[0m\u001b[1;33m\u001b[0m\u001b[1;33m\u001b[0m\u001b[0m\n\u001b[0m\u001b[0;32m    718\u001b[0m   \u001b[0mcheck_special\u001b[0m\u001b[1;33m(\u001b[0m\u001b[0mname\u001b[0m\u001b[1;33m,\u001b[0m \u001b[0mout_flat\u001b[0m\u001b[1;33m)\u001b[0m\u001b[1;33m\u001b[0m\u001b[1;33m\u001b[0m\u001b[0m\n\u001b[0;32m    719\u001b[0m   \u001b[0mout_bufs\u001b[0m \u001b[1;33m=\u001b[0m \u001b[0munflatten\u001b[0m\u001b[1;33m(\u001b[0m\u001b[0mout_flat\u001b[0m\u001b[1;33m,\u001b[0m \u001b[0moutput_buffer_counts\u001b[0m\u001b[1;33m)\u001b[0m\u001b[1;33m\u001b[0m\u001b[1;33m\u001b[0m\u001b[0m\n",
      "\u001b[1;31mKeyboardInterrupt\u001b[0m: "
     ]
    }
   ],
   "source": [
    "# Model assignment: Design Problem - Inverse mapping\n",
    "# Obtain inverse mapping.                                                 \n",
    "fDIS, fDOS, convergence = nlp_based_approach(DOS_bounds, \n",
    "                                             DOS_resolution,\n",
    "                                             dma_mr_design, \n",
    "                                             u0,\n",
    "                                             lb,\n",
    "                                             ub,\n",
    "                                             constr=(con),\n",
    "                                             method='ipopt',\n",
    "                                             plot=True,\n",
    "                                             ad=True,\n",
    "                                             warmstart=True)"
   ]
  },
  {
   "attachments": {},
   "cell_type": "markdown",
   "metadata": {},
   "source": [
    "The inverse mapping shows that there is a design region of tube length around  0.5cm and a tube diameter of 17cm that can still attain the requirement of the DOS."
   ]
  },
  {
   "attachments": {},
   "cell_type": "markdown",
   "metadata": {},
   "source": [
    "### Analyzing the Operability Index (OI) for operational changes (manipulated variables)"
   ]
  },
  {
   "attachments": {},
   "cell_type": "markdown",
   "metadata": {},
   "source": [
    "With a fixed modular design of \n",
    "- Tube length = 17 cm\n",
    "- Tube diameter = 0.5 cm\n",
    "\n",
    "The manipulated variables of the DMA-MR (namely, shell and tube flow rates) are\n",
    "to be analyzed, being the AIS variables for this analysis. As before, the same \n",
    "AOS/DOS variables will be kept to observe if the system is operable under the fixed\n",
    "modular design and vary the manipulated variable throughout their available range."
   ]
  },
  {
   "attachments": {},
   "cell_type": "markdown",
   "metadata": {},
   "source": [
    "Let's import PyPO's multimodel approach and OI evaluation modules:"
   ]
  },
  {
   "cell_type": "code",
   "execution_count": null,
   "metadata": {},
   "outputs": [],
   "source": [
    "from pypo import multimodel_rep, OI_eval"
   ]
  },
  {
   "attachments": {},
   "cell_type": "markdown",
   "metadata": {},
   "source": [
    "And define a function to calculate the AIS-AOS for the manipulated variables:"
   ]
  },
  {
   "cell_type": "code",
   "execution_count": null,
   "metadata": {},
   "outputs": [],
   "source": [
    "def dma_mr_mvs(u):\n",
    "\n",
    "    v0  = u[0]             # Vol. Flow rate [cm³ h-¹]\n",
    "    v_He = u[1]            # Vol. flow rate[cm³/h]\n",
    "    \n",
    "    L =  17.22876          # [cm]\n",
    "    dt = 0.56335           # [cm]\n",
    "\n",
    "    Ft0 = Pt*v0/(R*T)         # Initial molar flow rate [mol/h] - Pure CH4\n",
    "    \n",
    "    F_He = Ps * v_He / (R * T)  # Sweep gas molar flow rate [mol/h]\n",
    "    \n",
    "\n",
    "    # Initial conditions\n",
    "    y0 = np.hstack((Ft0, np.zeros(7)))\n",
    "    rtol, atol = 1e-10, 1e-10\n",
    "\n",
    "    # Integration of mol balances using Jax's Dormand Prince\n",
    "    z = np.linspace(0, L, 2000)\n",
    "    F = odeint(dma_mr_model, y0, z, dt, v_He,v0, F_He, rtol=rtol, atol=atol)\n",
    "    \n",
    "    # Calculating outputs (AOS/DOS) from states.\n",
    "    F_C6H6 = ((F[-1, 3] * 1000) * MM_B)\n",
    "    X_CH4  = (100 * (Ft0 - F[-1, 0] - F[-1, 4]) / Ft0)\n",
    "\n",
    "    return np.array([F_C6H6, X_CH4])"
   ]
  },
  {
   "cell_type": "code",
   "execution_count": null,
   "metadata": {},
   "outputs": [],
   "source": [
    "#Defining DOS bounds\n",
    "from pypo import AIS2AOS_map\n",
    "DOS_bounds =  np.array([[70, 80], [30, 45]])\n",
    "\n",
    "AIS_bounds =  np.array([[600, 1800],\n",
    "                    [600, 1800]])\n",
    "\n",
    "AIS_resolution =  [5, 5]\n",
    "\n",
    "model  = dma_mr_mvs\n",
    "\n",
    "_, AOS =  AIS2AOS_map(model, AIS_bounds,  AIS_resolution)\n",
    "\n",
    "# AOS_region  =  multimodel_rep(AIS_bounds, \n",
    "#                 AIS_resolution, model, plotting=False)\n",
    "\n",
    "# OI = OI_eval(AOS_region,\n",
    "#             DOS_bounds)"
   ]
  },
  {
   "cell_type": "code",
   "execution_count": null,
   "metadata": {},
   "outputs": [],
   "source": [
    "AOS2 = AOS.reshape(-1,2)\n",
    "import matplotlib.pyplot as plt\n",
    "plt.scatter(AOS2[:, 0], AOS2[:, 1])"
   ]
  }
 ],
 "metadata": {
  "kernelspec": {
   "display_name": "Python 3 (ipykernel)",
   "language": "python",
   "name": "python3"
  },
  "language_info": {
   "codemirror_mode": {
    "name": "ipython",
    "version": 3
   },
   "file_extension": ".py",
   "mimetype": "text/x-python",
   "name": "python",
   "nbconvert_exporter": "python",
   "pygments_lexer": "ipython3",
   "version": "3.9.13"
  },
  "metadata": {
   "execution": {
    "timeout": 1e+99
   }
  }
 },
 "nbformat": 4,
 "nbformat_minor": 2
}
