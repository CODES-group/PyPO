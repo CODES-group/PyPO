{
 "cells": [
  {
   "cell_type": "code",
   "execution_count": 1,
   "metadata": {},
   "outputs": [],
   "source": [
    "import jax.numpy as np\n",
    "from jax.numpy import pi as pi\n",
    "from jax.experimental.ode import odeint"
   ]
  },
  {
   "cell_type": "code",
   "execution_count": 2,
   "metadata": {},
   "outputs": [],
   "source": [
    "# Kinetic and general parameters\n",
    "\n",
    "R = 8.314e6                 # [Pa.cm³/(K.mol.)]\n",
    "k1 = 0.04                   # [s-¹]\n",
    "k1_Inv = 6.40e6             # [cm³/s-mol]\n",
    "k2 = 4.20                   # [s-¹]\n",
    "k2_Inv = 56.38              # [cm³/s-mol]\n",
    "\n",
    "    \n",
    "# Molecular weights\n",
    "MM_B = 78.00                # [g/mol] \n",
    "\n",
    "# Fixed Reactor Values\n",
    "T = 1173.15                 # [K]  =900[°C] (Isothermal)\n",
    "Q = 3600 * 0.01e-4          # [mol/(h.cm².atm1/4)]\n",
    "selec = 1500\n",
    "\n",
    "# Tube side\n",
    "Pt = 101325.0               # Pressure [Pa](1atm)\n",
    "v0 = 3600 * (2 / 15)        # Vol. Flow rate [cm³ h-¹]\n",
    "Ft0 = Pt * v0 / (R * T)     # Initial molar flow rate[mol/h] - Pure CH4\n",
    "\n",
    "# Shell side\n",
    "Ps = 101325.0               # Pressure [Pa](1atm)\n",
    "ds = 3                      # Diameter[cm]\n",
    "v_He = 3600 * (1 / 6)       # Vol. flow rate[cm³/h]\n"
   ]
  },
  {
   "cell_type": "code",
   "execution_count": 3,
   "metadata": {},
   "outputs": [],
   "source": [
    "def dma_mr_model(F, z, dt,v_He,v0, F_He, Ft0):\n",
    "\n",
    "    At = 0.25 * np.pi * (dt ** 2)  # Cross sectional area [cm2].\n",
    "    \n",
    "    # Avoid negative flows that can happen in the first integration steps.\n",
    "    # Consequently this avoids that any molar balance (^ 1/4 terms) generates\n",
    "    # complex numbers.\n",
    "    F = np.where(F <= 1e-9, 1e-9, F)\n",
    "    \n",
    "    \n",
    "\n",
    "    \n",
    "    # Evaluate the total flow rate in the tube & shell.\n",
    "    Ft = F[0:4].sum()\n",
    "    Fs = F[4:].sum() + F_He\n",
    "    v = v0 * (Ft / Ft0)\n",
    "\n",
    "    # Concentrations from molar flow rates [mol/cm3].\n",
    "    C = F[:4] / v\n",
    "    # Partial pressures - Tube & Shell [mol/cm3].\n",
    "\n",
    "    P0t = (Pt / 101325) * (F[0] / Ft)\n",
    "    P1t = (Pt / 101325) * (F[1] / Ft)\n",
    "    P2t = (Pt / 101325) * (F[2] / Ft)\n",
    "    P3t = (Pt / 101325) * (F[3] / Ft)\n",
    "\n",
    "    P0s = (Ps / 101325) * (F[4] / Fs)\n",
    "    P1s = (Ps / 101325) * (F[5] / Fs)\n",
    "    P2s = (Ps / 101325) * (F[6] / Fs)\n",
    "    P3s = (Ps / 101325) * (F[7] / Fs)\n",
    "    \n",
    "    \n",
    "\n",
    "    # First reaction rate.\n",
    "    r0 = 3600 * k1 * C[0] * (1 - ((k1_Inv * C[1] * C[2] ** 2) / \n",
    "                                  (k1 * (C[0])**2 )))\n",
    "    \n",
    "\n",
    "    # This replicates an if statement to avoid division by zero, \n",
    "    # whenever the concentrations are near zero. JAX's syntax compatible.\n",
    "    C0_aux = C[0]\n",
    "    r0 = np.where(C0_aux <= 1e-9, 0, r0)\n",
    "    \n",
    "\n",
    "    # Second reaction rate.\n",
    "    r1 = 3600 * k2 * C[1] * (1 - ((k2_Inv * C[3] * C[2] ** 3) / \n",
    "                                  (k2 * (C[1])**3 )))\n",
    "    \n",
    "\n",
    "    # Same as before\n",
    "    C1_aux = C[1]\n",
    "    r1 = np.where(C1_aux <= 1e-9 , 0, r1)  \n",
    "\n",
    "    # Molar balances adjustment with experimental data.\n",
    "    eff = 0.9\n",
    "    vb = 0.5\n",
    "    Cat = (1 - vb) * eff\n",
    "\n",
    "    # Molar balances dFdz - Tube (0 to 3) & Shell (4 to 7)\n",
    "    dF0 = -Cat * r0 * At - (Q / selec) * ((P0t ** 0.25) - (P0s ** 0.25)) * pi * dt\n",
    "    dF1 = 1 / 2 * Cat * r0 * At - Cat * r1 * At - (Q / selec) * ((P1t ** 0.25) - (P1s ** 0.25)) * pi * dt\n",
    "    dF2 = Cat * r0 * At + Cat * r1 * At- (Q) * ((P2t ** 0.25) - (P2s ** 0.25)) * pi * dt\n",
    "    dF3 = (1 / 3) * Cat * r1 * At - (Q / selec) * ((P3t ** 0.25) - (P3s ** 0.25)) * pi * dt\n",
    "    dF4 = (Q / selec) * ((P0t ** 0.25) - (P0s ** 0.25)) * pi * dt\n",
    "    dF5 = (Q / selec) * ((P1t ** 0.25) - (P1s ** 0.25)) * pi * dt\n",
    "    dF6 = (Q) * ((P2t ** 0.25) - (P2s ** 0.25)) * pi * dt\n",
    "    dF7 = (Q / selec) * ((P3t ** 0.25) - (P3s ** 0.25)) * pi * dt\n",
    "    \n",
    "    dFdz = np.array([ dF0, dF1, dF2, dF3, dF4, dF5, dF6, dF7 ])\n",
    "\n",
    "    return dFdz"
   ]
  },
  {
   "cell_type": "code",
   "execution_count": 4,
   "metadata": {},
   "outputs": [],
   "source": [
    "def dma_mr_design(u):\n",
    "\n",
    "\n",
    "    L =  u[0]                   # Tube length   [cm2]\n",
    "    dt = u[1]                   # Tube diameter [cm2]\n",
    "\n",
    "    F_He = Ps * v_He / (R * T)  # Sweep gas molar flow rate [mol/h].\n",
    "\n",
    "    # Initial conditions.\n",
    "    y0 = np.hstack((Ft0, np.zeros(7)))\n",
    "    rtol, atol = 1e-10, 1e-10\n",
    "\n",
    "    # Integration of mol balances using Jax's Dormand Prince.\n",
    "    z = np.linspace(0, L, 2000)\n",
    "    F = odeint(dma_mr_model, y0, z, dt,v_He,v0, F_He, Ft0, rtol=rtol, atol=atol)\n",
    "    \n",
    "    # Calculating outputs (AOS/DOS) from states.\n",
    "    F_C6H6 = ((F[-1, 3] * 1000) * MM_B)\n",
    "    X_CH4  = (100 * (Ft0 - F[-1, 0] - F[-1, 4]) / Ft0)\n",
    "\n",
    "    return np.array([F_C6H6, X_CH4])"
   ]
  },
  {
   "cell_type": "code",
   "execution_count": 5,
   "metadata": {
    "tags": [
     "remove-output"
    ]
   },
   "outputs": [
    {
     "name": "stderr",
     "output_type": "stream",
     "text": [
      "WARNING:polytope.solvers:`polytope` failed to import `cvxopt.glpk`.\n"
     ]
    },
    {
     "name": "stderr",
     "output_type": "stream",
     "text": [
      "WARNING:polytope.solvers:will use `scipy.optimize.linprog`\n"
     ]
    }
   ],
   "source": [
    "from pypo import nlp_based_approach"
   ]
  },
  {
   "cell_type": "code",
   "execution_count": 6,
   "metadata": {
    "tags": [
     "remove-output"
    ]
   },
   "outputs": [
    {
     "name": "stderr",
     "output_type": "stream",
     "text": [
      "WARNING:jax._src.lib.xla_bridge:No GPU/TPU found, falling back to CPU. (Set TF_CPP_MIN_LOG_LEVEL=0 and rerun for more info.)\n"
     ]
    }
   ],
   "source": [
    "DOS_bounds = np.array([[15,25],\n",
    "                       [35,45]])\n",
    "\n",
    "# Discretization Grid - 10x10 grid for DOS.\n",
    "DOS_resolution =  [10, 10]\n",
    "\n",
    "# Lower and upper bounds of AIS design variables.\n",
    "lb = np.array([10,  0.1])\n",
    "ub = np.array([300, 2])\n",
    "\n",
    "# Initial estimate for NLP.\n",
    "u0 = np.array([50, 1])"
   ]
  },
  {
   "cell_type": "code",
   "execution_count": 7,
   "metadata": {},
   "outputs": [],
   "source": [
    "def plug_flow(u):\n",
    "    return u[0] - 30.0*u[1]\n",
    "\n",
    "con= {'type': 'ineq', 'fun': plug_flow}"
   ]
  },
  {
   "cell_type": "code",
   "execution_count": 8,
   "metadata": {
    "execution": {
     "timeout": 1000000000
    },
    "tags": []
   },
   "outputs": [
    {
     "name": "stdout",
     "output_type": "stream",
     "text": [
      " You have selected automatic differentiation as a method for obtaining higher-order data (Jacobians/Hessian). Make sure your process model is JAX-compatible implementation-wise.\n"
     ]
    },
    {
     "data": {
      "application/vnd.jupyter.widget-view+json": {
       "model_id": "9ce479f6ef1e4603a514bf0e6a35abc0",
       "version_major": 2,
       "version_minor": 0
      },
      "text/plain": [
       "  0%|          | 0/100 [00:00<?, ?it/s]"
      ]
     },
     "metadata": {},
     "output_type": "display_data"
    },
    {
     "data": {
      "image/png": "[encoded data removed]",
      "text/plain": [
       "<Figure size 960x720 with 2 Axes>"
      ]
     },
     "metadata": {},
     "output_type": "display_data"
    }
   ],
   "source": [
    "fDIS, fDOS, convergence = nlp_based_approach(DOS_bounds, \n",
    "                                             DOS_resolution,\n",
    "                                             dma_mr_design, \n",
    "                                             u0,\n",
    "                                             lb,\n",
    "                                             ub,\n",
    "                                             constr=(con),\n",
    "                                             method='ipopt',\n",
    "                                             plot=True,\n",
    "                                             ad=True,\n",
    "                                             warmstart=True)"
   ]
  },
  {
   "cell_type": "code",
   "execution_count": 9,
   "metadata": {},
   "outputs": [],
   "source": [
    "from pypo import multimodel_rep, OI_eval"
   ]
  },
  {
   "cell_type": "code",
   "execution_count": 10,
   "metadata": {},
   "outputs": [],
   "source": [
    "def dma_mr_mvs(u):\n",
    "\n",
    "    v0  = u[0]                  # Vol. flow rate [cm³ h-¹]\n",
    "    v_He = u[1]                 # Vol. flow rate[cm³/h]\n",
    "\n",
    "    # Fixed design variables:\n",
    "    L =  17.00                  # Tube length   [cm]\n",
    "    dt = 0.55                   # Tube diameter [cm]\n",
    "\n",
    "    Ft0 = Pt*v0/(R*T)           # Initial molar flow rate [mol/h] - Pure CH4\n",
    "    \n",
    "    F_He = Ps * v_He / (R * T)  # Sweep gas molar flow rate [mol/h]\n",
    "    \n",
    "\n",
    "    # Initial conditions and integrator tolerance.\n",
    "    y0 = np.hstack((Ft0, np.zeros(7)))\n",
    "    rtol, atol = 1e-10, 1e-10\n",
    "\n",
    "    # Integration of mol balances using Jax's Dormand Prince.\n",
    "    z = np.linspace(0, L, 2000)\n",
    "    F = odeint(dma_mr_model, y0, z, dt, v_He,v0, F_He, Ft0, rtol=rtol, atol=atol)\n",
    "    \n",
    "    # Calculating outputs (AOS/DOS) from states.\n",
    "    F_C6H6 = ((F[-1, 3] * 1000) * MM_B)\n",
    "    X_CH4  = (100 * (Ft0 - F[-1, 0] - F[-1, 4]) / Ft0)\n",
    "\n",
    "    return np.array([F_C6H6, X_CH4])"
   ]
  },
  {
   "cell_type": "code",
   "execution_count": 11,
   "metadata": {},
   "outputs": [
    {
     "name": "stdout",
     "output_type": "stream",
     "text": [
      "Either plotting is not possible (dimension > 3) or you have chosen plotting=False. The operability set is still returned as a polytopic region of general dimension.\n"
     ]
    }
   ],
   "source": [
    "AIS_bounds =  np.array([[450, 1500],\n",
    "                        [450, 1500]])\n",
    "\n",
    "AIS_resolution =  [5, 5]\n",
    "\n",
    "AOS_region  =  multimodel_rep(AIS_bounds, AIS_resolution, \n",
    "                              dma_mr_mvs, plotting=False)\n"
   ]
  },
  {
   "cell_type": "code",
   "execution_count": 12,
   "metadata": {},
   "outputs": [
    {
     "data": {
      "image/png": "[encoded data removed]",
      "text/plain": [
       "<Figure size 960x720 with 1 Axes>"
      ]
     },
     "metadata": {},
     "output_type": "display_data"
    }
   ],
   "source": [
    "OI = OI_eval(AOS_region, DOS_bounds)"
   ]
  }
 ],
 "metadata": {
  "kernelspec": {
   "display_name": "Python 3 (ipykernel)",
   "language": "python",
   "name": "python3"
  },
  "language_info": {
   "codemirror_mode": {
    "name": "ipython",
    "version": 3
   },
   "file_extension": ".py",
   "mimetype": "text/x-python",
   "name": "python",
   "nbconvert_exporter": "python",
   "pygments_lexer": "ipython3",
   "version": "3.9.13"
  },
  "metadata": {
   "execution": {
    "timeout": 1e+99
   }
  },
  "widgets": {
   "application/vnd.jupyter.widget-state+json": {
    "state": {
     "0f9a3954912d4db2bcf2b982dac7573b": {
      "model_module": "@jupyter-widgets/controls",
      "model_module_version": "2.0.0",
      "model_name": "HTMLStyleModel",
      "state": {
       "_model_module": "@jupyter-widgets/controls",
       "_model_module_version": "2.0.0",
       "_model_name": "HTMLStyleModel",
       "_view_count": null,
       "_view_module": "@jupyter-widgets/base",
       "_view_module_version": "2.0.0",
       "_view_name": "StyleView",
       "background": null,
       "description_width": "",
       "font_size": null,
       "text_color": null
      }
     },
     "1b9727531acd4364a1cd2eb8f82b1bd6": {
      "model_module": "@jupyter-widgets/controls",
      "model_module_version": "2.0.0",
      "model_name": "HTMLStyleModel",
      "state": {
       "_model_module": "@jupyter-widgets/controls",
       "_model_module_version": "2.0.0",
       "_model_name": "HTMLStyleModel",
       "_view_count": null,
       "_view_module": "@jupyter-widgets/base",
       "_view_module_version": "2.0.0",
       "_view_name": "StyleView",
       "background": null,
       "description_width": "",
       "font_size": null,
       "text_color": null
      }
     },
     "3ce64380d0a24f1490e8224ff3d35c8b": {
      "model_module": "@jupyter-widgets/base",
      "model_module_version": "2.0.0",
      "model_name": "LayoutModel",
      "state": {
       "_model_module": "@jupyter-widgets/base",
       "_model_module_version": "2.0.0",
       "_model_name": "LayoutModel",
       "_view_count": null,
       "_view_module": "@jupyter-widgets/base",
       "_view_module_version": "2.0.0",
       "_view_name": "LayoutView",
       "align_content": null,
       "align_items": null,
       "align_self": null,
       "border_bottom": null,
       "border_left": null,
       "border_right": null,
       "border_top": null,
       "bottom": null,
       "display": null,
       "flex": null,
       "flex_flow": null,
       "grid_area": null,
       "grid_auto_columns": null,
       "grid_auto_flow": null,
       "grid_auto_rows": null,
       "grid_column": null,
       "grid_gap": null,
       "grid_row": null,
       "grid_template_areas": null,
       "grid_template_columns": null,
       "grid_template_rows": null,
       "height": null,
       "justify_content": null,
       "justify_items": null,
       "left": null,
       "margin": null,
       "max_height": null,
       "max_width": null,
       "min_height": null,
       "min_width": null,
       "object_fit": null,
       "object_position": null,
       "order": null,
       "overflow": null,
       "padding": null,
       "right": null,
       "top": null,
       "visibility": null,
       "width": null
      }
     },
     "4a71e885e3e34f1083f0682a76b5f328": {
      "model_module": "@jupyter-widgets/controls",
      "model_module_version": "2.0.0",
      "model_name": "HTMLModel",
      "state": {
       "_dom_classes": [],
       "_model_module": "@jupyter-widgets/controls",
       "_model_module_version": "2.0.0",
       "_model_name": "HTMLModel",
       "_view_count": null,
       "_view_module": "@jupyter-widgets/controls",
       "_view_module_version": "2.0.0",
       "_view_name": "HTMLView",
       "description": "",
       "description_allow_html": false,
       "layout": "IPY_MODEL_d28e438212fd46db8b550b6d841e6d1f",
       "placeholder": "​",
       "style": "IPY_MODEL_a452b57e2384458d9a4bf306c9e9e13e",
       "tabbable": null,
       "tooltip": null,
       "value": " 100/100 [02:33&lt;00:00,  1.95it/s]"
      }
     },
     "53a504d72e004b6eae027da60466acbd": {
      "model_module": "@jupyter-widgets/base",
      "model_module_version": "2.0.0",
      "model_name": "LayoutModel",
      "state": {
       "_model_module": "@jupyter-widgets/base",
       "_model_module_version": "2.0.0",
       "_model_name": "LayoutModel",
       "_view_count": null,
       "_view_module": "@jupyter-widgets/base",
       "_view_module_version": "2.0.0",
       "_view_name": "LayoutView",
       "align_content": null,
       "align_items": null,
       "align_self": null,
       "border_bottom": null,
       "border_left": null,
       "border_right": null,
       "border_top": null,
       "bottom": null,
       "display": null,
       "flex": null,
       "flex_flow": null,
       "grid_area": null,
       "grid_auto_columns": null,
       "grid_auto_flow": null,
       "grid_auto_rows": null,
       "grid_column": null,
       "grid_gap": null,
       "grid_row": null,
       "grid_template_areas": null,
       "grid_template_columns": null,
       "grid_template_rows": null,
       "height": null,
       "justify_content": null,
       "justify_items": null,
       "left": null,
       "margin": null,
       "max_height": null,
       "max_width": null,
       "min_height": null,
       "min_width": null,
       "object_fit": null,
       "object_position": null,
       "order": null,
       "overflow": null,
       "padding": null,
       "right": null,
       "top": null,
       "visibility": null,
       "width": null
      }
     },
     "722fbeae8d044ea9b5dc6f7021b38403": {
      "model_module": "@jupyter-widgets/controls",
      "model_module_version": "2.0.0",
      "model_name": "ProgressStyleModel",
      "state": {
       "_model_module": "@jupyter-widgets/controls",
       "_model_module_version": "2.0.0",
       "_model_name": "ProgressStyleModel",
       "_view_count": null,
       "_view_module": "@jupyter-widgets/base",
       "_view_module_version": "2.0.0",
       "_view_name": "StyleView",
       "bar_color": null,
       "description_width": ""
      }
     },
     "7bbcf19b196c493fbb34a965642bd6ff": {
      "model_module": "@jupyter-widgets/base",
      "model_module_version": "2.0.0",
      "model_name": "LayoutModel",
      "state": {
       "_model_module": "@jupyter-widgets/base",
       "_model_module_version": "2.0.0",
       "_model_name": "LayoutModel",
       "_view_count": null,
       "_view_module": "@jupyter-widgets/base",
       "_view_module_version": "2.0.0",
       "_view_name": "LayoutView",
       "align_content": null,
       "align_items": null,
       "align_self": null,
       "border_bottom": null,
       "border_left": null,
       "border_right": null,
       "border_top": null,
       "bottom": null,
       "display": null,
       "flex": null,
       "flex_flow": null,
       "grid_area": null,
       "grid_auto_columns": null,
       "grid_auto_flow": null,
       "grid_auto_rows": null,
       "grid_column": null,
       "grid_gap": null,
       "grid_row": null,
       "grid_template_areas": null,
       "grid_template_columns": null,
       "grid_template_rows": null,
       "height": null,
       "justify_content": null,
       "justify_items": null,
       "left": null,
       "margin": null,
       "max_height": null,
       "max_width": null,
       "min_height": null,
       "min_width": null,
       "object_fit": null,
       "object_position": null,
       "order": null,
       "overflow": null,
       "padding": null,
       "right": null,
       "top": null,
       "visibility": null,
       "width": null
      }
     },
     "7f897c5eaed54afa8c52bfa170e18482": {
      "model_module": "@jupyter-widgets/base",
      "model_module_version": "2.0.0",
      "model_name": "LayoutModel",
      "state": {
       "_model_module": "@jupyter-widgets/base",
       "_model_module_version": "2.0.0",
       "_model_name": "LayoutModel",
       "_view_count": null,
       "_view_module": "@jupyter-widgets/base",
       "_view_module_version": "2.0.0",
       "_view_name": "LayoutView",
       "align_content": null,
       "align_items": null,
       "align_self": null,
       "border_bottom": null,
       "border_left": null,
       "border_right": null,
       "border_top": null,
       "bottom": null,
       "display": null,
       "flex": null,
       "flex_flow": null,
       "grid_area": null,
       "grid_auto_columns": null,
       "grid_auto_flow": null,
       "grid_auto_rows": null,
       "grid_column": null,
       "grid_gap": null,
       "grid_row": null,
       "grid_template_areas": null,
       "grid_template_columns": null,
       "grid_template_rows": null,
       "height": null,
       "justify_content": null,
       "justify_items": null,
       "left": null,
       "margin": null,
       "max_height": null,
       "max_width": null,
       "min_height": null,
       "min_width": null,
       "object_fit": null,
       "object_position": null,
       "order": null,
       "overflow": null,
       "padding": null,
       "right": null,
       "top": null,
       "visibility": null,
       "width": null
      }
     },
     "8150b21a2874488282cc807b4cde1de2": {
      "model_module": "@jupyter-widgets/base",
      "model_module_version": "2.0.0",
      "model_name": "LayoutModel",
      "state": {
       "_model_module": "@jupyter-widgets/base",
       "_model_module_version": "2.0.0",
       "_model_name": "LayoutModel",
       "_view_count": null,
       "_view_module": "@jupyter-widgets/base",
       "_view_module_version": "2.0.0",
       "_view_name": "LayoutView",
       "align_content": null,
       "align_items": null,
       "align_self": null,
       "border_bottom": null,
       "border_left": null,
       "border_right": null,
       "border_top": null,
       "bottom": null,
       "display": null,
       "flex": null,
       "flex_flow": null,
       "grid_area": null,
       "grid_auto_columns": null,
       "grid_auto_flow": null,
       "grid_auto_rows": null,
       "grid_column": null,
       "grid_gap": null,
       "grid_row": null,
       "grid_template_areas": null,
       "grid_template_columns": null,
       "grid_template_rows": null,
       "height": null,
       "justify_content": null,
       "justify_items": null,
       "left": null,
       "margin": null,
       "max_height": null,
       "max_width": null,
       "min_height": null,
       "min_width": null,
       "object_fit": null,
       "object_position": null,
       "order": null,
       "overflow": null,
       "padding": null,
       "right": null,
       "top": null,
       "visibility": null,
       "width": null
      }
     },
     "9ce479f6ef1e4603a514bf0e6a35abc0": {
      "model_module": "@jupyter-widgets/controls",
      "model_module_version": "2.0.0",
      "model_name": "HBoxModel",
      "state": {
       "_dom_classes": [],
       "_model_module": "@jupyter-widgets/controls",
       "_model_module_version": "2.0.0",
       "_model_name": "HBoxModel",
       "_view_count": null,
       "_view_module": "@jupyter-widgets/controls",
       "_view_module_version": "2.0.0",
       "_view_name": "HBoxView",
       "box_style": "",
       "children": [
        "IPY_MODEL_b9c6b423b51a4bf685c20b194ead1508",
        "IPY_MODEL_f5634d1f57124f75bf4ad00651b84310",
        "IPY_MODEL_4a71e885e3e34f1083f0682a76b5f328"
       ],
       "layout": "IPY_MODEL_8150b21a2874488282cc807b4cde1de2",
       "tabbable": null,
       "tooltip": null
      }
     },
     "a452b57e2384458d9a4bf306c9e9e13e": {
      "model_module": "@jupyter-widgets/controls",
      "model_module_version": "2.0.0",
      "model_name": "HTMLStyleModel",
      "state": {
       "_model_module": "@jupyter-widgets/controls",
       "_model_module_version": "2.0.0",
       "_model_name": "HTMLStyleModel",
       "_view_count": null,
       "_view_module": "@jupyter-widgets/base",
       "_view_module_version": "2.0.0",
       "_view_name": "StyleView",
       "background": null,
       "description_width": "",
       "font_size": null,
       "text_color": null
      }
     },
     "a8a67d85f9204d1bac405c3300703174": {
      "model_module": "@jupyter-widgets/controls",
      "model_module_version": "2.0.0",
      "model_name": "HTMLModel",
      "state": {
       "_dom_classes": [],
       "_model_module": "@jupyter-widgets/controls",
       "_model_module_version": "2.0.0",
       "_model_name": "HTMLModel",
       "_view_count": null,
       "_view_module": "@jupyter-widgets/controls",
       "_view_module_version": "2.0.0",
       "_view_name": "HTMLView",
       "description": "",
       "description_allow_html": false,
       "layout": "IPY_MODEL_cc1613d4ae264ac29f864f0a695f7ffa",
       "placeholder": "​",
       "style": "IPY_MODEL_ccee3bdabe44415296a3019345018b96",
       "tabbable": null,
       "tooltip": null,
       "value": ""
      }
     },
     "abb5d379a8054fd5ab111dddf97c1dcb": {
      "model_module": "@jupyter-widgets/controls",
      "model_module_version": "2.0.0",
      "model_name": "HBoxModel",
      "state": {
       "_dom_classes": [],
       "_model_module": "@jupyter-widgets/controls",
       "_model_module_version": "2.0.0",
       "_model_name": "HBoxModel",
       "_view_count": null,
       "_view_module": "@jupyter-widgets/controls",
       "_view_module_version": "2.0.0",
       "_view_name": "HBoxView",
       "box_style": "",
       "children": [
        "IPY_MODEL_b9c6b423b51a4bf685c20b194ead1508",
        "IPY_MODEL_f5634d1f57124f75bf4ad00651b84310",
        "IPY_MODEL_4a71e885e3e34f1083f0682a76b5f328"
       ],
       "layout": "IPY_MODEL_8150b21a2874488282cc807b4cde1de2",
       "tabbable": null,
       "tooltip": null
      }
     },
     "ac6770cf942b4e87bbe747b7befe9616": {
      "model_module": "@jupyter-widgets/controls",
      "model_module_version": "2.0.0",
      "model_name": "HTMLModel",
      "state": {
       "_dom_classes": [],
       "_model_module": "@jupyter-widgets/controls",
       "_model_module_version": "2.0.0",
       "_model_name": "HTMLModel",
       "_view_count": null,
       "_view_module": "@jupyter-widgets/controls",
       "_view_module_version": "2.0.0",
       "_view_name": "HTMLView",
       "description": "",
       "description_allow_html": false,
       "layout": "IPY_MODEL_d28e438212fd46db8b550b6d841e6d1f",
       "placeholder": "​",
       "style": "IPY_MODEL_a452b57e2384458d9a4bf306c9e9e13e",
       "tabbable": null,
       "tooltip": null,
       "value": ""
      }
     },
     "b0e33fae65d54b8ca50b7baf0cd97c9f": {
      "model_module": "@jupyter-widgets/controls",
      "model_module_version": "2.0.0",
      "model_name": "FloatProgressModel",
      "state": {
       "_dom_classes": [],
       "_model_module": "@jupyter-widgets/controls",
       "_model_module_version": "2.0.0",
       "_model_name": "FloatProgressModel",
       "_view_count": null,
       "_view_module": "@jupyter-widgets/controls",
       "_view_module_version": "2.0.0",
       "_view_name": "ProgressView",
       "bar_style": "",
       "description": "",
       "description_allow_html": false,
       "layout": "IPY_MODEL_7f897c5eaed54afa8c52bfa170e18482",
       "max": 100.0,
       "min": 0.0,
       "orientation": "horizontal",
       "style": "IPY_MODEL_722fbeae8d044ea9b5dc6f7021b38403",
       "tabbable": null,
       "tooltip": null,
       "value": 0.0
      }
     },
     "b9c6b423b51a4bf685c20b194ead1508": {
      "model_module": "@jupyter-widgets/controls",
      "model_module_version": "2.0.0",
      "model_name": "HTMLModel",
      "state": {
       "_dom_classes": [],
       "_model_module": "@jupyter-widgets/controls",
       "_model_module_version": "2.0.0",
       "_model_name": "HTMLModel",
       "_view_count": null,
       "_view_module": "@jupyter-widgets/controls",
       "_view_module_version": "2.0.0",
       "_view_name": "HTMLView",
       "description": "",
       "description_allow_html": false,
       "layout": "IPY_MODEL_cc1613d4ae264ac29f864f0a695f7ffa",
       "placeholder": "​",
       "style": "IPY_MODEL_ccee3bdabe44415296a3019345018b96",
       "tabbable": null,
       "tooltip": null,
       "value": "100%"
      }
     },
     "cb22976889004215b2cc6f1c2b1fb3c0": {
      "model_module": "@jupyter-widgets/base",
      "model_module_version": "2.0.0",
      "model_name": "LayoutModel",
      "state": {
       "_model_module": "@jupyter-widgets/base",
       "_model_module_version": "2.0.0",
       "_model_name": "LayoutModel",
       "_view_count": null,
       "_view_module": "@jupyter-widgets/base",
       "_view_module_version": "2.0.0",
       "_view_name": "LayoutView",
       "align_content": null,
       "align_items": null,
       "align_self": null,
       "border_bottom": null,
       "border_left": null,
       "border_right": null,
       "border_top": null,
       "bottom": null,
       "display": null,
       "flex": null,
       "flex_flow": null,
       "grid_area": null,
       "grid_auto_columns": null,
       "grid_auto_flow": null,
       "grid_auto_rows": null,
       "grid_column": null,
       "grid_gap": null,
       "grid_row": null,
       "grid_template_areas": null,
       "grid_template_columns": null,
       "grid_template_rows": null,
       "height": null,
       "justify_content": null,
       "justify_items": null,
       "left": null,
       "margin": null,
       "max_height": null,
       "max_width": null,
       "min_height": null,
       "min_width": null,
       "object_fit": null,
       "object_position": null,
       "order": null,
       "overflow": null,
       "padding": null,
       "right": null,
       "top": null,
       "visibility": null,
       "width": null
      }
     },
     "cc1613d4ae264ac29f864f0a695f7ffa": {
      "model_module": "@jupyter-widgets/base",
      "model_module_version": "2.0.0",
      "model_name": "LayoutModel",
      "state": {
       "_model_module": "@jupyter-widgets/base",
       "_model_module_version": "2.0.0",
       "_model_name": "LayoutModel",
       "_view_count": null,
       "_view_module": "@jupyter-widgets/base",
       "_view_module_version": "2.0.0",
       "_view_name": "LayoutView",
       "align_content": null,
       "align_items": null,
       "align_self": null,
       "border_bottom": null,
       "border_left": null,
       "border_right": null,
       "border_top": null,
       "bottom": null,
       "display": null,
       "flex": null,
       "flex_flow": null,
       "grid_area": null,
       "grid_auto_columns": null,
       "grid_auto_flow": null,
       "grid_auto_rows": null,
       "grid_column": null,
       "grid_gap": null,
       "grid_row": null,
       "grid_template_areas": null,
       "grid_template_columns": null,
       "grid_template_rows": null,
       "height": null,
       "justify_content": null,
       "justify_items": null,
       "left": null,
       "margin": null,
       "max_height": null,
       "max_width": null,
       "min_height": null,
       "min_width": null,
       "object_fit": null,
       "object_position": null,
       "order": null,
       "overflow": null,
       "padding": null,
       "right": null,
       "top": null,
       "visibility": null,
       "width": null
      }
     },
     "ccee3bdabe44415296a3019345018b96": {
      "model_module": "@jupyter-widgets/controls",
      "model_module_version": "2.0.0",
      "model_name": "HTMLStyleModel",
      "state": {
       "_model_module": "@jupyter-widgets/controls",
       "_model_module_version": "2.0.0",
       "_model_name": "HTMLStyleModel",
       "_view_count": null,
       "_view_module": "@jupyter-widgets/base",
       "_view_module_version": "2.0.0",
       "_view_name": "StyleView",
       "background": null,
       "description_width": "",
       "font_size": null,
       "text_color": null
      }
     },
     "d28e438212fd46db8b550b6d841e6d1f": {
      "model_module": "@jupyter-widgets/base",
      "model_module_version": "2.0.0",
      "model_name": "LayoutModel",
      "state": {
       "_model_module": "@jupyter-widgets/base",
       "_model_module_version": "2.0.0",
       "_model_name": "LayoutModel",
       "_view_count": null,
       "_view_module": "@jupyter-widgets/base",
       "_view_module_version": "2.0.0",
       "_view_name": "LayoutView",
       "align_content": null,
       "align_items": null,
       "align_self": null,
       "border_bottom": null,
       "border_left": null,
       "border_right": null,
       "border_top": null,
       "bottom": null,
       "display": null,
       "flex": null,
       "flex_flow": null,
       "grid_area": null,
       "grid_auto_columns": null,
       "grid_auto_flow": null,
       "grid_auto_rows": null,
       "grid_column": null,
       "grid_gap": null,
       "grid_row": null,
       "grid_template_areas": null,
       "grid_template_columns": null,
       "grid_template_rows": null,
       "height": null,
       "justify_content": null,
       "justify_items": null,
       "left": null,
       "margin": null,
       "max_height": null,
       "max_width": null,
       "min_height": null,
       "min_width": null,
       "object_fit": null,
       "object_position": null,
       "order": null,
       "overflow": null,
       "padding": null,
       "right": null,
       "top": null,
       "visibility": null,
       "width": null
      }
     },
     "e4573ba316bc4195b43b437159023dac": {
      "model_module": "@jupyter-widgets/controls",
      "model_module_version": "2.0.0",
      "model_name": "ProgressStyleModel",
      "state": {
       "_model_module": "@jupyter-widgets/controls",
       "_model_module_version": "2.0.0",
       "_model_name": "ProgressStyleModel",
       "_view_count": null,
       "_view_module": "@jupyter-widgets/base",
       "_view_module_version": "2.0.0",
       "_view_name": "StyleView",
       "bar_color": null,
       "description_width": ""
      }
     },
     "f5634d1f57124f75bf4ad00651b84310": {
      "model_module": "@jupyter-widgets/controls",
      "model_module_version": "2.0.0",
      "model_name": "FloatProgressModel",
      "state": {
       "_dom_classes": [],
       "_model_module": "@jupyter-widgets/controls",
       "_model_module_version": "2.0.0",
       "_model_name": "FloatProgressModel",
       "_view_count": null,
       "_view_module": "@jupyter-widgets/controls",
       "_view_module_version": "2.0.0",
       "_view_name": "ProgressView",
       "bar_style": "success",
       "description": "",
       "description_allow_html": false,
       "layout": "IPY_MODEL_7f897c5eaed54afa8c52bfa170e18482",
       "max": 100.0,
       "min": 0.0,
       "orientation": "horizontal",
       "style": "IPY_MODEL_722fbeae8d044ea9b5dc6f7021b38403",
       "tabbable": null,
       "tooltip": null,
       "value": 100.0
      }
     }
    },
    "version_major": 2,
    "version_minor": 0
   }
  }
 },
 "nbformat": 4,
 "nbformat_minor": 2
}