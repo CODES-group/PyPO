{
 "cells": [
  {
   "cell_type": "markdown",
   "id": "c13b123f",
   "metadata": {},
   "source": [
    "# API Documentation\n",
    "\n",
    "The functions described below are part of opyrability and are\n",
    "classified based on their functionality. Each function also contains a worked\n",
    "example based on the famous [Shower Problem](examples_gallery/operability_index_shower.ipynb){cite}`vinson00, lima10b`\n",
    "\n",
    "## Conventional mapping (AIS to AOS)\n",
    "\n",
    "### Forward mapping\n",
    "\n",
    "```{eval-rst}\n",
    ".. autofunction:: opyrability.AIS2AOS_map\n",
    "```\n",
    "\n",
    "###### Example\n",
    "Obtaining the Achievable Output Set (AOS) for the shower problem.\n",
    "\n",
    "Importing opyrability and Numpy:"
   ]
  },
  {
   "cell_type": "code",
   "execution_count": null,
   "id": "7aa8c83b",
   "metadata": {
    "tags": [
     "remove-output"
    ]
   },
   "outputs": [],
   "source": [
    "    from opyrability import AIS2AOS_map\n",
    "    import numpy as np"
   ]
  },
  {
   "cell_type": "markdown",
   "id": "185ed5b2",
   "metadata": {},
   "source": [
    "Defining the equations that describe the process:\n",
    "\n",
    "```{math}\n",
    "\\left\\{\\begin{array}{c}\n",
    "y_1=u_1+u_2 \\\\\n",
    "y_2=\\frac{\\left(60 u_1+120 u_2\\right)}{\\left(u_1+u_2\\right)}\n",
    "\\end{array}\\right. \\\\\n",
    "\\\\\n",
    "y_1 = 0\\rightarrow y_2 = 90\n",
    "```"
   ]
  },
  {
   "cell_type": "code",
   "execution_count": null,
   "id": "0e2e4362",
   "metadata": {},
   "outputs": [],
   "source": [
    "    def shower_problem(u):\n",
    "        y = np.zeros(2)\n",
    "        y[0]=u[0]+u[1]\n",
    "        if y[0]!=0:\n",
    "            y[1]=(u[0]*60+u[1]*120)/(u[0]+u[1])\n",
    "        else:\n",
    "            y[1]=(60+120)/2\n",
    "            \n",
    "        return y"
   ]
  },
  {
   "cell_type": "markdown",
   "id": "3008eb80",
   "metadata": {},
   "source": [
    "Defining the AIS bounds, as well as the discretization resolution:"
   ]
  },
  {
   "cell_type": "code",
   "execution_count": null,
   "id": "1f3e1cea",
   "metadata": {},
   "outputs": [],
   "source": [
    "    AIS_bounds =  np.array([[0, 10], [0, 10]])\n",
    "    resolution =  [5, 5]"
   ]
  },
  {
   "cell_type": "markdown",
   "id": "1498fd52",
   "metadata": {},
   "source": [
    "Obtain discretized AIS/AOS."
   ]
  },
  {
   "cell_type": "code",
   "execution_count": null,
   "id": "911a3992",
   "metadata": {},
   "outputs": [],
   "source": [
    "    AIS, AOS =  AIS2AOS_map(shower_problem, AIS_bounds,  resolution, plot = True)\n",
    "    print(AOS)"
   ]
  },
  {
   "cell_type": "markdown",
   "id": "a553c5f4",
   "metadata": {},
   "source": [
    "### Inverse mapping (AOS/DOS to AIS/DIS)\n",
    "\n",
    "### NLP-Based\n",
    "\n",
    "```{eval-rst}\n",
    ".. autofunction:: opyrability.nlp_based_approach\n",
    "```\n",
    "\n",
    "###### Example\n",
    "Obtaining the Feasible Desired Input Set (DIS*) for the shower problem.\n",
    "\n",
    "Importing opyrability and Numpy:"
   ]
  },
  {
   "cell_type": "code",
   "execution_count": null,
   "id": "9685e32d",
   "metadata": {},
   "outputs": [],
   "source": [
    "    import numpy as np\n",
    "    from opyrability import nlp_based_approach"
   ]
  },
  {
   "cell_type": "markdown",
   "id": "5375253c",
   "metadata": {},
   "source": [
    "Defining lower and upper bound for the AIS/DIS inverse map:"
   ]
  },
  {
   "cell_type": "code",
   "execution_count": null,
   "id": "ef34c435",
   "metadata": {},
   "outputs": [],
   "source": [
    "    lb = np.array([0, 0])\n",
    "    ub = np.array([100,100])"
   ]
  },
  {
   "cell_type": "markdown",
   "id": "37a99e5e",
   "metadata": {},
   "source": [
    "Defining DOS bounds and resolution to obtain the inverse map:"
   ]
  },
  {
   "cell_type": "code",
   "execution_count": null,
   "id": "a61a274a",
   "metadata": {},
   "outputs": [],
   "source": [
    "    DOS_bound = np.array([[15, 20],\n",
    "                          [80, 100]])\n",
    "    resolution = [5, 5]"
   ]
  },
  {
   "cell_type": "markdown",
   "id": "9990f2e3",
   "metadata": {},
   "source": [
    "Defining the equations that describe the process:\n",
    "\n",
    "```{math}\n",
    "\\left\\{\\begin{array}{c}\n",
    "y_1=u_1+u_2 \\\\\n",
    "y_2=\\frac{\\left(60 u_1+120 u_2\\right)}{\\left(u_1+u_2\\right)}\n",
    "\\end{array}\\right. \\\\\n",
    "\\\\\n",
    "y_1 = 0\\rightarrow y_2 = 90\n",
    "```"
   ]
  },
  {
   "cell_type": "code",
   "execution_count": null,
   "id": "2c0ebbe2",
   "metadata": {},
   "outputs": [],
   "source": [
    "    def shower_problem(u):\n",
    "        y = np.zeros(2)\n",
    "        y[0]=u[0]+u[1]\n",
    "        if y[0]!=0:\n",
    "            y[1]=(u[0]*60+u[1]*120)/(u[0]+u[1])\n",
    "        else:\n",
    "            y[1]=(60+120)/2\n",
    "            \n",
    "        return y"
   ]
  },
  {
   "cell_type": "markdown",
   "id": "208568d3",
   "metadata": {},
   "source": [
    "Obtaining the DIS*, DOS* and the convergence for each inverse map run. \n",
    "Additionally, using IPOPT as the NLP solver, enabling plotting of the process operability\n",
    "sets, cold-starting the\n",
    "NLP and using finite differences:"
   ]
  },
  {
   "cell_type": "code",
   "execution_count": null,
   "id": "fe7fa129",
   "metadata": {},
   "outputs": [],
   "source": [
    "    u0 = u0 = np.array([0, 10]) # Initial estimate for inverse mapping.\n",
    "    fDIS, fDOS, message = nlp_based_approach(shower_problem,\n",
    "                                             DOS_bound, \n",
    "                                             resolution, \n",
    "                                             u0, \n",
    "                                             lb,\n",
    "                                             ub, \n",
    "                                             method='ipopt', \n",
    "                                             plot=True, \n",
    "                                             ad=False,\n",
    "                                             warmstart=False)"
   ]
  },
  {
   "cell_type": "markdown",
   "id": "41c84921",
   "metadata": {},
   "source": [
    "## Implicit mapping\n",
    "\n",
    "```{eval-rst}\n",
    ".. autofunction:: opyrability.implicit_map\n",
    "```\n",
    "\n",
    "## Multimodel representation\n",
    "\n",
    "```{eval-rst}\n",
    ".. autofunction:: opyrability.multimodel_rep\n",
    "```\n",
    "\n",
    "###### Example\n",
    "Obtaining the Achievable Output Set (AOS) for the shower problem.\n",
    "\n",
    "Importing opyrability and Numpy:"
   ]
  },
  {
   "cell_type": "code",
   "execution_count": null,
   "id": "5c16c270",
   "metadata": {},
   "outputs": [],
   "source": [
    "    from opyrability import multimodel_rep\n",
    "    import numpy as np"
   ]
  },
  {
   "cell_type": "markdown",
   "id": "42b4ab57",
   "metadata": {},
   "source": [
    "Defining the equations that describe the process:\n",
    "\n",
    "```{math}\n",
    "\\left\\{\\begin{array}{c}\n",
    "y_1=u_1+u_2 \\\\\n",
    "y_2=\\frac{\\left(60 u_1+120 u_2\\right)}{\\left(u_1+u_2\\right)}\n",
    "\\end{array}\\right. \\\\\n",
    "\\\\\n",
    "y_1 = 0\\rightarrow y_2 = 90\n",
    "```"
   ]
  },
  {
   "cell_type": "code",
   "execution_count": null,
   "id": "e8924cb7",
   "metadata": {},
   "outputs": [],
   "source": [
    "    def shower_problem(u):\n",
    "        y = np.zeros(2)\n",
    "        y[0]=u[0]+u[1]\n",
    "        if y[0]!=0:\n",
    "            y[1]=(u[0]*60+u[1]*120)/(u[0]+u[1])\n",
    "        else:\n",
    "            y[1]=(60+120)/2\n",
    "            \n",
    "        return y"
   ]
  },
  {
   "cell_type": "markdown",
   "id": "30e01417",
   "metadata": {},
   "source": [
    "Defining the AIS bounds and the discretization resolution:"
   ]
  },
  {
   "cell_type": "code",
   "execution_count": null,
   "id": "90333d19",
   "metadata": {},
   "outputs": [],
   "source": [
    "    AIS_bounds =  np.array([[1, 10], [1, 10]])\n",
    "    AIS_resolution =  [5, 5]"
   ]
  },
  {
   "cell_type": "markdown",
   "id": "3949761a",
   "metadata": {},
   "source": [
    "Obtaining multimodel representation of paired polytopes for the AOS:"
   ]
  },
  {
   "cell_type": "code",
   "execution_count": null,
   "id": "446e7bf6",
   "metadata": {},
   "outputs": [],
   "source": [
    "    AOS_region  =  multimodel_rep(shower_problem, AIS_bounds, AIS_resolution)"
   ]
  },
  {
   "cell_type": "markdown",
   "id": "80c5d6f5",
   "metadata": {},
   "source": [
    "## OI evaluation\n",
    "\n",
    "```{eval-rst}\n",
    ".. autofunction:: opyrability.OI_eval\n",
    "```\n",
    "\n",
    "###### Example\n",
    "Evaluating the OI for the shower problem for a given DOS.\n",
    "\n",
    "\n",
    "\n",
    "Importing opyrability and Numpy:"
   ]
  },
  {
   "cell_type": "code",
   "execution_count": null,
   "id": "d7e1ce0a",
   "metadata": {},
   "outputs": [],
   "source": [
    "    from opyrability import multimodel_rep, OI_eval\n",
    "    import numpy as np"
   ]
  },
  {
   "cell_type": "markdown",
   "id": "89349dec",
   "metadata": {},
   "source": [
    "Defining the equations that describe the process:\n",
    "\n",
    "```{math}\n",
    "\\left\\{\\begin{array}{c}\n",
    "y_1=u_1+u_2 \\\\\n",
    "y_2=\\frac{\\left(60 u_1+120 u_2\\right)}{\\left(u_1+u_2\\right)}\n",
    "\\end{array}\\right. \\\\\n",
    "\\\\\n",
    "y_1 = 0\\rightarrow y_2 = 90\n",
    "```"
   ]
  },
  {
   "cell_type": "code",
   "execution_count": null,
   "id": "3feb60d7",
   "metadata": {},
   "outputs": [],
   "source": [
    "    def shower_problem(u):\n",
    "        y = np.zeros(2)\n",
    "        y[0]=u[0]+u[1]\n",
    "        if y[0]!=0:\n",
    "            y[1]=(u[0]*60+u[1]*120)/(u[0]+u[1])\n",
    "        else:\n",
    "            y[1]=(60+120)/2\n",
    "            \n",
    "        return y"
   ]
  },
  {
   "cell_type": "markdown",
   "id": "09f364e5",
   "metadata": {},
   "source": [
    "Defining the AIS bounds and the discretization resolution:"
   ]
  },
  {
   "cell_type": "code",
   "execution_count": null,
   "id": "6c43af4e",
   "metadata": {},
   "outputs": [],
   "source": [
    "    AIS_bounds =  np.array([[1, 10], [1, 10]])\n",
    "    AIS_resolution =  [10, 10]"
   ]
  },
  {
   "cell_type": "markdown",
   "id": "805819da",
   "metadata": {},
   "source": [
    "Obtaining multimodel representation of paired polytopes for the AOS:"
   ]
  },
  {
   "cell_type": "code",
   "execution_count": null,
   "id": "d9eddc50",
   "metadata": {},
   "outputs": [],
   "source": [
    "    AOS_region  =  multimodel_rep(shower_problem, AIS_bounds, AIS_resolution,\n",
    "    plot=False)"
   ]
  },
  {
   "cell_type": "markdown",
   "id": "ffdc51a1",
   "metadata": {},
   "source": [
    "Defining a DOS region between $y_1 =[10-20], y_2=[70-100]$"
   ]
  },
  {
   "cell_type": "code",
   "execution_count": null,
   "id": "2f9ec747",
   "metadata": {},
   "outputs": [],
   "source": [
    "    DOS_bounds =  np.array([[10, 20], \n",
    "                            [70, 100]])"
   ]
  },
  {
   "cell_type": "markdown",
   "id": "86c1acaa",
   "metadata": {},
   "source": [
    "Evaluating the OI and seeing the intersection between the operability sets:"
   ]
  },
  {
   "cell_type": "code",
   "execution_count": null,
   "id": "0629f4f9",
   "metadata": {},
   "outputs": [],
   "source": [
    "    OI = OI_eval(AOS_region, DOS_bounds)"
   ]
  },
  {
   "cell_type": "markdown",
   "id": "a9772165",
   "metadata": {},
   "source": [
    "## Utilities\n",
    "\n",
    "```{eval-rst}\n",
    ".. autofunction:: opyrability.create_grid\n",
    "```\n",
    "###### Example\n",
    "Creating a 2-dimensional discretized rectangular grid for given DOS bounds."
   ]
  },
  {
   "cell_type": "code",
   "execution_count": null,
   "id": "54c71dcc",
   "metadata": {},
   "outputs": [],
   "source": [
    "    from opyrability import create_grid\n",
    "\n",
    "    DOS_bounds =  np.array([[10, 20], \n",
    "                            [70, 100]])\n",
    "\n",
    "    DOS_resolution =  [3, 3]\n",
    "\n",
    "    DOS_points = create_grid(DOS_bounds, DOS_resolution)\n",
    "\n",
    "    print(DOS_points)"
   ]
  },
  {
   "cell_type": "markdown",
   "id": "0916db83",
   "metadata": {},
   "source": [
    "Visualizing this grid:"
   ]
  },
  {
   "cell_type": "code",
   "execution_count": null,
   "id": "c06661b2",
   "metadata": {},
   "outputs": [],
   "source": [
    "    import matplotlib.pyplot as plt\n",
    "\n",
    "    DOS_points = DOS_points.reshape(-1, 2)\n",
    "\n",
    "    plt.scatter(DOS_points[:, 0], DOS_points[:, 1])"
   ]
  },
  {
   "cell_type": "markdown",
   "id": "6eff0971",
   "metadata": {},
   "source": [
    "```{eval-rst}\n",
    ".. autofunction:: opyrability.points2simplices\n",
    "```\n",
    "\n",
    "###### Example\n",
    "Generating paired simplicial polytopes for the AIS/AOS generated for the\n",
    "shower problem example."
   ]
  },
  {
   "cell_type": "code",
   "execution_count": null,
   "id": "2f521fcc",
   "metadata": {},
   "outputs": [],
   "source": [
    "    from opyrability import points2simplices\n",
    "\n",
    "    AIS_poly, AOS_poly = points2simplices(AIS,AOS)\n",
    "\n",
    "    print('AIS Simplices \\n', AIS_poly)\n",
    "    print('AOS Simplices \\n', AOS_poly)"
   ]
  },
  {
   "cell_type": "markdown",
   "id": "279dd5f7",
   "metadata": {},
   "source": [
    "```{eval-rst}\n",
    ".. autofunction:: opyrability.points2polyhedra\n",
    "```\n",
    "###### Example\n",
    "Generating paired polyhedrons for the AIS/AOS generated for the\n",
    "shower problem example."
   ]
  },
  {
   "cell_type": "code",
   "execution_count": null,
   "id": "8757063d",
   "metadata": {},
   "outputs": [],
   "source": [
    "    from opyrability import points2polyhedra\n",
    "    \n",
    "    AIS_poly, AOS_poly = points2polyhedra(AIS,AOS)\n",
    "\n",
    "    print('AIS Polyhedrons \\n', AIS_poly)\n",
    "    print('AOS Polyhedrons \\n', AOS_poly)"
   ]
  },
  {
   "cell_type": "markdown",
   "id": "df2158b8",
   "metadata": {},
   "source": [
    "## Polytopic manipulations (advanced and internal use)\n",
    "\n",
    "The functions below are fundamental for operability calculations, though typical \n",
    "users won't need to directly interact with them. They play a crucial role within\n",
    "opyrability without requiring user intervention, but are documented here \n",
    "nevertheless.\n",
    "\n",
    "```{eval-rst}\n",
    ".. autofunction:: opyrability.get_extreme_vertices\n",
    "```\n",
    "\n",
    "```{eval-rst}\n",
    ".. autofunction:: opyrability.process_overlapping_polytopes\n",
    "```\n",
    "\n",
    "```{eval-rst}\n",
    ".. autofunction:: opyrability.are_overlapping\n",
    "```\n",
    "\n",
    "### API documentation list\n",
    "```{eval-rst}\n",
    ".. autosummary::\n",
    "   :toctree: _autosummary\n",
    "   :recursive:\n",
    "\n",
    "   opyrability\n",
    "```"
   ]
  }
 ],
 "metadata": {
  "jupytext": {
   "formats": "md:myst",
   "text_representation": {
    "extension": ".md",
    "format_name": "myst"
   }
  },
  "kernelspec": {
   "display_name": "Python 3",
   "language": "python",
   "name": "python3"
  },
  "source_map": [
   11,
   32,
   36,
   48,
   58,
   60,
   63,
   67,
   70,
   85,
   88,
   92,
   95,
   98,
   102,
   115,
   125,
   132,
   145,
   164,
   167,
   179,
   189,
   191,
   194,
   198,
   200,
   214,
   217,
   229,
   239,
   241,
   244,
   248,
   251,
   254,
   257,
   260,
   262,
   271,
   282,
   284,
   290,
   301,
   308,
   319,
   326
  ]
 },
 "nbformat": 4,
 "nbformat_minor": 5
}