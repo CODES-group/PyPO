{
 "cells": [
  {
   "attachments": {},
   "cell_type": "markdown",
   "metadata": {},
   "source": [
    "# Examples Gallery\n",
    "\n",
    "The examples below use PyPO's functions/capabilities extensively for different\n",
    "tasks, such as:\n",
    "\n",
    "- Obtainment of operability sets,\n",
    "- Inverse mapping of operability sets,\n",
    "- Evaluation of the operability Index (OI),\n",
    "- Ranking of competing designs/control structures using the OI as a metric.\n",
    "\n",
    "All functions are used simultaneously to achieve design and control assessment\n",
    "tasks in representative case studies."
   ]
  },
  {
   "attachments": {},
   "cell_type": "markdown",
   "metadata": {
    "tags": []
   },
   "source": [
    "# Case studies:\n",
    "\n",
    "| [Operability analysis of the Shower Problem](operability_index_shower.ipynb) | Operability analysis of a Direct Methane Aromatization Membrane Reactor |\n",
    "|:------------------------------------------:|-------------------------------------------------------------------------|\n",
    "|                   ![](shower_oi.png)                  | picture                                                                 |"
   ]
  },
  {
   "attachments": {},
   "cell_type": "markdown",
   "metadata": {},
   "source": [
    "# Gallery\n",
    "\n",
    "## Maps\n",
    "[Basic map](basic_map.ipynb)                            | [Use with PyGMT](extend_pygmt.ipynb)\n",
    ":------------------------------------------------------:|:-------------------------------------------------------:\n",
    "![](outputs/basic_map.png)                              | ![](outputs/extend_pygmt.png)\n",
    "\n",
    "[Define projection](setting_projection.ipynb)           | [3D stack](3D_stack.ipynb)\n",
    ":------------------------------------------------------:|:-------------------------------------------------------:\n",
    "![](outputs/setting_projection.png)                     | ![](outputs/3D_stack.png)\n",
    "\n",
    "[Create subplots](subplots.ipynb)                       | [Subplot layout](subplot_layout.ipynb)\n",
    ":------------------------------------------------------:|:-------------------------------------------------------:\n",
    "![](outputs/subplots.png)                               |![](outputs/subplot_layout.png)\n",
    "\n",
    "\n",
    "## Profiles\n",
    "[Sample and plot profile](profile.ipynb)                | [Add map to profile](profile_with_map.ipynb)\n",
    ":------------------------------------------------------:|:-------------------------------------------------------:\n",
    "![](outputs/profile.png)                                | ![](outputs/profile_with_map.png)\n",
    "\n",
    "[Add data to profile](profile_with_data.ipynb)          |\n",
    ":-------------------------------------------------------:\n",
    "![](outputs/profile_with_data.png)\n",
    "\n",
    "\n",
    "## Utils\n",
    "[Mask grids with shapefiles](mask_from_shp.ipynb)       |\n",
    ":-------------------------------------------------------:\n",
    "![](outputs/mask_from_shp.png)"
   ]
  }
 ],
 "metadata": {
  "kernelspec": {
   "display_name": "operability",
   "language": "python",
   "name": "python3"
  },
  "language_info": {
   "name": "python",
   "version": "3.9.13"
  }
 },
 "nbformat": 4,
 "nbformat_minor": 2
}