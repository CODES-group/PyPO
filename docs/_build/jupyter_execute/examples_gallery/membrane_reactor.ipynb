{
 "cells": [
  {
   "attachments": {},
   "cell_type": "markdown",
   "metadata": {},
   "source": [
    "## Operability Analysis of a Membrane Reactor for Methane Aromatizaion and Hydrogen Production"
   ]
  },
  {
   "attachments": {},
   "cell_type": "markdown",
   "metadata": {},
   "source": [
    "This case study consists of a membrane reactor for direct methane aromatization (DMA-MR)\n",
    "that allows hydrogen and benzene production from natural gas. This single unit operation\n",
    "is capable of performing reaction and separation simultaneously, allowing for achieving\n",
    "higher conversion of hydrogen due to Le'Chatelier's principle.\n",
    "\n",
    "The DMA-MR model has been extensively studied in process operability analysis due to\n",
    "its particular potential for system modularization and process intensification, as well as\n",
    "the challenging modeling due to its inherent nonlinearity."
   ]
  },
  {
   "attachments": {},
   "cell_type": "markdown",
   "metadata": {},
   "source": [
    "In this case study, some of pypo's feature are highlighted, such as:\n",
    "\n",
    "-  Inverse mapping using state-of-the-art nonlinear programming solvers (e.g., Ipopt)\n",
    "-  Support for automatic differentiation\n",
    "-  Evaluation of operability sets for design and control objectives."
   ]
  },
  {
   "cell_type": "code",
   "execution_count": 1,
   "metadata": {},
   "outputs": [],
   "source": [
    "import jax.numpy as np\n",
    "from jax.numpy import pi as pi\n",
    "from jax.experimental.ode import odeint"
   ]
  },
  {
   "attachments": {},
   "cell_type": "markdown",
   "metadata": {},
   "source": [
    "Defining the Kinetic and general parameters for the DMA-MR model"
   ]
  },
  {
   "cell_type": "code",
   "execution_count": 2,
   "metadata": {},
   "outputs": [],
   "source": [
    "# Kinetic and general parameters\n",
    "\n",
    "R = 8.314e6                 # [Pa.cm³/(K.mol.)]\n",
    "k1 = 0.04                   # [s-¹]\n",
    "k1_Inv = 6.40e6             # [cm³/s-mol]\n",
    "k2 = 4.20                   # [s-¹]\n",
    "k2_Inv = 56.38              # [cm³/s-mol]\n",
    "\n",
    "    \n",
    "# Molecular weights\n",
    "MM_B = 78.00     #[g/mol] \n",
    "\n",
    "# Fixed Reactor Values\n",
    "T = 1173.15                 # Temperature[K]  =900[°C] (Isothermal)\n",
    "Q = 3600 * 0.01e-4          # [mol/(h.cm².atm1/4)]\n",
    "selec = 1500\n",
    "\n",
    "# Tube side\n",
    "Pt = 101325.0               # Pressure [Pa](1atm)\n",
    "v0 = 3600 * (2 / 15)        # Vol. Flowrate [cm³ h-¹]\n",
    "Ft0 = Pt * v0 / (R * T)     # Initial molar flowrate[mol/h] - Pure CH4\n",
    "\n",
    "# Shell side\n",
    "Ps = 101325.0               # Pressure [Pa](1atm)\n",
    "ds = 3                      # Diameter[cm]\n",
    "v_He = 3600 * (1 / 6)       # Vol. flowrate[cm³/h]\n",
    "F_He = Ps * v_He / (R * T)  # Sweep gas molar flowrate [mol/h]"
   ]
  },
  {
   "attachments": {},
   "cell_type": "markdown",
   "metadata": {},
   "source": [
    "Defining the DMA-MR Model equations (mol balances), compatible with Google's JAX:"
   ]
  },
  {
   "cell_type": "code",
   "execution_count": 3,
   "metadata": {},
   "outputs": [],
   "source": [
    "def dma_mr_model(F, z, dt):\n",
    "\n",
    "    At = 0.25 * np.pi * (dt ** 2)  # Cross sectional area[cm³]\n",
    "    \n",
    "    # Avoid negative flows that can happen in the first integration steps.\n",
    "    # Consequently this avoids that any molar balance (^ 1/4 terms) generates\n",
    "    # complex numbers.\n",
    "    F = np.where(F <= 1e-9, 1e-9, F)\n",
    "    \n",
    "\n",
    "    \n",
    "    # Evaluate total flowrate in tube & shell.\n",
    "    Ft = F[0:4].sum()\n",
    "    Fs = F[4:].sum() + F_He\n",
    "    v = v0 * (Ft / Ft0)\n",
    "\n",
    "    # Concentrations from molar flowrates [mol/cm3]\n",
    "    C = F[:4] / v\n",
    "    # Partial pressures - Tube & Shell [mol/cm3]\n",
    "\n",
    "    P0t = (Pt / 101325) * (F[0] / Ft)\n",
    "    P1t = (Pt / 101325) * (F[1] / Ft)\n",
    "    P2t = (Pt / 101325) * (F[2] / Ft)\n",
    "    P3t = (Pt / 101325) * (F[3] / Ft)\n",
    "\n",
    "    P0s = (Ps / 101325) * (F[4] / Fs)\n",
    "    P1s = (Ps / 101325) * (F[5] / Fs)\n",
    "    P2s = (Ps / 101325) * (F[6] / Fs)\n",
    "    P3s = (Ps / 101325) * (F[7] / Fs)\n",
    "    \n",
    "    \n",
    "\n",
    "    \n",
    "    r0 = 3600 * k1 * C[0] * (1 - ((k1_Inv * C[1] * C[2] ** 2) / \n",
    "                                  (k1 * (C[0])**2 )))\n",
    "    \n",
    "\n",
    "    # This replicates an if statement whenever the concentrations are near zero\n",
    "    C0_aux = C[0]\n",
    "    r0 = np.where(C0_aux <= 1e-9, 0, r0)\n",
    "    \n",
    "    r1 = 3600 * k2 * C[1] * (1 - ((k2_Inv * C[3] * C[2] ** 3) / \n",
    "                                  (k2 * (C[1])**3 )))\n",
    "    \n",
    "\n",
    "    # Same as before\n",
    "    C1_aux = C[1]\n",
    "    r1 = np.where(C1_aux <= 1e-9 , 0, r1)  \n",
    "\n",
    "    # Molar balances adjustment with experimental data.\n",
    "    eff = 0.9\n",
    "    vb = 0.5\n",
    "    Cat = (1 - vb) * eff\n",
    "\n",
    "    # Molar balances dFdz - Tube (0 to 3) & Shell (4 to 7)\n",
    "    dF0 = -Cat * r0 * At - (Q / selec) * ((P0t ** 0.25) - (P0s ** 0.25)) * pi * dt\n",
    "    dF1 = 1 / 2 * Cat * r0 * At - Cat * r1 * At - (Q / selec) * ((P1t ** 0.25) - (P1s ** 0.25)) * pi * dt\n",
    "    dF2 = Cat * r0 * At + Cat * r1 * At- (Q) * ((P2t ** 0.25) - (P2s ** 0.25)) * pi * dt\n",
    "    dF3 = (1 / 3) * Cat * r1 * At - (Q / selec) * ((P3t ** 0.25) - (P3s ** 0.25)) * pi * dt\n",
    "    dF4 = (Q / selec) * ((P0t ** 0.25) - (P0s ** 0.25)) * pi * dt\n",
    "    dF5 = (Q / selec) * ((P1t ** 0.25) - (P1s ** 0.25)) * pi * dt\n",
    "    dF6 = (Q) * ((P2t ** 0.25) - (P2s ** 0.25)) * pi * dt\n",
    "    dF7 = (Q / selec) * ((P3t ** 0.25) - (P3s ** 0.25)) * pi * dt\n",
    "    \n",
    "    dFdz = np.array([ dF0, dF1, dF2, dF3, dF4, dF5, dF6, dF7 ])\n",
    "\n",
    "    return dFdz"
   ]
  },
  {
   "attachments": {},
   "cell_type": "markdown",
   "metadata": {},
   "source": [
    "### Analyzing a modular design region using operability inverse mapping"
   ]
  },
  {
   "attachments": {},
   "cell_type": "markdown",
   "metadata": {},
   "source": [
    "Defining the outputs based on the integration of the DMA-MR model equations.\n",
    "\n",
    "AIS/DIS Variables:\n",
    "- Length [cm]\n",
    "- Diameter [cm]\n",
    "\n",
    "AOS/DOS Variables:\n",
    "- Methane conversion [%]\n",
    "- Benzene production [mg/h]"
   ]
  },
  {
   "cell_type": "code",
   "execution_count": 4,
   "metadata": {},
   "outputs": [],
   "source": [
    "def dma_mr_design(u):\n",
    "\n",
    "    L =  u[0]\n",
    "    dt = u[1]\n",
    "\n",
    "    # Initial conditions\n",
    "    y0 = np.hstack((Ft0, np.zeros(7)))\n",
    "    rtol, atol = 1e-10, 1e-10\n",
    "\n",
    "    # Integration of mol balances using Jax's Dormand Prince\n",
    "    z = np.linspace(0, L, 2000)\n",
    "    F = odeint(dma_mr_model, y0, z, dt, rtol=rtol, atol=atol)\n",
    "    \n",
    "    # Calculating outputs (AOS/DOS) from states.\n",
    "    F_C6H6 = ((F[-1, 3] * 1000) * MM_B)\n",
    "    X_CH4  = (100 * (Ft0 - F[-1, 0] - F[-1, 4]) / Ft0)\n",
    "\n",
    "    return np.array([F_C6H6, X_CH4])"
   ]
  },
  {
   "attachments": {},
   "cell_type": "markdown",
   "metadata": {},
   "source": [
    "Importing pypo's inverse mapping (NLP-based)"
   ]
  },
  {
   "cell_type": "code",
   "execution_count": 5,
   "metadata": {},
   "outputs": [],
   "source": [
    "from pypo import nlp_based_approach"
   ]
  },
  {
   "attachments": {},
   "cell_type": "markdown",
   "metadata": {},
   "source": [
    "Definition of operability sets and its bounds"
   ]
  },
  {
   "cell_type": "code",
   "execution_count": 6,
   "metadata": {},
   "outputs": [
    {
     "name": "stderr",
     "output_type": "stream",
     "text": [
      "WARNING:absl:No GPU/TPU found, falling back to CPU. (Set TF_CPP_MIN_LOG_LEVEL=0 and rerun for more info.)\n"
     ]
    }
   ],
   "source": [
    "# Lower and upper bounds for DOS definition\n",
    "DOS_bounds = np.array([[15,25],\n",
    "                       [35,45]])\n",
    "\n",
    "# Discretization Grid - 10x10 grid for DOS.\n",
    "DOS_resolution =  [10, 10]\n",
    "\n",
    "# Lower and upper bounds of AIS design variables.\n",
    "lb = np.array([10,  0.1])\n",
    "ub = np.array([300, 2])\n",
    "\n",
    "# Initial estimate for NLP.\n",
    "u0 = np.array([50, 1])"
   ]
  },
  {
   "cell_type": "code",
   "execution_count": 7,
   "metadata": {},
   "outputs": [],
   "source": [
    "import time"
   ]
  },
  {
   "attachments": {},
   "cell_type": "markdown",
   "metadata": {},
   "source": [
    "Defining a nonlinear constraint $L/D \\geq 30 $ to the inverse mapping to guarantee\n",
    "plug-flow operation"
   ]
  },
  {
   "cell_type": "code",
   "execution_count": 8,
   "metadata": {},
   "outputs": [],
   "source": [
    "# Plug-flow constraint definition: Length/Diameter >= 30.\n",
    "def plug_flow(u):\n",
    "    return u[0] - 30.0*u[1]\n",
    "\n",
    "con= {'type': 'ineq', 'fun': plug_flow}"
   ]
  },
  {
   "attachments": {},
   "cell_type": "markdown",
   "metadata": {},
   "source": [
    "Obtaining the feasible desired input/output sets $(DIS^*/DOS^*)$ at each discretized point"
   ]
  },
  {
   "cell_type": "code",
   "execution_count": 9,
   "metadata": {},
   "outputs": [
    {
     "name": "stdout",
     "output_type": "stream",
     "text": [
      " You have selected automatic differentiation as a method for obtaining higher-order data (Jacobians/Hessian). Make sure your process model is JAX-compatible implementation-wise.\n"
     ]
    },
    {
     "name": "stderr",
     "output_type": "stream",
     "text": [
      "\r",
      "  0%|                                                                                          | 0/100 [00:00<?, ?it/s]"
     ]
    },
    {
     "name": "stderr",
     "output_type": "stream",
     "text": [
      "\r",
      "  1%|▊                                                                                 | 1/100 [00:13<23:05, 14.00s/it]"
     ]
    },
    {
     "name": "stderr",
     "output_type": "stream",
     "text": [
      "\r",
      "  2%|█▋                                                                                | 2/100 [00:20<16:03,  9.83s/it]"
     ]
    },
    {
     "name": "stderr",
     "output_type": "stream",
     "text": [
      "\r",
      "  3%|██▍                                                                               | 3/100 [00:24<10:57,  6.78s/it]"
     ]
    },
    {
     "name": "stderr",
     "output_type": "stream",
     "text": [
      "\r",
      "  4%|███▎                                                                              | 4/100 [00:25<07:40,  4.80s/it]"
     ]
    },
    {
     "name": "stderr",
     "output_type": "stream",
     "text": [
      "\r",
      "  5%|████                                                                              | 5/100 [00:27<06:00,  3.79s/it]"
     ]
    },
    {
     "name": "stderr",
     "output_type": "stream",
     "text": [
      "\r",
      "  5%|████                                                                              | 5/100 [00:29<09:27,  5.97s/it]"
     ]
    },
    {
     "name": "stderr",
     "output_type": "stream",
     "text": [
      "\n"
     ]
    },
    {
     "ename": "KeyboardInterrupt",
     "evalue": "",
     "output_type": "error",
     "traceback": [
      "\u001b[1;31m---------------------------------------------------------------------------\u001b[0m",
      "\u001b[1;31mKeyboardInterrupt\u001b[0m                         Traceback (most recent call last)",
      "\u001b[1;32m~\\AppData\\Local\\Temp\\ipykernel_18440\\3735784662.py\u001b[0m in \u001b[0;36m<module>\u001b[1;34m\u001b[0m\n\u001b[0;32m      3\u001b[0m \u001b[1;31m# Obtain inverse mapping.\u001b[0m\u001b[1;33m\u001b[0m\u001b[1;33m\u001b[0m\u001b[0m\n\u001b[0;32m      4\u001b[0m \u001b[0mt\u001b[0m \u001b[1;33m=\u001b[0m \u001b[0mtime\u001b[0m\u001b[1;33m.\u001b[0m\u001b[0mtime\u001b[0m\u001b[1;33m(\u001b[0m\u001b[1;33m)\u001b[0m\u001b[1;33m\u001b[0m\u001b[1;33m\u001b[0m\u001b[0m\n\u001b[1;32m----> 5\u001b[1;33m fDIS, fDOS, convergence = nlp_based_approach(DOS_bounds, \n\u001b[0m\u001b[0;32m      6\u001b[0m                                              \u001b[0mDOS_resolution\u001b[0m\u001b[1;33m,\u001b[0m\u001b[1;33m\u001b[0m\u001b[1;33m\u001b[0m\u001b[0m\n\u001b[0;32m      7\u001b[0m                                              \u001b[0mdma_mr_design\u001b[0m\u001b[1;33m,\u001b[0m\u001b[1;33m\u001b[0m\u001b[1;33m\u001b[0m\u001b[0m\n",
      "\u001b[1;32m~\\Documents\\python_operability\\python_operability\\src\\pypo.py\u001b[0m in \u001b[0;36mnlp_based_approach\u001b[1;34m(DOS_bounds, DOS_resolution, model, u0, lb, ub, constr, method, plot, ad, warmstart)\u001b[0m\n\u001b[0;32m    785\u001b[0m             \u001b[1;32mif\u001b[0m \u001b[0mmethod\u001b[0m \u001b[1;33m==\u001b[0m \u001b[1;34m'ipopt'\u001b[0m\u001b[1;33m:\u001b[0m\u001b[1;33m\u001b[0m\u001b[1;33m\u001b[0m\u001b[0m\n\u001b[0;32m    786\u001b[0m                 \u001b[1;32mif\u001b[0m \u001b[0mad\u001b[0m\u001b[1;33m==\u001b[0m\u001b[1;32mTrue\u001b[0m\u001b[1;33m:\u001b[0m\u001b[1;33m\u001b[0m\u001b[1;33m\u001b[0m\u001b[0m\n\u001b[1;32m--> 787\u001b[1;33m                     sol = minimize_ipopt(p1, x0=u0, bounds=bounds,\n\u001b[0m\u001b[0;32m    788\u001b[0m                                          \u001b[0mconstraints\u001b[0m\u001b[1;33m=\u001b[0m\u001b[1;33m(\u001b[0m\u001b[0mconstr\u001b[0m\u001b[1;33m)\u001b[0m\u001b[1;33m,\u001b[0m\u001b[1;33m\u001b[0m\u001b[1;33m\u001b[0m\u001b[0m\n\u001b[0;32m    789\u001b[0m                                          \u001b[0mjac\u001b[0m\u001b[1;33m=\u001b[0m\u001b[0mgrad_ad\u001b[0m\u001b[1;33m,\u001b[0m\u001b[1;33m\u001b[0m\u001b[1;33m\u001b[0m\u001b[0m\n",
      "\u001b[1;32m~\\Anaconda3\\envs\\operability\\lib\\site-packages\\cyipopt\\scipy_interface.py\u001b[0m in \u001b[0;36mminimize_ipopt\u001b[1;34m(fun, x0, args, kwargs, method, jac, hess, hessp, bounds, constraints, tol, callback, options)\u001b[0m\n\u001b[0;32m    312\u001b[0m             \u001b[1;32mraise\u001b[0m \u001b[0mTypeError\u001b[0m\u001b[1;33m(\u001b[0m\u001b[0mmsg\u001b[0m\u001b[1;33m.\u001b[0m\u001b[0mformat\u001b[0m\u001b[1;33m(\u001b[0m\u001b[0moption\u001b[0m\u001b[1;33m,\u001b[0m \u001b[0mvalue\u001b[0m\u001b[1;33m,\u001b[0m \u001b[0me\u001b[0m\u001b[1;33m)\u001b[0m\u001b[1;33m)\u001b[0m\u001b[1;33m\u001b[0m\u001b[1;33m\u001b[0m\u001b[0m\n\u001b[0;32m    313\u001b[0m \u001b[1;33m\u001b[0m\u001b[0m\n\u001b[1;32m--> 314\u001b[1;33m     \u001b[0mx\u001b[0m\u001b[1;33m,\u001b[0m \u001b[0minfo\u001b[0m \u001b[1;33m=\u001b[0m \u001b[0mnlp\u001b[0m\u001b[1;33m.\u001b[0m\u001b[0msolve\u001b[0m\u001b[1;33m(\u001b[0m\u001b[0m_x0\u001b[0m\u001b[1;33m)\u001b[0m\u001b[1;33m\u001b[0m\u001b[1;33m\u001b[0m\u001b[0m\n\u001b[0m\u001b[0;32m    315\u001b[0m \u001b[1;33m\u001b[0m\u001b[0m\n\u001b[0;32m    316\u001b[0m     \u001b[1;32mif\u001b[0m \u001b[0mnp\u001b[0m\u001b[1;33m.\u001b[0m\u001b[0masarray\u001b[0m\u001b[1;33m(\u001b[0m\u001b[0mx0\u001b[0m\u001b[1;33m)\u001b[0m\u001b[1;33m.\u001b[0m\u001b[0mshape\u001b[0m \u001b[1;33m==\u001b[0m \u001b[1;33m(\u001b[0m\u001b[1;33m)\u001b[0m\u001b[1;33m:\u001b[0m\u001b[1;33m\u001b[0m\u001b[1;33m\u001b[0m\u001b[0m\n",
      "\u001b[1;32m~\\Anaconda3\\envs\\operability\\lib\\site-packages\\cyipopt\\cython\\ipopt_wrapper.pyx\u001b[0m in \u001b[0;36mipopt_wrapper.Problem.solve\u001b[1;34m()\u001b[0m\n",
      "\u001b[1;32m~\\Anaconda3\\envs\\operability\\lib\\site-packages\\cyipopt\\cython\\ipopt_wrapper.pyx\u001b[0m in \u001b[0;36mipopt_wrapper.objective_cb\u001b[1;34m()\u001b[0m\n",
      "\u001b[1;32m~\\Anaconda3\\envs\\operability\\lib\\site-packages\\cyipopt\\scipy_interface.py\u001b[0m in \u001b[0;36mobjective\u001b[1;34m(self, x)\u001b[0m\n\u001b[0;32m    143\u001b[0m     \u001b[1;32mdef\u001b[0m \u001b[0mobjective\u001b[0m\u001b[1;33m(\u001b[0m\u001b[0mself\u001b[0m\u001b[1;33m,\u001b[0m \u001b[0mx\u001b[0m\u001b[1;33m)\u001b[0m\u001b[1;33m:\u001b[0m\u001b[1;33m\u001b[0m\u001b[1;33m\u001b[0m\u001b[0m\n\u001b[0;32m    144\u001b[0m         \u001b[0mself\u001b[0m\u001b[1;33m.\u001b[0m\u001b[0mnfev\u001b[0m \u001b[1;33m+=\u001b[0m \u001b[1;36m1\u001b[0m\u001b[1;33m\u001b[0m\u001b[1;33m\u001b[0m\u001b[0m\n\u001b[1;32m--> 145\u001b[1;33m         \u001b[1;32mreturn\u001b[0m \u001b[0mself\u001b[0m\u001b[1;33m.\u001b[0m\u001b[0mfun\u001b[0m\u001b[1;33m(\u001b[0m\u001b[0mx\u001b[0m\u001b[1;33m,\u001b[0m \u001b[1;33m*\u001b[0m\u001b[0mself\u001b[0m\u001b[1;33m.\u001b[0m\u001b[0margs\u001b[0m\u001b[1;33m,\u001b[0m \u001b[1;33m**\u001b[0m\u001b[0mself\u001b[0m\u001b[1;33m.\u001b[0m\u001b[0mkwargs\u001b[0m\u001b[1;33m)\u001b[0m\u001b[1;33m\u001b[0m\u001b[1;33m\u001b[0m\u001b[0m\n\u001b[0m\u001b[0;32m    146\u001b[0m \u001b[1;33m\u001b[0m\u001b[0m\n\u001b[0;32m    147\u001b[0m     \u001b[1;32mdef\u001b[0m \u001b[0mgradient\u001b[0m\u001b[1;33m(\u001b[0m\u001b[0mself\u001b[0m\u001b[1;33m,\u001b[0m \u001b[0mx\u001b[0m\u001b[1;33m,\u001b[0m \u001b[1;33m**\u001b[0m\u001b[0mkwargs\u001b[0m\u001b[1;33m)\u001b[0m\u001b[1;33m:\u001b[0m\u001b[1;33m\u001b[0m\u001b[1;33m\u001b[0m\u001b[0m\n",
      "\u001b[1;32m~\\Documents\\python_operability\\python_operability\\src\\pypo.py\u001b[0m in \u001b[0;36mp1\u001b[1;34m(u, model, DOSpt)\u001b[0m\n\u001b[0;32m    655\u001b[0m                DOSpt: np.ndarray):\n\u001b[0;32m    656\u001b[0m \u001b[1;33m\u001b[0m\u001b[0m\n\u001b[1;32m--> 657\u001b[1;33m             \u001b[0my_found\u001b[0m \u001b[1;33m=\u001b[0m \u001b[0mmodel\u001b[0m\u001b[1;33m(\u001b[0m\u001b[0mu\u001b[0m\u001b[1;33m)\u001b[0m\u001b[1;33m\u001b[0m\u001b[1;33m\u001b[0m\u001b[0m\n\u001b[0m\u001b[0;32m    658\u001b[0m \u001b[1;33m\u001b[0m\u001b[0m\n\u001b[0;32m    659\u001b[0m             \u001b[0mvector_of_f\u001b[0m \u001b[1;33m=\u001b[0m \u001b[0mnp\u001b[0m\u001b[1;33m.\u001b[0m\u001b[0marray\u001b[0m\u001b[1;33m(\u001b[0m\u001b[1;33m[\u001b[0m\u001b[0my_found\u001b[0m\u001b[1;33m.\u001b[0m\u001b[0mT\u001b[0m\u001b[1;33m,\u001b[0m \u001b[0mDOSpt\u001b[0m\u001b[1;33m.\u001b[0m\u001b[0mT\u001b[0m\u001b[1;33m]\u001b[0m\u001b[1;33m)\u001b[0m\u001b[1;33m\u001b[0m\u001b[1;33m\u001b[0m\u001b[0m\n",
      "\u001b[1;32m~\\AppData\\Local\\Temp\\ipykernel_18440\\2790093821.py\u001b[0m in \u001b[0;36mdma_mr_design\u001b[1;34m(u)\u001b[0m\n\u001b[0;32m     13\u001b[0m \u001b[1;33m\u001b[0m\u001b[0m\n\u001b[0;32m     14\u001b[0m     \u001b[1;31m# Calculating outputs (AOS/DOS) from states.\u001b[0m\u001b[1;33m\u001b[0m\u001b[1;33m\u001b[0m\u001b[0m\n\u001b[1;32m---> 15\u001b[1;33m     \u001b[0mF_C6H6\u001b[0m \u001b[1;33m=\u001b[0m \u001b[1;33m(\u001b[0m\u001b[1;33m(\u001b[0m\u001b[0mF\u001b[0m\u001b[1;33m[\u001b[0m\u001b[1;33m-\u001b[0m\u001b[1;36m1\u001b[0m\u001b[1;33m,\u001b[0m \u001b[1;36m3\u001b[0m\u001b[1;33m]\u001b[0m \u001b[1;33m*\u001b[0m \u001b[1;36m1000\u001b[0m\u001b[1;33m)\u001b[0m \u001b[1;33m*\u001b[0m \u001b[0mMM_B\u001b[0m\u001b[1;33m)\u001b[0m\u001b[1;33m\u001b[0m\u001b[1;33m\u001b[0m\u001b[0m\n\u001b[0m\u001b[0;32m     16\u001b[0m     \u001b[0mX_CH4\u001b[0m  \u001b[1;33m=\u001b[0m \u001b[1;33m(\u001b[0m\u001b[1;36m100\u001b[0m \u001b[1;33m*\u001b[0m \u001b[1;33m(\u001b[0m\u001b[0mFt0\u001b[0m \u001b[1;33m-\u001b[0m \u001b[0mF\u001b[0m\u001b[1;33m[\u001b[0m\u001b[1;33m-\u001b[0m\u001b[1;36m1\u001b[0m\u001b[1;33m,\u001b[0m \u001b[1;36m0\u001b[0m\u001b[1;33m]\u001b[0m \u001b[1;33m-\u001b[0m \u001b[0mF\u001b[0m\u001b[1;33m[\u001b[0m\u001b[1;33m-\u001b[0m\u001b[1;36m1\u001b[0m\u001b[1;33m,\u001b[0m \u001b[1;36m4\u001b[0m\u001b[1;33m]\u001b[0m\u001b[1;33m)\u001b[0m \u001b[1;33m/\u001b[0m \u001b[0mFt0\u001b[0m\u001b[1;33m)\u001b[0m\u001b[1;33m\u001b[0m\u001b[1;33m\u001b[0m\u001b[0m\n\u001b[0;32m     17\u001b[0m \u001b[1;33m\u001b[0m\u001b[0m\n",
      "\u001b[1;32m~\\Anaconda3\\envs\\operability\\lib\\site-packages\\jax\\_src\\numpy\\lax_numpy.py\u001b[0m in \u001b[0;36m_rewriting_take\u001b[1;34m(arr, idx, indices_are_sorted, unique_indices, mode, fill_value)\u001b[0m\n\u001b[0;32m   3568\u001b[0m \u001b[1;33m\u001b[0m\u001b[0m\n\u001b[0;32m   3569\u001b[0m   \u001b[0mtreedef\u001b[0m\u001b[1;33m,\u001b[0m \u001b[0mstatic_idx\u001b[0m\u001b[1;33m,\u001b[0m \u001b[0mdynamic_idx\u001b[0m \u001b[1;33m=\u001b[0m \u001b[0m_split_index_for_jit\u001b[0m\u001b[1;33m(\u001b[0m\u001b[0midx\u001b[0m\u001b[1;33m,\u001b[0m \u001b[0marr\u001b[0m\u001b[1;33m.\u001b[0m\u001b[0mshape\u001b[0m\u001b[1;33m)\u001b[0m\u001b[1;33m\u001b[0m\u001b[1;33m\u001b[0m\u001b[0m\n\u001b[1;32m-> 3570\u001b[1;33m   return _gather(arr, treedef, static_idx, dynamic_idx, indices_are_sorted,\n\u001b[0m\u001b[0;32m   3571\u001b[0m                  unique_indices, mode, fill_value)\n\u001b[0;32m   3572\u001b[0m \u001b[1;33m\u001b[0m\u001b[0m\n",
      "\u001b[1;32m~\\Anaconda3\\envs\\operability\\lib\\site-packages\\jax\\_src\\numpy\\lax_numpy.py\u001b[0m in \u001b[0;36m_gather\u001b[1;34m(arr, treedef, static_idx, dynamic_idx, indices_are_sorted, unique_indices, mode, fill_value)\u001b[0m\n\u001b[0;32m   3577\u001b[0m             unique_indices, mode, fill_value):\n\u001b[0;32m   3578\u001b[0m   \u001b[0midx\u001b[0m \u001b[1;33m=\u001b[0m \u001b[0m_merge_static_and_dynamic_indices\u001b[0m\u001b[1;33m(\u001b[0m\u001b[0mtreedef\u001b[0m\u001b[1;33m,\u001b[0m \u001b[0mstatic_idx\u001b[0m\u001b[1;33m,\u001b[0m \u001b[0mdynamic_idx\u001b[0m\u001b[1;33m)\u001b[0m\u001b[1;33m\u001b[0m\u001b[1;33m\u001b[0m\u001b[0m\n\u001b[1;32m-> 3579\u001b[1;33m   \u001b[0mindexer\u001b[0m \u001b[1;33m=\u001b[0m \u001b[0m_index_to_gather\u001b[0m\u001b[1;33m(\u001b[0m\u001b[0mshape\u001b[0m\u001b[1;33m(\u001b[0m\u001b[0marr\u001b[0m\u001b[1;33m)\u001b[0m\u001b[1;33m,\u001b[0m \u001b[0midx\u001b[0m\u001b[1;33m)\u001b[0m  \u001b[1;31m# shared with _scatter_update\u001b[0m\u001b[1;33m\u001b[0m\u001b[1;33m\u001b[0m\u001b[0m\n\u001b[0m\u001b[0;32m   3580\u001b[0m   \u001b[0my\u001b[0m \u001b[1;33m=\u001b[0m \u001b[0marr\u001b[0m\u001b[1;33m\u001b[0m\u001b[1;33m\u001b[0m\u001b[0m\n\u001b[0;32m   3581\u001b[0m \u001b[1;33m\u001b[0m\u001b[0m\n",
      "\u001b[1;32m~\\Anaconda3\\envs\\operability\\lib\\site-packages\\jax\\_src\\numpy\\lax_numpy.py\u001b[0m in \u001b[0;36m_index_to_gather\u001b[1;34m(x_shape, idx, normalize_indices)\u001b[0m\n\u001b[0;32m   3777\u001b[0m         \u001b[1;31m# XLA gives error when indexing into an axis of size 0\u001b[0m\u001b[1;33m\u001b[0m\u001b[1;33m\u001b[0m\u001b[0m\n\u001b[0;32m   3778\u001b[0m         \u001b[1;32mraise\u001b[0m \u001b[0mIndexError\u001b[0m\u001b[1;33m(\u001b[0m\u001b[1;34mf\"index is out of bounds for axis {x_axis} with size 0\"\u001b[0m\u001b[1;33m)\u001b[0m\u001b[1;33m\u001b[0m\u001b[1;33m\u001b[0m\u001b[0m\n\u001b[1;32m-> 3779\u001b[1;33m       \u001b[0mi\u001b[0m \u001b[1;33m=\u001b[0m \u001b[0m_normalize_index\u001b[0m\u001b[1;33m(\u001b[0m\u001b[0mi\u001b[0m\u001b[1;33m,\u001b[0m \u001b[0mx_shape\u001b[0m\u001b[1;33m[\u001b[0m\u001b[0mx_axis\u001b[0m\u001b[1;33m]\u001b[0m\u001b[1;33m)\u001b[0m \u001b[1;32mif\u001b[0m \u001b[0mnormalize_indices\u001b[0m \u001b[1;32melse\u001b[0m \u001b[0mi\u001b[0m\u001b[1;33m\u001b[0m\u001b[1;33m\u001b[0m\u001b[0m\n\u001b[0m\u001b[0;32m   3780\u001b[0m       \u001b[0mi\u001b[0m \u001b[1;33m=\u001b[0m \u001b[0mlax\u001b[0m\u001b[1;33m.\u001b[0m\u001b[0mconvert_element_type\u001b[0m\u001b[1;33m(\u001b[0m\u001b[0mi\u001b[0m\u001b[1;33m,\u001b[0m \u001b[0mindex_dtype\u001b[0m\u001b[1;33m)\u001b[0m\u001b[1;33m\u001b[0m\u001b[1;33m\u001b[0m\u001b[0m\n\u001b[0;32m   3781\u001b[0m       \u001b[0mgather_indices\u001b[0m\u001b[1;33m.\u001b[0m\u001b[0mappend\u001b[0m\u001b[1;33m(\u001b[0m\u001b[1;33m(\u001b[0m\u001b[0mi\u001b[0m\u001b[1;33m,\u001b[0m \u001b[0mlen\u001b[0m\u001b[1;33m(\u001b[0m\u001b[0mgather_indices_shape\u001b[0m\u001b[1;33m)\u001b[0m\u001b[1;33m)\u001b[0m\u001b[1;33m)\u001b[0m\u001b[1;33m\u001b[0m\u001b[1;33m\u001b[0m\u001b[0m\n",
      "\u001b[1;32m~\\Anaconda3\\envs\\operability\\lib\\site-packages\\jax\\_src\\numpy\\lax_numpy.py\u001b[0m in \u001b[0;36m_normalize_index\u001b[1;34m(index, axis_size)\u001b[0m\n\u001b[0;32m   3451\u001b[0m                                              _dtype(index))\n\u001b[0;32m   3452\u001b[0m   return lax.select(\n\u001b[1;32m-> 3453\u001b[1;33m     \u001b[0mlax\u001b[0m\u001b[1;33m.\u001b[0m\u001b[0mlt\u001b[0m\u001b[1;33m(\u001b[0m\u001b[0mindex\u001b[0m\u001b[1;33m,\u001b[0m \u001b[0m_lax_const\u001b[0m\u001b[1;33m(\u001b[0m\u001b[0mindex\u001b[0m\u001b[1;33m,\u001b[0m \u001b[1;36m0\u001b[0m\u001b[1;33m)\u001b[0m\u001b[1;33m)\u001b[0m\u001b[1;33m,\u001b[0m\u001b[1;33m\u001b[0m\u001b[1;33m\u001b[0m\u001b[0m\n\u001b[0m\u001b[0;32m   3454\u001b[0m     \u001b[0mlax\u001b[0m\u001b[1;33m.\u001b[0m\u001b[0madd\u001b[0m\u001b[1;33m(\u001b[0m\u001b[0mindex\u001b[0m\u001b[1;33m,\u001b[0m \u001b[0maxis_size_val\u001b[0m\u001b[1;33m)\u001b[0m\u001b[1;33m,\u001b[0m\u001b[1;33m\u001b[0m\u001b[1;33m\u001b[0m\u001b[0m\n\u001b[0;32m   3455\u001b[0m     index)\n",
      "\u001b[1;32m~\\Anaconda3\\envs\\operability\\lib\\site-packages\\jax\\_src\\lax\\lax.py\u001b[0m in \u001b[0;36mlt\u001b[1;34m(x, y)\u001b[0m\n\u001b[0;32m    466\u001b[0m \u001b[1;32mdef\u001b[0m \u001b[0mlt\u001b[0m\u001b[1;33m(\u001b[0m\u001b[0mx\u001b[0m\u001b[1;33m:\u001b[0m \u001b[0mArray\u001b[0m\u001b[1;33m,\u001b[0m \u001b[0my\u001b[0m\u001b[1;33m:\u001b[0m \u001b[0mArray\u001b[0m\u001b[1;33m)\u001b[0m \u001b[1;33m->\u001b[0m \u001b[0mArray\u001b[0m\u001b[1;33m:\u001b[0m\u001b[1;33m\u001b[0m\u001b[1;33m\u001b[0m\u001b[0m\n\u001b[0;32m    467\u001b[0m   \u001b[1;34mr\"\"\"Elementwise less-than: :math:`x < y`.\"\"\"\u001b[0m\u001b[1;33m\u001b[0m\u001b[1;33m\u001b[0m\u001b[0m\n\u001b[1;32m--> 468\u001b[1;33m   \u001b[1;32mreturn\u001b[0m \u001b[0mlt_p\u001b[0m\u001b[1;33m.\u001b[0m\u001b[0mbind\u001b[0m\u001b[1;33m(\u001b[0m\u001b[0mx\u001b[0m\u001b[1;33m,\u001b[0m \u001b[0my\u001b[0m\u001b[1;33m)\u001b[0m\u001b[1;33m\u001b[0m\u001b[1;33m\u001b[0m\u001b[0m\n\u001b[0m\u001b[0;32m    469\u001b[0m \u001b[1;33m\u001b[0m\u001b[0m\n\u001b[0;32m    470\u001b[0m \u001b[1;32mdef\u001b[0m \u001b[0mconvert_element_type\u001b[0m\u001b[1;33m(\u001b[0m\u001b[0moperand\u001b[0m\u001b[1;33m:\u001b[0m \u001b[0mArray\u001b[0m\u001b[1;33m,\u001b[0m \u001b[0mnew_dtype\u001b[0m\u001b[1;33m:\u001b[0m \u001b[0mDType\u001b[0m\u001b[1;33m)\u001b[0m \u001b[1;33m->\u001b[0m \u001b[0mArray\u001b[0m\u001b[1;33m:\u001b[0m\u001b[1;33m\u001b[0m\u001b[1;33m\u001b[0m\u001b[0m\n",
      "\u001b[1;32m~\\Anaconda3\\envs\\operability\\lib\\site-packages\\jax\\core.py\u001b[0m in \u001b[0;36mbind\u001b[1;34m(self, *args, **params)\u001b[0m\n\u001b[0;32m    325\u001b[0m     assert (not config.jax_enable_checks or\n\u001b[0;32m    326\u001b[0m             all(isinstance(arg, Tracer) or valid_jaxtype(arg) for arg in args)), args\n\u001b[1;32m--> 327\u001b[1;33m     \u001b[1;32mreturn\u001b[0m \u001b[0mself\u001b[0m\u001b[1;33m.\u001b[0m\u001b[0mbind_with_trace\u001b[0m\u001b[1;33m(\u001b[0m\u001b[0mfind_top_trace\u001b[0m\u001b[1;33m(\u001b[0m\u001b[0margs\u001b[0m\u001b[1;33m)\u001b[0m\u001b[1;33m,\u001b[0m \u001b[0margs\u001b[0m\u001b[1;33m,\u001b[0m \u001b[0mparams\u001b[0m\u001b[1;33m)\u001b[0m\u001b[1;33m\u001b[0m\u001b[1;33m\u001b[0m\u001b[0m\n\u001b[0m\u001b[0;32m    328\u001b[0m \u001b[1;33m\u001b[0m\u001b[0m\n\u001b[0;32m    329\u001b[0m   \u001b[1;32mdef\u001b[0m \u001b[0mbind_with_trace\u001b[0m\u001b[1;33m(\u001b[0m\u001b[0mself\u001b[0m\u001b[1;33m,\u001b[0m \u001b[0mtrace\u001b[0m\u001b[1;33m,\u001b[0m \u001b[0margs\u001b[0m\u001b[1;33m,\u001b[0m \u001b[0mparams\u001b[0m\u001b[1;33m)\u001b[0m\u001b[1;33m:\u001b[0m\u001b[1;33m\u001b[0m\u001b[1;33m\u001b[0m\u001b[0m\n",
      "\u001b[1;32m~\\Anaconda3\\envs\\operability\\lib\\site-packages\\jax\\core.py\u001b[0m in \u001b[0;36mbind_with_trace\u001b[1;34m(self, trace, args, params)\u001b[0m\n\u001b[0;32m    328\u001b[0m \u001b[1;33m\u001b[0m\u001b[0m\n\u001b[0;32m    329\u001b[0m   \u001b[1;32mdef\u001b[0m \u001b[0mbind_with_trace\u001b[0m\u001b[1;33m(\u001b[0m\u001b[0mself\u001b[0m\u001b[1;33m,\u001b[0m \u001b[0mtrace\u001b[0m\u001b[1;33m,\u001b[0m \u001b[0margs\u001b[0m\u001b[1;33m,\u001b[0m \u001b[0mparams\u001b[0m\u001b[1;33m)\u001b[0m\u001b[1;33m:\u001b[0m\u001b[1;33m\u001b[0m\u001b[1;33m\u001b[0m\u001b[0m\n\u001b[1;32m--> 330\u001b[1;33m     \u001b[0mout\u001b[0m \u001b[1;33m=\u001b[0m \u001b[0mtrace\u001b[0m\u001b[1;33m.\u001b[0m\u001b[0mprocess_primitive\u001b[0m\u001b[1;33m(\u001b[0m\u001b[0mself\u001b[0m\u001b[1;33m,\u001b[0m \u001b[0mmap\u001b[0m\u001b[1;33m(\u001b[0m\u001b[0mtrace\u001b[0m\u001b[1;33m.\u001b[0m\u001b[0mfull_raise\u001b[0m\u001b[1;33m,\u001b[0m \u001b[0margs\u001b[0m\u001b[1;33m)\u001b[0m\u001b[1;33m,\u001b[0m \u001b[0mparams\u001b[0m\u001b[1;33m)\u001b[0m\u001b[1;33m\u001b[0m\u001b[1;33m\u001b[0m\u001b[0m\n\u001b[0m\u001b[0;32m    331\u001b[0m     \u001b[1;32mreturn\u001b[0m \u001b[0mmap\u001b[0m\u001b[1;33m(\u001b[0m\u001b[0mfull_lower\u001b[0m\u001b[1;33m,\u001b[0m \u001b[0mout\u001b[0m\u001b[1;33m)\u001b[0m \u001b[1;32mif\u001b[0m \u001b[0mself\u001b[0m\u001b[1;33m.\u001b[0m\u001b[0mmultiple_results\u001b[0m \u001b[1;32melse\u001b[0m \u001b[0mfull_lower\u001b[0m\u001b[1;33m(\u001b[0m\u001b[0mout\u001b[0m\u001b[1;33m)\u001b[0m\u001b[1;33m\u001b[0m\u001b[1;33m\u001b[0m\u001b[0m\n\u001b[0;32m    332\u001b[0m \u001b[1;33m\u001b[0m\u001b[0m\n",
      "\u001b[1;32m~\\Anaconda3\\envs\\operability\\lib\\site-packages\\jax\\core.py\u001b[0m in \u001b[0;36mprocess_primitive\u001b[1;34m(self, primitive, tracers, params)\u001b[0m\n\u001b[0;32m    678\u001b[0m \u001b[1;33m\u001b[0m\u001b[0m\n\u001b[0;32m    679\u001b[0m   \u001b[1;32mdef\u001b[0m \u001b[0mprocess_primitive\u001b[0m\u001b[1;33m(\u001b[0m\u001b[0mself\u001b[0m\u001b[1;33m,\u001b[0m \u001b[0mprimitive\u001b[0m\u001b[1;33m,\u001b[0m \u001b[0mtracers\u001b[0m\u001b[1;33m,\u001b[0m \u001b[0mparams\u001b[0m\u001b[1;33m)\u001b[0m\u001b[1;33m:\u001b[0m\u001b[1;33m\u001b[0m\u001b[1;33m\u001b[0m\u001b[0m\n\u001b[1;32m--> 680\u001b[1;33m     \u001b[1;32mreturn\u001b[0m \u001b[0mprimitive\u001b[0m\u001b[1;33m.\u001b[0m\u001b[0mimpl\u001b[0m\u001b[1;33m(\u001b[0m\u001b[1;33m*\u001b[0m\u001b[0mtracers\u001b[0m\u001b[1;33m,\u001b[0m \u001b[1;33m**\u001b[0m\u001b[0mparams\u001b[0m\u001b[1;33m)\u001b[0m\u001b[1;33m\u001b[0m\u001b[1;33m\u001b[0m\u001b[0m\n\u001b[0m\u001b[0;32m    681\u001b[0m \u001b[1;33m\u001b[0m\u001b[0m\n\u001b[0;32m    682\u001b[0m   \u001b[1;32mdef\u001b[0m \u001b[0mprocess_call\u001b[0m\u001b[1;33m(\u001b[0m\u001b[0mself\u001b[0m\u001b[1;33m,\u001b[0m \u001b[0mprimitive\u001b[0m\u001b[1;33m,\u001b[0m \u001b[0mf\u001b[0m\u001b[1;33m,\u001b[0m \u001b[0mtracers\u001b[0m\u001b[1;33m,\u001b[0m \u001b[0mparams\u001b[0m\u001b[1;33m)\u001b[0m\u001b[1;33m:\u001b[0m\u001b[1;33m\u001b[0m\u001b[1;33m\u001b[0m\u001b[0m\n",
      "\u001b[1;32m~\\Anaconda3\\envs\\operability\\lib\\site-packages\\jax\\_src\\dispatch.py\u001b[0m in \u001b[0;36mapply_primitive\u001b[1;34m(prim, *args, **params)\u001b[0m\n\u001b[0;32m     99\u001b[0m   compiled_fun = xla_primitive_callable(prim, *unsafe_map(arg_spec, args),\n\u001b[0;32m    100\u001b[0m                                         **params)\n\u001b[1;32m--> 101\u001b[1;33m   \u001b[1;32mreturn\u001b[0m \u001b[0mcompiled_fun\u001b[0m\u001b[1;33m(\u001b[0m\u001b[1;33m*\u001b[0m\u001b[0margs\u001b[0m\u001b[1;33m)\u001b[0m\u001b[1;33m\u001b[0m\u001b[1;33m\u001b[0m\u001b[0m\n\u001b[0m\u001b[0;32m    102\u001b[0m \u001b[1;33m\u001b[0m\u001b[0m\n\u001b[0;32m    103\u001b[0m \u001b[1;31m# TODO(phawkins): update code referring to xla.apply_primitive to point here.\u001b[0m\u001b[1;33m\u001b[0m\u001b[1;33m\u001b[0m\u001b[0m\n",
      "\u001b[1;32m~\\Anaconda3\\envs\\operability\\lib\\site-packages\\jax\\_src\\dispatch.py\u001b[0m in \u001b[0;36m<lambda>\u001b[1;34m(*args, **kw)\u001b[0m\n\u001b[0;32m    165\u001b[0m                                     prim.name, donated_invars, False, *arg_specs)\n\u001b[0;32m    166\u001b[0m   \u001b[1;32mif\u001b[0m \u001b[1;32mnot\u001b[0m \u001b[0mprim\u001b[0m\u001b[1;33m.\u001b[0m\u001b[0mmultiple_results\u001b[0m\u001b[1;33m:\u001b[0m\u001b[1;33m\u001b[0m\u001b[1;33m\u001b[0m\u001b[0m\n\u001b[1;32m--> 167\u001b[1;33m     \u001b[1;32mreturn\u001b[0m \u001b[1;32mlambda\u001b[0m \u001b[1;33m*\u001b[0m\u001b[0margs\u001b[0m\u001b[1;33m,\u001b[0m \u001b[1;33m**\u001b[0m\u001b[0mkw\u001b[0m\u001b[1;33m:\u001b[0m \u001b[0mcompiled\u001b[0m\u001b[1;33m(\u001b[0m\u001b[1;33m*\u001b[0m\u001b[0margs\u001b[0m\u001b[1;33m,\u001b[0m \u001b[1;33m**\u001b[0m\u001b[0mkw\u001b[0m\u001b[1;33m)\u001b[0m\u001b[1;33m[\u001b[0m\u001b[1;36m0\u001b[0m\u001b[1;33m]\u001b[0m\u001b[1;33m\u001b[0m\u001b[1;33m\u001b[0m\u001b[0m\n\u001b[0m\u001b[0;32m    168\u001b[0m   \u001b[1;32melse\u001b[0m\u001b[1;33m:\u001b[0m\u001b[1;33m\u001b[0m\u001b[1;33m\u001b[0m\u001b[0m\n\u001b[0;32m    169\u001b[0m     \u001b[1;32mreturn\u001b[0m \u001b[0mcompiled\u001b[0m\u001b[1;33m\u001b[0m\u001b[1;33m\u001b[0m\u001b[0m\n",
      "\u001b[1;32m~\\Anaconda3\\envs\\operability\\lib\\site-packages\\jax\\_src\\dispatch.py\u001b[0m in \u001b[0;36m_execute_compiled\u001b[1;34m(name, compiled, input_handler, output_buffer_counts, result_handler, has_unordered_effects, ordered_effects, kept_var_idx, *args)\u001b[0m\n\u001b[0;32m    715\u001b[0m     in_flat, token_handler = _add_tokens(has_unordered_effects, ordered_effects,\n\u001b[0;32m    716\u001b[0m                                          device, in_flat)\n\u001b[1;32m--> 717\u001b[1;33m   \u001b[0mout_flat\u001b[0m \u001b[1;33m=\u001b[0m \u001b[0mcompiled\u001b[0m\u001b[1;33m.\u001b[0m\u001b[0mexecute\u001b[0m\u001b[1;33m(\u001b[0m\u001b[0min_flat\u001b[0m\u001b[1;33m)\u001b[0m\u001b[1;33m\u001b[0m\u001b[1;33m\u001b[0m\u001b[0m\n\u001b[0m\u001b[0;32m    718\u001b[0m   \u001b[0mcheck_special\u001b[0m\u001b[1;33m(\u001b[0m\u001b[0mname\u001b[0m\u001b[1;33m,\u001b[0m \u001b[0mout_flat\u001b[0m\u001b[1;33m)\u001b[0m\u001b[1;33m\u001b[0m\u001b[1;33m\u001b[0m\u001b[0m\n\u001b[0;32m    719\u001b[0m   \u001b[0mout_bufs\u001b[0m \u001b[1;33m=\u001b[0m \u001b[0munflatten\u001b[0m\u001b[1;33m(\u001b[0m\u001b[0mout_flat\u001b[0m\u001b[1;33m,\u001b[0m \u001b[0moutput_buffer_counts\u001b[0m\u001b[1;33m)\u001b[0m\u001b[1;33m\u001b[0m\u001b[1;33m\u001b[0m\u001b[0m\n",
      "\u001b[1;31mKeyboardInterrupt\u001b[0m: "
     ]
    }
   ],
   "source": [
    "# Model assignment: Design Problem - Inverse mapping\n",
    "# model          = dma_mr_design\n",
    "# Obtain inverse mapping.\n",
    "t = time.time()                                                  \n",
    "fDIS, fDOS, convergence = nlp_based_approach(DOS_bounds, \n",
    "                                             DOS_resolution,\n",
    "                                             dma_mr_design, \n",
    "                                             u0,\n",
    "                                             lb,\n",
    "                                             ub,\n",
    "                                             constr=(con),\n",
    "                                             method='ipopt',\n",
    "                                             plot=True,\n",
    "                                             ad=True,\n",
    "                                             warmstart=True)\n",
    "elapsed = time.time() - t"
   ]
  },
  {
   "attachments": {},
   "cell_type": "markdown",
   "metadata": {},
   "source": [
    "The inverse mapping shows that there is a design region of tube length around  0.5cm and tube\n",
    "diameter of 17cm that can still attains to the requirement of the DOS."
   ]
  },
  {
   "attachments": {},
   "cell_type": "markdown",
   "metadata": {},
   "source": [
    "### Analyzing the Operability Index (OI) for operational changes (manipulated variables)"
   ]
  },
  {
   "attachments": {},
   "cell_type": "markdown",
   "metadata": {},
   "source": [
    "With a fixed modular design of \n",
    "- Tube length = 17 cm\n",
    "- Tube diameter = 0.5 cm\n",
    "\n",
    "The manipulated variables of the DMA-MR (namely, shell and tube flow rates) are\n",
    "to be analyzed, being the AIS variables for this analysis. As before, the same \n",
    "AOS/DOS variables will be kept to observe if the system is operable under the fixed\n",
    "modular design and varying the manipulated variable throughout their available range."
   ]
  }
 ],
 "metadata": {
  "kernelspec": {
   "display_name": "operability",
   "language": "python",
   "name": "python3"
  },
  "language_info": {
   "codemirror_mode": {
    "name": "ipython",
    "version": 3
   },
   "file_extension": ".py",
   "mimetype": "text/x-python",
   "name": "python",
   "nbconvert_exporter": "python",
   "pygments_lexer": "ipython3",
   "version": "3.9.13"
  }
 },
 "nbformat": 4,
 "nbformat_minor": 2
}