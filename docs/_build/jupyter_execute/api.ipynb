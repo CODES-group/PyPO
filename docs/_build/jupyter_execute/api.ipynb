{
 "cells": [
  {
   "cell_type": "markdown",
   "id": "de92c1e1",
   "metadata": {},
   "source": [
    "# API Documentation\n",
    "\n",
    "The functions described below are part of the PyPO and are\n",
    "classified based on their functionality. Each function also contains a worked\n",
    "example based on the famous [Shower Problem](examples_gallery/operability_index_shower.ipynb){cite}`vinson00`\n",
    "\n",
    "## Conventional mapping (AIS to AOS)\n",
    "\n",
    "### Forward mapping\n",
    "\n",
    "```{eval-rst}\n",
    ".. autofunction:: pypo.AIS2AOS_map\n",
    "```\n",
    "\n",
    "###### Example\n",
    "Obtaining the Achievable Output Set (AOS) for the shower problem.\n",
    "\n",
    "Importing PyPO and Numpy:"
   ]
  },
  {
   "cell_type": "code",
   "execution_count": null,
   "id": "69f43abd",
   "metadata": {
    "tags": [
     "remove-output"
    ]
   },
   "outputs": [],
   "source": [
    "    from pypo import AIS2AOS_map\n",
    "    import numpy as np"
   ]
  },
  {
   "cell_type": "markdown",
   "id": "2940cd94",
   "metadata": {},
   "source": [
    "Defining the equations that describe the process:\n",
    "\n",
    "```{math}\n",
    "\\left\\{\\begin{array}{c}\n",
    "y_1=u_1+u_2 \\\\\n",
    "y_2=\\frac{\\left(60 u_1+120 u_2\\right)}{\\left(u_1+u_2\\right)}\n",
    "\\end{array}\\right. \\\\\n",
    "\\\\\n",
    "y_1 = 0\\rightarrow y_2 = 90\n",
    "```"
   ]
  },
  {
   "cell_type": "code",
   "execution_count": null,
   "id": "46ea5437",
   "metadata": {},
   "outputs": [],
   "source": [
    "    def shower_problem(u):\n",
    "        y = np.zeros(2)\n",
    "        y[0]=u[0]+u[1]\n",
    "        if y[0]!=0:\n",
    "            y[1]=(u[0]*60+u[1]*120)/(u[0]+u[1])\n",
    "        else:\n",
    "            y[1]=(60+120)/2\n",
    "            \n",
    "        return y"
   ]
  },
  {
   "cell_type": "markdown",
   "id": "411496d0",
   "metadata": {},
   "source": [
    "Defining the AIS bounds, as well as the discretization resolution:"
   ]
  },
  {
   "cell_type": "code",
   "execution_count": null,
   "id": "d328057e",
   "metadata": {},
   "outputs": [],
   "source": [
    "    AIS_bounds =  np.array([[0, 10], [0, 10]])\n",
    "    resolution =  [5, 5]"
   ]
  },
  {
   "cell_type": "markdown",
   "id": "6c212bde",
   "metadata": {},
   "source": [
    "Obtain discretized AIS/AOS."
   ]
  },
  {
   "cell_type": "code",
   "execution_count": null,
   "id": "377ff03c",
   "metadata": {},
   "outputs": [],
   "source": [
    "    AIS, AOS =  AIS2AOS_map(shower_problem, AIS_bounds,  resolution)\n",
    "    print(AOS)"
   ]
  },
  {
   "cell_type": "markdown",
   "id": "02f4dfa0",
   "metadata": {},
   "source": [
    "### Inverse mapping (AOS/DOS to AIS/DIS)\n",
    "\n",
    "### NLP-Based\n",
    "\n",
    "```{eval-rst}\n",
    ".. autofunction:: pypo.nlp_based_approach\n",
    "```\n",
    "\n",
    "###### Example\n",
    "Obtaining the Feasible Desired Input Set (DIS*) for the shower problem.\n",
    "\n",
    "Importing PyPO and Numpy:"
   ]
  },
  {
   "cell_type": "code",
   "execution_count": null,
   "id": "2cb91ca5",
   "metadata": {},
   "outputs": [],
   "source": [
    "    import numpy as np\n",
    "    from pypo import nlp_based_approach"
   ]
  },
  {
   "cell_type": "markdown",
   "id": "94895889",
   "metadata": {},
   "source": [
    "Defining lower and upper bound for the AIS/DIS inverse map:"
   ]
  },
  {
   "cell_type": "code",
   "execution_count": null,
   "id": "00c50c98",
   "metadata": {},
   "outputs": [],
   "source": [
    "    lb = np.array([0, 0])\n",
    "    ub = np.array([100,100])"
   ]
  },
  {
   "cell_type": "markdown",
   "id": "8d126612",
   "metadata": {},
   "source": [
    "Defining DOS bounds and resolution to obtain the inverse map:"
   ]
  },
  {
   "cell_type": "code",
   "execution_count": null,
   "id": "a27e9554",
   "metadata": {},
   "outputs": [],
   "source": [
    "    DOS_bound = np.array([[17.5, 21.0],\n",
    "                          [80.0, 100.0]])\n",
    "    resolution = [5, 5]"
   ]
  },
  {
   "cell_type": "markdown",
   "id": "ce5b7f90",
   "metadata": {},
   "source": [
    "Defining the equations that describe the process:\n",
    "\n",
    "```{math}\n",
    "\\left\\{\\begin{array}{c}\n",
    "y_1=u_1+u_2 \\\\\n",
    "y_2=\\frac{\\left(60 u_1+120 u_2\\right)}{\\left(u_1+u_2\\right)}\n",
    "\\end{array}\\right. \\\\\n",
    "\\\\\n",
    "y_1 = 0\\rightarrow y_2 = 90\n",
    "```"
   ]
  },
  {
   "cell_type": "code",
   "execution_count": null,
   "id": "adc770d3",
   "metadata": {},
   "outputs": [],
   "source": [
    "    def shower_problem(u):\n",
    "        y = np.zeros(2)\n",
    "        y[0]=u[0]+u[1]\n",
    "        if y[0]!=0:\n",
    "            y[1]=(u[0]*60+u[1]*120)/(u[0]+u[1])\n",
    "        else:\n",
    "            y[1]=(60+120)/2\n",
    "            \n",
    "        return y"
   ]
  },
  {
   "cell_type": "markdown",
   "id": "b8a52611",
   "metadata": {},
   "source": [
    "Obtaining the DIS*, DOS* and the convergence for each inverse map run. \n",
    "Additionally, using IPOPT as the NLP solver, enabling plotting of the process operability\n",
    "sets, cold-starting the\n",
    "NLP and using finite differences:"
   ]
  },
  {
   "cell_type": "code",
   "execution_count": null,
   "id": "69dce478",
   "metadata": {},
   "outputs": [],
   "source": [
    "    u0 = u0 = np.array([0, 10]) # Initial estimate for inverse mapping.\n",
    "    fDIS, fDOS, message = nlp_based_approach(DOS_bound, \n",
    "                                             resolution, \n",
    "                                             shower_problem, \n",
    "                                             u0, \n",
    "                                             lb,\n",
    "                                             ub, \n",
    "                                             method='ipopt', \n",
    "                                             plot=True, \n",
    "                                             ad=False,\n",
    "                                             warmstart=False)"
   ]
  },
  {
   "cell_type": "markdown",
   "id": "61067a9d",
   "metadata": {},
   "source": [
    "## Implicit mapping\n",
    "\n",
    "```{eval-rst}\n",
    ".. autofunction:: pypo.implicit_map\n",
    "```\n",
    "\n",
    "## Multimodel representation\n",
    "\n",
    "```{eval-rst}\n",
    ".. autofunction:: pypo.multimodel_rep\n",
    "```\n",
    "\n",
    "###### Example\n",
    "Obtaining the Achievable Output Set (AOS) for the shower problem.\n",
    "\n",
    "Importing PyPO and Numpy:"
   ]
  },
  {
   "cell_type": "code",
   "execution_count": null,
   "id": "defb1c01",
   "metadata": {},
   "outputs": [],
   "source": [
    "    from pypo import multimodel_rep\n",
    "    import numpy as np"
   ]
  },
  {
   "cell_type": "markdown",
   "id": "a3f6fc6b",
   "metadata": {},
   "source": [
    "Defining the equations that describe the process:\n",
    "\n",
    "```{math}\n",
    "\\left\\{\\begin{array}{c}\n",
    "y_1=u_1+u_2 \\\\\n",
    "y_2=\\frac{\\left(60 u_1+120 u_2\\right)}{\\left(u_1+u_2\\right)}\n",
    "\\end{array}\\right. \\\\\n",
    "\\\\\n",
    "y_1 = 0\\rightarrow y_2 = 90\n",
    "```"
   ]
  },
  {
   "cell_type": "code",
   "execution_count": null,
   "id": "dd9d00c3",
   "metadata": {},
   "outputs": [],
   "source": [
    "    def shower_problem(u):\n",
    "        y = np.zeros(2)\n",
    "        y[0]=u[0]+u[1]\n",
    "        if y[0]!=0:\n",
    "            y[1]=(u[0]*60+u[1]*120)/(u[0]+u[1])\n",
    "        else:\n",
    "            y[1]=(60+120)/2\n",
    "            \n",
    "        return y"
   ]
  },
  {
   "cell_type": "markdown",
   "id": "69ae0b7e",
   "metadata": {},
   "source": [
    "Defining the AIS bounds and the discretization resolution:"
   ]
  },
  {
   "cell_type": "code",
   "execution_count": null,
   "id": "e5ce88c3",
   "metadata": {},
   "outputs": [],
   "source": [
    "    AIS_bounds =  np.array([[1, 10], [1, 10]])\n",
    "    AIS_resolution =  [5, 5]"
   ]
  },
  {
   "cell_type": "markdown",
   "id": "690830d6",
   "metadata": {},
   "source": [
    "Obtaining multimodel representation of paired polytopes for the AOS:"
   ]
  },
  {
   "cell_type": "code",
   "execution_count": null,
   "id": "0b9ceb07",
   "metadata": {},
   "outputs": [],
   "source": [
    "    AOS_region  =  multimodel_rep(AIS_bounds, AIS_resolution, shower_problem)"
   ]
  },
  {
   "cell_type": "markdown",
   "id": "d81d5b34",
   "metadata": {},
   "source": [
    "## OI evaluation\n",
    "\n",
    "```{eval-rst}\n",
    ".. autofunction:: pypo.OI_eval\n",
    "```\n",
    "\n",
    "###### Example\n",
    "Evaluating the OI for the shower problem for a given DOS.\n",
    "\n",
    "\n",
    "\n",
    "Importing PyPO and Numpy:"
   ]
  },
  {
   "cell_type": "code",
   "execution_count": null,
   "id": "0f26afb5",
   "metadata": {},
   "outputs": [],
   "source": [
    "    from pypo import multimodel_rep, OI_eval\n",
    "    import numpy as np"
   ]
  },
  {
   "cell_type": "markdown",
   "id": "a33396d3",
   "metadata": {},
   "source": [
    "Defining the equations that describe the process:\n",
    "\n",
    "```{math}\n",
    "\\left\\{\\begin{array}{c}\n",
    "y_1=u_1+u_2 \\\\\n",
    "y_2=\\frac{\\left(60 u_1+120 u_2\\right)}{\\left(u_1+u_2\\right)}\n",
    "\\end{array}\\right. \\\\\n",
    "\\\\\n",
    "y_1 = 0\\rightarrow y_2 = 90\n",
    "```"
   ]
  },
  {
   "cell_type": "code",
   "execution_count": null,
   "id": "d17caa00",
   "metadata": {},
   "outputs": [],
   "source": [
    "    def shower_problem(u):\n",
    "        y = np.zeros(2)\n",
    "        y[0]=u[0]+u[1]\n",
    "        if y[0]!=0:\n",
    "            y[1]=(u[0]*60+u[1]*120)/(u[0]+u[1])\n",
    "        else:\n",
    "            y[1]=(60+120)/2\n",
    "            \n",
    "        return y"
   ]
  },
  {
   "cell_type": "markdown",
   "id": "f525e48f",
   "metadata": {},
   "source": [
    "Defining the AIS bounds and the discretization resolution:"
   ]
  },
  {
   "cell_type": "code",
   "execution_count": null,
   "id": "3e63b6a5",
   "metadata": {},
   "outputs": [],
   "source": [
    "    AIS_bounds =  np.array([[1, 10], [1, 10]])\n",
    "    AIS_resolution =  [5, 5]"
   ]
  },
  {
   "cell_type": "markdown",
   "id": "90b38961",
   "metadata": {},
   "source": [
    "Obtaining multimodel representation of paired polytopes for the AOS:"
   ]
  },
  {
   "cell_type": "code",
   "execution_count": null,
   "id": "0043c242",
   "metadata": {},
   "outputs": [],
   "source": [
    "    AOS_region  =  multimodel_rep(AIS_bounds, AIS_resolution, shower_problem,\n",
    "    plotting=False)"
   ]
  },
  {
   "cell_type": "markdown",
   "id": "cdfaf19c",
   "metadata": {},
   "source": [
    "Defining a DOS region between $y_1 =[10-20], y_2=[70-100]$"
   ]
  },
  {
   "cell_type": "code",
   "execution_count": null,
   "id": "577fcee3",
   "metadata": {},
   "outputs": [],
   "source": [
    "    DOS_bounds =  np.array([[10, 20], \n",
    "                            [70, 100]])"
   ]
  },
  {
   "cell_type": "markdown",
   "id": "770bc01c",
   "metadata": {},
   "source": [
    "Evaluating the OI and seeing the intersection between the operability sets:"
   ]
  },
  {
   "cell_type": "code",
   "execution_count": null,
   "id": "e564c2b4",
   "metadata": {},
   "outputs": [],
   "source": [
    "    OI = OI_eval(AOS_region, DOS_bounds)"
   ]
  },
  {
   "cell_type": "markdown",
   "id": "71c084b6",
   "metadata": {},
   "source": [
    "## Utilities\n",
    "\n",
    "```{eval-rst}\n",
    ".. autofunction:: pypo.create_grid\n",
    "```\n",
    "###### Example\n",
    "Creating a 2-dimensional discretized rectangular grid for given DOS bounds."
   ]
  },
  {
   "cell_type": "code",
   "execution_count": null,
   "id": "b029bdc1",
   "metadata": {},
   "outputs": [],
   "source": [
    "    from pypo import create_grid\n",
    "    DOS_bounds =  np.array([[10, 20], \n",
    "                            [70, 100]])\n",
    "\n",
    "    DOS_resolution =  [3, 3]\n",
    "\n",
    "    DOSPts = create_grid(DOS_bounds, DOS_resolution)\n",
    "\n",
    "    print(DOSPts)"
   ]
  },
  {
   "cell_type": "markdown",
   "id": "cd6cb1af",
   "metadata": {},
   "source": [
    "Visualizing this grid:"
   ]
  },
  {
   "cell_type": "code",
   "execution_count": null,
   "id": "c13ffa41",
   "metadata": {},
   "outputs": [],
   "source": [
    "    import matplotlib.pyplot as plt\n",
    "    DOSPts = DOSPts.reshape(-1, 2)\n",
    "    plt.scatter(DOSPts[:, 0], DOSPts[:, 1])"
   ]
  },
  {
   "cell_type": "markdown",
   "id": "10b3089b",
   "metadata": {},
   "source": [
    "```{eval-rst}\n",
    ".. autofunction:: pypo.points2simplices\n",
    "```\n",
    "\n",
    "###### Example\n",
    "Generating paired simplicial polytopes for the AIS/AOS generated for the\n",
    "shower problem example."
   ]
  },
  {
   "cell_type": "code",
   "execution_count": null,
   "id": "c857bbfc",
   "metadata": {},
   "outputs": [],
   "source": [
    "    from pypo import points2simplices\n",
    "    AIS_poly, AOS_poly = points2simplices(AIS,AOS)\n",
    "    print('AIS Simplices \\n', AIS_poly)\n",
    "    print('AOS Simplices \\n', AOS_poly)"
   ]
  },
  {
   "cell_type": "markdown",
   "id": "61bc65ff",
   "metadata": {},
   "source": [
    "```{eval-rst}\n",
    ".. autofunction:: pypo.points2polyhedra\n",
    "```\n",
    "###### Example\n",
    "Generating paired polyhedrons for the AIS/AOS generated for the\n",
    "shower problem example."
   ]
  },
  {
   "cell_type": "code",
   "execution_count": null,
   "id": "7ba24815",
   "metadata": {},
   "outputs": [],
   "source": [
    "    from pypo import points2polyhedra\n",
    "    AIS_poly, AOS_poly = points2polyhedra(AIS,AOS)\n",
    "    print('AIS Polyhedrons \\n', AIS_poly)\n",
    "    print('AOS Polyhedrons \\n', AOS_poly)"
   ]
  },
  {
   "cell_type": "markdown",
   "id": "9ef66879",
   "metadata": {},
   "source": [
    "### API documentation list\n",
    "```{eval-rst}\n",
    ".. autosummary::\n",
    "   :toctree: _autosummary\n",
    "   :recursive:\n",
    "\n",
    "   pypo\n",
    "```"
   ]
  }
 ],
 "metadata": {
  "jupytext": {
   "formats": "md:myst",
   "text_representation": {
    "extension": ".md",
    "format_name": "myst"
   }
  },
  "kernelspec": {
   "display_name": "Python 3",
   "language": "python",
   "name": "python3"
  },
  "source_map": [
   11,
   32,
   36,
   48,
   58,
   60,
   63,
   67,
   70,
   85,
   88,
   92,
   95,
   98,
   102,
   115,
   125,
   132,
   145,
   164,
   167,
   179,
   189,
   191,
   194,
   198,
   200,
   214,
   217,
   229,
   239,
   241,
   244,
   248,
   251,
   254,
   257,
   260,
   262,
   271,
   281,
   283,
   287,
   298,
   303,
   314,
   319
  ]
 },
 "nbformat": 4,
 "nbformat_minor": 5
}