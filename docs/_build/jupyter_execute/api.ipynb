{
 "cells": [
  {
   "cell_type": "markdown",
   "id": "808d39e1",
   "metadata": {},
   "source": [
    "# API documentation\n",
    "\n",
    "The functions below are part of the pypo module and are\n",
    "separted below based on their functionality.\n",
    "\n",
    "## Conventional mapping (AIS to AOS)\n",
    "\n",
    "### Forward mapping\n",
    "\n",
    "```{eval-rst}\n",
    ".. autofunction:: pypo.AIS2AOS_map\n",
    "```\n",
    "\n",
    "###### Example\n",
    "Obtaining the Achievable Output Set (AOS) for the shower problem.\n",
    "\n",
    "Importing PyPO and Numpy:"
   ]
  },
  {
   "cell_type": "code",
   "execution_count": 1,
   "id": "dc789ee4",
   "metadata": {},
   "outputs": [],
   "source": [
    "    from pypo import AIS2AOS_map\n",
    "    import numpy as np"
   ]
  },
  {
   "cell_type": "markdown",
   "id": "1ddd4d9a",
   "metadata": {},
   "source": [
    "Defining the equations that describe the process:\n",
    "\n",
    "```{math}\n",
    "\\left\\{\\begin{array}{c}\n",
    "y_1=u_1+u_2 \\\\\n",
    "y_2=\\frac{\\left(60 u_1+120 u_2\\right)}{\\left(u_1+u_2\\right)}\n",
    "\\end{array}\\right. \\\\\n",
    "\\\\\n",
    "y_1 = 0\\rightarrow y_2 = \\frac{(60+120)}{2}\n",
    "```"
   ]
  },
  {
   "cell_type": "code",
   "execution_count": 2,
   "id": "c4913104",
   "metadata": {},
   "outputs": [],
   "source": [
    "    def shower_problem(u):\n",
    "        y = np.zeros(2)\n",
    "        y[0]=u[0]+u[1]\n",
    "        if y[0]!=0:\n",
    "            y[1]=(u[0]*60+u[1]*120)/(u[0]+u[1])\n",
    "        else:\n",
    "            y[1]=(60+120)/2\n",
    "            \n",
    "        return y"
   ]
  },
  {
   "cell_type": "markdown",
   "id": "d5fc66f3",
   "metadata": {},
   "source": [
    "Defining the AIS bounds, as well as the discretization resolution:"
   ]
  },
  {
   "cell_type": "code",
   "execution_count": 3,
   "id": "d220e3fc",
   "metadata": {},
   "outputs": [],
   "source": [
    "    AIS_bounds =  np.array([[0, 10], [0, 10]])\n",
    "    resolution =  [5, 5]"
   ]
  },
  {
   "cell_type": "markdown",
   "id": "7f400410",
   "metadata": {},
   "source": [
    "Obtain discretized AIS/AOS."
   ]
  },
  {
   "cell_type": "code",
   "execution_count": 4,
   "id": "40e0367b",
   "metadata": {},
   "outputs": [
    {
     "name": "stdout",
     "output_type": "stream",
     "text": [
      "[[[  0.       90.     ]\n",
      "  [  2.5     120.     ]\n",
      "  [  5.      120.     ]\n",
      "  [  7.5     120.     ]\n",
      "  [ 10.      120.     ]]\n",
      "\n",
      " [[  2.5      60.     ]\n",
      "  [  5.       90.     ]\n",
      "  [  7.5     100.     ]\n",
      "  [ 10.      105.     ]\n",
      "  [ 12.5     108.     ]]\n",
      "\n",
      " [[  5.       60.     ]\n",
      "  [  7.5      80.     ]\n",
      "  [ 10.       90.     ]\n",
      "  [ 12.5      96.     ]\n",
      "  [ 15.      100.     ]]\n",
      "\n",
      " [[  7.5      60.     ]\n",
      "  [ 10.       75.     ]\n",
      "  [ 12.5      84.     ]\n",
      "  [ 15.       90.     ]\n",
      "  [ 17.5      94.28571]]\n",
      "\n",
      " [[ 10.       60.     ]\n",
      "  [ 12.5      72.     ]\n",
      "  [ 15.       80.     ]\n",
      "  [ 17.5      85.71429]\n",
      "  [ 20.       90.     ]]]\n"
     ]
    }
   ],
   "source": [
    "    AIS, AOS =  AIS2AOS_map(shower_problem, AIS_bounds,  resolution)\n",
    "    print(AOS)"
   ]
  },
  {
   "cell_type": "markdown",
   "id": "a6f7a6cd",
   "metadata": {},
   "source": [
    "### Inverse mapping (AOS/DOS to AIS/DIS)\n",
    "\n",
    "### NLP-Based\n",
    "\n",
    "```{eval-rst}\n",
    ".. autofunction:: pypo.nlp_based_approach\n",
    "```\n",
    "\n",
    "###### Example\n",
    "Obtaining the Feasible Desired Input Set (DIS*) for the shower problem.\n",
    "\n",
    "Importing PyPO and Numpy:"
   ]
  },
  {
   "cell_type": "code",
   "execution_count": 5,
   "id": "10149a39",
   "metadata": {},
   "outputs": [],
   "source": [
    "    import numpy as np\n",
    "    from pypo import nlp_based_approach"
   ]
  },
  {
   "cell_type": "markdown",
   "id": "bf17b321",
   "metadata": {},
   "source": [
    "Defining lower and upper bound for the AIS/DIS inverse map:"
   ]
  },
  {
   "cell_type": "code",
   "execution_count": 6,
   "id": "ab947356",
   "metadata": {},
   "outputs": [],
   "source": [
    "    lb = np.array([0, 0])\n",
    "    ub = np.array([100,100])"
   ]
  },
  {
   "cell_type": "markdown",
   "id": "ec30fbea",
   "metadata": {},
   "source": [
    "Defining DOS bounds and resolution to obtain the inverse map:"
   ]
  },
  {
   "cell_type": "code",
   "execution_count": 7,
   "id": "e16d9665",
   "metadata": {},
   "outputs": [],
   "source": [
    "    DOS_bound = np.array([[17.5, 21.0],\n",
    "                          [80.0, 100.0]])\n",
    "    resolution = [5, 5]"
   ]
  },
  {
   "cell_type": "markdown",
   "id": "f1f9e5b0",
   "metadata": {},
   "source": [
    "Defining the equations that describe the process:\n",
    "\n",
    "```{math}\n",
    "\\left\\{\\begin{array}{c}\n",
    "y_1=u_1+u_2 \\\\\n",
    "y_2=\\frac{\\left(60 u_1+120 u_2\\right)}{\\left(u_1+u_2\\right)}\n",
    "\\end{array}\\right. \\\\\n",
    "\\\\\n",
    "y_1 = 0\\rightarrow y_2 = \\frac{(60+120)}{2}\n",
    "```"
   ]
  },
  {
   "cell_type": "code",
   "execution_count": 8,
   "id": "ba3ce362",
   "metadata": {},
   "outputs": [],
   "source": [
    "    def shower_problem(u):\n",
    "        y = np.zeros(2)\n",
    "        y[0]=u[0]+u[1]\n",
    "        if y[0]!=0:\n",
    "            y[1]=(u[0]*60+u[1]*120)/(u[0]+u[1])\n",
    "        else:\n",
    "            y[1]=(60+120)/2\n",
    "            \n",
    "        return y"
   ]
  },
  {
   "cell_type": "markdown",
   "id": "0c913d26",
   "metadata": {},
   "source": [
    "Obtaining the DIS*, DOS* and the convergence for each inverse map run. \n",
    "Additionally, using IPOPT as NLP solver, enabling plotting of the process operability\n",
    "sets, cold-starting the\n",
    "NLP and using finite-differences:"
   ]
  },
  {
   "cell_type": "code",
   "execution_count": 9,
   "id": "b64c5b33",
   "metadata": {},
   "outputs": [
    {
     "name": "stderr",
     "output_type": "stream",
     "text": [
      "\r",
      "  0%|                                                                                                                                                                                      | 0/25 [00:00<?, ?it/s]"
     ]
    },
    {
     "name": "stderr",
     "output_type": "stream",
     "text": [
      "\r",
      "  8%|█████████████▉                                                                                                                                                                | 2/25 [00:00<00:02, 11.06it/s]"
     ]
    },
    {
     "name": "stderr",
     "output_type": "stream",
     "text": [
      "\r",
      " 16%|███████████████████████████▊                                                                                                                                                  | 4/25 [00:00<00:01, 10.98it/s]"
     ]
    },
    {
     "name": "stderr",
     "output_type": "stream",
     "text": [
      "\r",
      " 24%|█████████████████████████████████████████▊                                                                                                                                    | 6/25 [00:00<00:01, 11.02it/s]"
     ]
    },
    {
     "name": "stderr",
     "output_type": "stream",
     "text": [
      "\r",
      " 32%|███████████████████████████████████████████████████████▋                                                                                                                      | 8/25 [00:00<00:01, 10.03it/s]"
     ]
    },
    {
     "name": "stderr",
     "output_type": "stream",
     "text": [
      "\r",
      " 40%|█████████████████████████████████████████████████████████████████████▏                                                                                                       | 10/25 [00:00<00:01, 10.49it/s]"
     ]
    },
    {
     "name": "stderr",
     "output_type": "stream",
     "text": [
      "\r",
      " 48%|███████████████████████████████████████████████████████████████████████████████████                                                                                          | 12/25 [00:01<00:01, 10.49it/s]"
     ]
    },
    {
     "name": "stderr",
     "output_type": "stream",
     "text": [
      "\r",
      " 56%|████████████████████████████████████████████████████████████████████████████████████████████████▉                                                                            | 14/25 [00:01<00:01, 10.56it/s]"
     ]
    },
    {
     "name": "stderr",
     "output_type": "stream",
     "text": [
      "\r",
      " 64%|██████████████████████████████████████████████████████████████████████████████████████████████████████████████▋                                                              | 16/25 [00:01<00:00, 10.44it/s]"
     ]
    },
    {
     "name": "stderr",
     "output_type": "stream",
     "text": [
      "\r",
      " 72%|████████████████████████████████████████████████████████████████████████████████████████████████████████████████████████████▌                                                | 18/25 [00:01<00:00, 10.24it/s]"
     ]
    },
    {
     "name": "stderr",
     "output_type": "stream",
     "text": [
      "\r",
      " 80%|██████████████████████████████████████████████████████████████████████████████████████████████████████████████████████████████████████████▍                                  | 20/25 [00:01<00:00, 10.36it/s]"
     ]
    },
    {
     "name": "stderr",
     "output_type": "stream",
     "text": [
      "\r",
      " 88%|████████████████████████████████████████████████████████████████████████████████████████████████████████████████████████████████████████████████████████▏                    | 22/25 [00:02<00:00, 10.63it/s]"
     ]
    },
    {
     "name": "stderr",
     "output_type": "stream",
     "text": [
      "\r",
      " 96%|██████████████████████████████████████████████████████████████████████████████████████████████████████████████████████████████████████████████████████████████████████       | 24/25 [00:02<00:00, 11.12it/s]"
     ]
    },
    {
     "name": "stderr",
     "output_type": "stream",
     "text": [
      "\r",
      "100%|█████████████████████████████████████████████████████████████████████████████████████████████████████████████████████████████████████████████████████████████████████████████| 25/25 [00:02<00:00, 10.78it/s]"
     ]
    },
    {
     "name": "stderr",
     "output_type": "stream",
     "text": [
      "\n"
     ]
    },
    {
     "data": {
      "image/png": "[encoded data removed]",
      "text/plain": [
       "<Figure size 960x720 with 2 Axes>"
      ]
     },
     "metadata": {},
     "output_type": "display_data"
    }
   ],
   "source": [
    "    u0 = u0 = np.array([0, 10]) # Initial estimate for inverse mapping.\n",
    "    fDIS, fDOS, message = nlp_based_approach(DOS_bound, \n",
    "                                             resolution, \n",
    "                                             shower_problem, \n",
    "                                             u0, \n",
    "                                             lb,\n",
    "                                             ub, \n",
    "                                             method='ipopt', \n",
    "                                             plot=True, \n",
    "                                             ad=False,\n",
    "                                             warmstart=False)"
   ]
  },
  {
   "cell_type": "markdown",
   "id": "741ac10e",
   "metadata": {},
   "source": [
    "## Implicit mapping\n",
    "\n",
    "```{eval-rst}\n",
    ".. autofunction:: pypo.implicit_map\n",
    "```\n",
    "\n",
    "## Multimodel representation\n",
    "\n",
    "```{eval-rst}\n",
    ".. autofunction:: pypo.multimodel_rep\n",
    "```\n",
    "\n",
    "###### Example\n",
    "Obtaining the Achievable Output Set (AOS) for the shower problem.\n",
    "\n",
    "Importing PyPO and Numpy:"
   ]
  },
  {
   "cell_type": "code",
   "execution_count": 10,
   "id": "b522c838",
   "metadata": {},
   "outputs": [],
   "source": [
    "    from pypo import multimodel_rep\n",
    "    import numpy as np"
   ]
  },
  {
   "cell_type": "markdown",
   "id": "cbece654",
   "metadata": {},
   "source": [
    "Defining the equations that describe the process:\n",
    "\n",
    "```{math}\n",
    "\\left\\{\\begin{array}{c}\n",
    "y_1=u_1+u_2 \\\\\n",
    "y_2=\\frac{\\left(60 u_1+120 u_2\\right)}{\\left(u_1+u_2\\right)}\n",
    "\\end{array}\\right. \\\\\n",
    "\\\\\n",
    "y_1 = 0\\rightarrow y_2 = \\frac{(60+120)}{2}\n",
    "```"
   ]
  },
  {
   "cell_type": "code",
   "execution_count": 11,
   "id": "5a798e63",
   "metadata": {},
   "outputs": [],
   "source": [
    "    def shower_problem(u):\n",
    "        y = np.zeros(2)\n",
    "        y[0]=u[0]+u[1]\n",
    "        if y[0]!=0:\n",
    "            y[1]=(u[0]*60+u[1]*120)/(u[0]+u[1])\n",
    "        else:\n",
    "            y[1]=(60+120)/2\n",
    "            \n",
    "        return y"
   ]
  },
  {
   "cell_type": "markdown",
   "id": "53e4ea2a",
   "metadata": {},
   "source": [
    "Defining the AIS bounds and the discretization resolution:"
   ]
  },
  {
   "cell_type": "code",
   "execution_count": 12,
   "id": "e26f3f91",
   "metadata": {},
   "outputs": [],
   "source": [
    "    AIS_bounds =  np.array([[1, 10], [1, 10]])\n",
    "    AIS_resolution =  [5, 5]"
   ]
  },
  {
   "cell_type": "markdown",
   "id": "ab795763",
   "metadata": {},
   "source": [
    "Obtaining multimodel representation of paired polytopes for the AOS:"
   ]
  },
  {
   "cell_type": "code",
   "execution_count": 13,
   "id": "2d8405e7",
   "metadata": {},
   "outputs": [
    {
     "data": {
      "image/png": "[encoded data removed]",
      "text/plain": [
       "<Figure size 960x720 with 1 Axes>"
      ]
     },
     "metadata": {},
     "output_type": "display_data"
    }
   ],
   "source": [
    "    AOS_region  =  multimodel_rep(AIS_bounds, AIS_resolution, shower_problem)"
   ]
  },
  {
   "cell_type": "markdown",
   "id": "e4f3e538",
   "metadata": {},
   "source": [
    "## OI evaluation\n",
    "\n",
    "```{eval-rst}\n",
    ".. autofunction:: pypo.OI_eval\n",
    "```\n",
    "\n",
    "###### Example\n",
    "Evaluating the OI for the shower problem for a given DOS.\n",
    "\n",
    "\n",
    "\n",
    "Importing PyPO and Numpy:"
   ]
  },
  {
   "cell_type": "code",
   "execution_count": 14,
   "id": "ea032978",
   "metadata": {},
   "outputs": [],
   "source": [
    "    from pypo import multimodel_rep, OI_eval\n",
    "    import numpy as np"
   ]
  },
  {
   "cell_type": "markdown",
   "id": "58b5efac",
   "metadata": {},
   "source": [
    "Defining the equations that describe the process:\n",
    "\n",
    "```{math}\n",
    "\\left\\{\\begin{array}{c}\n",
    "y_1=u_1+u_2 \\\\\n",
    "y_2=\\frac{\\left(60 u_1+120 u_2\\right)}{\\left(u_1+u_2\\right)}\n",
    "\\end{array}\\right. \\\\\n",
    "\\\\\n",
    "y_1 = 0\\rightarrow y_2 = \\frac{(60+120)}{2}\n",
    "```"
   ]
  },
  {
   "cell_type": "code",
   "execution_count": 15,
   "id": "766df56a",
   "metadata": {},
   "outputs": [],
   "source": [
    "    def shower_problem(u):\n",
    "        y = np.zeros(2)\n",
    "        y[0]=u[0]+u[1]\n",
    "        if y[0]!=0:\n",
    "            y[1]=(u[0]*60+u[1]*120)/(u[0]+u[1])\n",
    "        else:\n",
    "            y[1]=(60+120)/2\n",
    "            \n",
    "        return y"
   ]
  },
  {
   "cell_type": "markdown",
   "id": "5d9d8c22",
   "metadata": {},
   "source": [
    "Defining the AIS bounds and the discretization resolution:"
   ]
  },
  {
   "cell_type": "code",
   "execution_count": 16,
   "id": "fd6f8dc4",
   "metadata": {},
   "outputs": [],
   "source": [
    "    AIS_bounds =  np.array([[1, 10], [1, 10]])\n",
    "    AIS_resolution =  [5, 5]"
   ]
  },
  {
   "cell_type": "markdown",
   "id": "c4df13dd",
   "metadata": {},
   "source": [
    "Obtaining multimodel representation of paired polytopes for the AOS:"
   ]
  },
  {
   "cell_type": "code",
   "execution_count": 17,
   "id": "4deffbb1",
   "metadata": {},
   "outputs": [
    {
     "name": "stdout",
     "output_type": "stream",
     "text": [
      "Either plotting is not possible (dimension > 3) or you have chosen plotting=False. The operability set is still returned as a polytopic region of general dimension.\n"
     ]
    }
   ],
   "source": [
    "    AOS_region  =  multimodel_rep(AIS_bounds, AIS_resolution, shower_problem,\n",
    "    plotting=False)"
   ]
  },
  {
   "cell_type": "markdown",
   "id": "e8b503b9",
   "metadata": {},
   "source": [
    "Defining a DOS region between $y_1 =[10-20], y_2=[70-100]$"
   ]
  },
  {
   "cell_type": "code",
   "execution_count": 18,
   "id": "a7e8c17b",
   "metadata": {},
   "outputs": [],
   "source": [
    "    DOS_bounds =  np.array([[10, 20], \n",
    "                            [70, 100]])"
   ]
  },
  {
   "cell_type": "markdown",
   "id": "92f3c1bb",
   "metadata": {},
   "source": [
    "Evaluating the OI and seeing the intersection between the operability sets:"
   ]
  },
  {
   "cell_type": "code",
   "execution_count": 19,
   "id": "f1251f8e",
   "metadata": {},
   "outputs": [
    {
     "data": {
      "image/png": "[encoded data removed]",
      "text/plain": [
       "<Figure size 960x720 with 1 Axes>"
      ]
     },
     "metadata": {},
     "output_type": "display_data"
    }
   ],
   "source": [
    "    OI = OI_eval(AOS_region, DOS_bounds)"
   ]
  },
  {
   "cell_type": "markdown",
   "id": "be1d181b",
   "metadata": {},
   "source": [
    "## Utilities\n",
    "\n",
    "```{eval-rst}\n",
    ".. autofunction:: pypo.create_grid\n",
    "```\n",
    "###### Example\n",
    "Creating a 2-dimensional discretized rectangular grid for given DOS bounds."
   ]
  },
  {
   "cell_type": "code",
   "execution_count": 20,
   "id": "85d5bfef",
   "metadata": {},
   "outputs": [
    {
     "name": "stdout",
     "output_type": "stream",
     "text": [
      "[[[ 10.  70.]\n",
      "  [ 10.  85.]\n",
      "  [ 10. 100.]]\n",
      "\n",
      " [[ 15.  70.]\n",
      "  [ 15.  85.]\n",
      "  [ 15. 100.]]\n",
      "\n",
      " [[ 20.  70.]\n",
      "  [ 20.  85.]\n",
      "  [ 20. 100.]]]\n"
     ]
    }
   ],
   "source": [
    "    from pypo import create_grid\n",
    "    DOS_bounds =  np.array([[10, 20], \n",
    "                            [70, 100]])\n",
    "\n",
    "    DOS_resolution =  [3, 3]\n",
    "\n",
    "    DOSPts = create_grid(DOS_bounds, DOS_resolution)\n",
    "\n",
    "    print(DOSPts)"
   ]
  },
  {
   "cell_type": "markdown",
   "id": "2eac7654",
   "metadata": {},
   "source": [
    "Visualizing this grid:"
   ]
  },
  {
   "cell_type": "code",
   "execution_count": 21,
   "id": "c539cfec",
   "metadata": {},
   "outputs": [
    {
     "data": {
      "text/plain": [
       "<matplotlib.collections.PathCollection at 0x181a9de96a0>"
      ]
     },
     "execution_count": 21,
     "metadata": {},
     "output_type": "execute_result"
    },
    {
     "data": {
      "image/png": "[encoded data removed]",
      "text/plain": [
       "<Figure size 960x720 with 1 Axes>"
      ]
     },
     "metadata": {},
     "output_type": "display_data"
    }
   ],
   "source": [
    "    import matplotlib.pyplot as plt\n",
    "    DOSPts = DOSPts.reshape(-1, 2)\n",
    "    plt.scatter(DOSPts[:, 0], DOSPts[:, 1])"
   ]
  },
  {
   "cell_type": "markdown",
   "id": "1dc7bbc4",
   "metadata": {},
   "source": [
    "```{eval-rst}\n",
    ".. autofunction:: pypo.points2simplices\n",
    "```\n",
    "\n",
    "###### Example\n",
    "Generating paired simplicial polytopes for the AIS/AOS generated for the\n",
    "shower problem example."
   ]
  },
  {
   "cell_type": "code",
   "execution_count": 22,
   "id": "b58eebbd",
   "metadata": {},
   "outputs": [
    {
     "name": "stdout",
     "output_type": "stream",
     "text": [
      "AIS Simplices \n",
      " [array([[2.5, 0. , 0. ],\n",
      "       [2.5, 2.5, 0. ]]), array([[2.5, 2.5, 0. ],\n",
      "       [2.5, 0. , 0. ]]), array([[5. , 2.5, 2.5],\n",
      "       [2.5, 2.5, 0. ]]), array([[5. , 5. , 2.5],\n",
      "       [2.5, 0. , 0. ]]), array([[7.5, 5. , 5. ],\n",
      "       [2.5, 2.5, 0. ]]), array([[7.5, 7.5, 5. ],\n",
      "       [2.5, 0. , 0. ]]), array([[10. ,  7.5,  7.5],\n",
      "       [ 2.5,  2.5,  0. ]]), array([[10. , 10. ,  7.5],\n",
      "       [ 2.5,  0. ,  0. ]]), array([[2.5, 0. , 0. ],\n",
      "       [5. , 5. , 2.5]]), array([[2.5, 2.5, 0. ],\n",
      "       [5. , 2.5, 2.5]]), array([[5. , 2.5, 2.5],\n",
      "       [5. , 5. , 2.5]]), array([[5. , 5. , 2.5],\n",
      "       [5. , 2.5, 2.5]]), array([[7.5, 5. , 5. ],\n",
      "       [5. , 5. , 2.5]]), array([[7.5, 7.5, 5. ],\n",
      "       [5. , 2.5, 2.5]]), array([[10. ,  7.5,  7.5],\n",
      "       [ 5. ,  5. ,  2.5]]), array([[10. , 10. ,  7.5],\n",
      "       [ 5. ,  2.5,  2.5]]), array([[2.5, 0. , 0. ],\n",
      "       [7.5, 7.5, 5. ]]), array([[2.5, 2.5, 0. ],\n",
      "       [7.5, 5. , 5. ]]), array([[5. , 2.5, 2.5],\n",
      "       [7.5, 7.5, 5. ]]), array([[5. , 5. , 2.5],\n",
      "       [7.5, 5. , 5. ]]), array([[7.5, 5. , 5. ],\n",
      "       [7.5, 7.5, 5. ]]), array([[7.5, 7.5, 5. ],\n",
      "       [7.5, 5. , 5. ]]), array([[10. ,  7.5,  7.5],\n",
      "       [ 7.5,  7.5,  5. ]]), array([[10. , 10. ,  7.5],\n",
      "       [ 7.5,  5. ,  5. ]]), array([[ 2.5,  0. ,  0. ],\n",
      "       [10. , 10. ,  7.5]]), array([[ 2.5,  2.5,  0. ],\n",
      "       [10. ,  7.5,  7.5]]), array([[ 5. ,  2.5,  2.5],\n",
      "       [10. , 10. ,  7.5]]), array([[ 5. ,  5. ,  2.5],\n",
      "       [10. ,  7.5,  7.5]]), array([[ 7.5,  5. ,  5. ],\n",
      "       [10. , 10. ,  7.5]]), array([[ 7.5,  7.5,  5. ],\n",
      "       [10. ,  7.5,  7.5]]), array([[10. ,  7.5,  7.5],\n",
      "       [10. , 10. ,  7.5]]), array([[10. , 10. ,  7.5],\n",
      "       [10. ,  7.5,  7.5]])]\n",
      "AOS Simplices \n",
      " [array([[  5. ,   2.5,   0. ],\n",
      "       [ 90. , 120. ,  90. ]]), array([[ 5. ,  2.5,  0. ],\n",
      "       [90. , 60. , 90. ]]), array([[ 7.5,  5. ,  2.5],\n",
      "       [80. , 90. , 60. ]]), array([[ 7.5,  5. ,  2.5],\n",
      "       [80. , 60. , 60. ]]), array([[10. ,  7.5,  5. ],\n",
      "       [75. , 80. , 60. ]]), array([[10. ,  7.5,  5. ],\n",
      "       [75. , 60. , 60. ]]), array([[12.5, 10. ,  7.5],\n",
      "       [72. , 75. , 60. ]]), array([[12.5, 10. ,  7.5],\n",
      "       [72. , 60. , 60. ]]), array([[  7.5,   5. ,   2.5],\n",
      "       [100. , 120. , 120. ]]), array([[  7.5,   5. ,   2.5],\n",
      "       [100. ,  90. , 120. ]]), array([[ 10. ,   7.5,   5. ],\n",
      "       [ 90. , 100. ,  90. ]]), array([[10. ,  7.5,  5. ],\n",
      "       [90. , 80. , 90. ]]), array([[12.5, 10. ,  7.5],\n",
      "       [84. , 90. , 80. ]]), array([[12.5, 10. ,  7.5],\n",
      "       [84. , 75. , 80. ]]), array([[15. , 12.5, 10. ],\n",
      "       [80. , 84. , 75. ]]), array([[15. , 12.5, 10. ],\n",
      "       [80. , 72. , 75. ]]), array([[ 10. ,   7.5,   5. ],\n",
      "       [105. , 120. , 120. ]]), array([[ 10. ,   7.5,   5. ],\n",
      "       [105. , 100. , 120. ]]), array([[ 12.5,  10. ,   7.5],\n",
      "       [ 96. , 105. , 100. ]]), array([[ 12.5,  10. ,   7.5],\n",
      "       [ 96. ,  90. , 100. ]]), array([[15. , 12.5, 10. ],\n",
      "       [90. , 96. , 90. ]]), array([[15. , 12.5, 10. ],\n",
      "       [90. , 84. , 90. ]]), array([[17.5    , 15.     , 12.5    ],\n",
      "       [85.71429, 90.     , 84.     ]]), array([[17.5    , 15.     , 12.5    ],\n",
      "       [85.71429, 80.     , 84.     ]]), array([[ 12.5,  10. ,   7.5],\n",
      "       [108. , 120. , 120. ]]), array([[ 12.5,  10. ,   7.5],\n",
      "       [108. , 105. , 120. ]]), array([[ 15. ,  12.5,  10. ],\n",
      "       [100. , 108. , 105. ]]), array([[ 15. ,  12.5,  10. ],\n",
      "       [100. ,  96. , 105. ]]), array([[ 17.5    ,  15.     ,  12.5    ],\n",
      "       [ 94.28571, 100.     ,  96.     ]]), array([[17.5    , 15.     , 12.5    ],\n",
      "       [94.28571, 90.     , 96.     ]]), array([[20.     , 17.5    , 15.     ],\n",
      "       [90.     , 94.28571, 90.     ]]), array([[20.     , 17.5    , 15.     ],\n",
      "       [90.     , 85.71429, 90.     ]])]\n"
     ]
    }
   ],
   "source": [
    "    from pypo import points2simplices\n",
    "    AIS_poly, AOS_poly = points2simplices(AIS,AOS)\n",
    "    print('AIS Simplices \\n', AIS_poly)\n",
    "    print('AOS Simplices \\n', AOS_poly)"
   ]
  },
  {
   "cell_type": "markdown",
   "id": "f2e479c2",
   "metadata": {},
   "source": [
    "```{eval-rst}\n",
    ".. autofunction:: pypo.points2polyhedra\n",
    "```\n",
    "###### Example\n",
    "Generating paired polyhedrons for the AIS/AOS generated for the\n",
    "shower problem example."
   ]
  },
  {
   "cell_type": "code",
   "execution_count": 23,
   "id": "19308826",
   "metadata": {},
   "outputs": [
    {
     "name": "stdout",
     "output_type": "stream",
     "text": [
      "AIS Polyhedrons \n",
      " [array([[0. , 0. , 2.5, 2.5],\n",
      "       [0. , 2.5, 0. , 2.5]]), array([[2.5, 2.5, 5. , 5. ],\n",
      "       [0. , 2.5, 0. , 2.5]]), array([[5. , 5. , 7.5, 7.5],\n",
      "       [0. , 2.5, 0. , 2.5]]), array([[ 7.5,  7.5, 10. , 10. ],\n",
      "       [ 0. ,  2.5,  0. ,  2.5]]), array([[0. , 0. , 2.5, 2.5],\n",
      "       [2.5, 5. , 2.5, 5. ]]), array([[2.5, 2.5, 5. , 5. ],\n",
      "       [2.5, 5. , 2.5, 5. ]]), array([[5. , 5. , 7.5, 7.5],\n",
      "       [2.5, 5. , 2.5, 5. ]]), array([[ 7.5,  7.5, 10. , 10. ],\n",
      "       [ 2.5,  5. ,  2.5,  5. ]]), array([[0. , 0. , 2.5, 2.5],\n",
      "       [5. , 7.5, 5. , 7.5]]), array([[2.5, 2.5, 5. , 5. ],\n",
      "       [5. , 7.5, 5. , 7.5]]), array([[5. , 5. , 7.5, 7.5],\n",
      "       [5. , 7.5, 5. , 7.5]]), array([[ 7.5,  7.5, 10. , 10. ],\n",
      "       [ 5. ,  7.5,  5. ,  7.5]]), array([[ 0. ,  0. ,  2.5,  2.5],\n",
      "       [ 7.5, 10. ,  7.5, 10. ]]), array([[ 2.5,  2.5,  5. ,  5. ],\n",
      "       [ 7.5, 10. ,  7.5, 10. ]]), array([[ 5. ,  5. ,  7.5,  7.5],\n",
      "       [ 7.5, 10. ,  7.5, 10. ]]), array([[ 7.5,  7.5, 10. , 10. ],\n",
      "       [ 7.5, 10. ,  7.5, 10. ]])]\n",
      "AOS Polyhedrons \n",
      " [array([[  0. ,   2.5,   2.5,   5. ],\n",
      "       [ 90. , 120. ,  60. ,  90. ]]), array([[ 2.5,  5. ,  5. ,  7.5],\n",
      "       [60. , 90. , 60. , 80. ]]), array([[ 5. ,  7.5,  7.5, 10. ],\n",
      "       [60. , 80. , 60. , 75. ]]), array([[ 7.5, 10. , 10. , 12.5],\n",
      "       [60. , 75. , 60. , 72. ]]), array([[  2.5,   5. ,   5. ,   7.5],\n",
      "       [120. , 120. ,  90. , 100. ]]), array([[  5. ,   7.5,   7.5,  10. ],\n",
      "       [ 90. , 100. ,  80. ,  90. ]]), array([[ 7.5, 10. , 10. , 12.5],\n",
      "       [80. , 90. , 75. , 84. ]]), array([[10. , 12.5, 12.5, 15. ],\n",
      "       [75. , 84. , 72. , 80. ]]), array([[  5. ,   7.5,   7.5,  10. ],\n",
      "       [120. , 120. , 100. , 105. ]]), array([[  7.5,  10. ,  10. ,  12.5],\n",
      "       [100. , 105. ,  90. ,  96. ]]), array([[10. , 12.5, 12.5, 15. ],\n",
      "       [90. , 96. , 84. , 90. ]]), array([[12.5    , 15.     , 15.     , 17.5    ],\n",
      "       [84.     , 90.     , 80.     , 85.71429]]), array([[  7.5,  10. ,  10. ,  12.5],\n",
      "       [120. , 120. , 105. , 108. ]]), array([[ 10. ,  12.5,  12.5,  15. ],\n",
      "       [105. , 108. ,  96. , 100. ]]), array([[ 12.5    ,  15.     ,  15.     ,  17.5    ],\n",
      "       [ 96.     , 100.     ,  90.     ,  94.28571]]), array([[15.     , 17.5    , 17.5    , 20.     ],\n",
      "       [90.     , 94.28571, 85.71429, 90.     ]])]\n"
     ]
    }
   ],
   "source": [
    "    from pypo import points2polyhedra\n",
    "    AIS_poly, AOS_poly = points2polyhedra(AIS,AOS)\n",
    "    print('AIS Polyhedrons \\n', AIS_poly)\n",
    "    print('AOS Polyhedrons \\n', AOS_poly)"
   ]
  },
  {
   "cell_type": "markdown",
   "id": "c1374766",
   "metadata": {},
   "source": [
    "## API documentation list\n",
    "```{eval-rst}\n",
    ".. autosummary::\n",
    "   :toctree: _autosummary\n",
    "   :recursive:\n",
    "\n",
    "   pypo\n",
    "```"
   ]
  }
 ],
 "metadata": {
  "jupytext": {
   "formats": "md:myst",
   "text_representation": {
    "extension": ".md",
    "format_name": "myst"
   }
  },
  "kernelspec": {
   "display_name": "Python 3",
   "language": "python",
   "name": "python3"
  },
  "language_info": {
   "codemirror_mode": {
    "name": "ipython",
    "version": 3
   },
   "file_extension": ".py",
   "mimetype": "text/x-python",
   "name": "python",
   "nbconvert_exporter": "python",
   "pygments_lexer": "ipython3",
   "version": "3.9.13"
  },
  "source_map": [
   11,
   31,
   34,
   46,
   56,
   58,
   61,
   65,
   68,
   83,
   86,
   90,
   93,
   96,
   100,
   113,
   123,
   130,
   143,
   162,
   165,
   177,
   187,
   189,
   192,
   196,
   198,
   212,
   215,
   227,
   237,
   239,
   242,
   246,
   249,
   252,
   255,
   258,
   260,
   269,
   279,
   281,
   285,
   296,
   301,
   312,
   317
  ]
 },
 "nbformat": 4,
 "nbformat_minor": 5
}