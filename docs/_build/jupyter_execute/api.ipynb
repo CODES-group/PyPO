{
 "cells": [
  {
   "cell_type": "markdown",
   "id": "13deca37",
   "metadata": {},
   "source": [
    "# API documentation\n",
    "\n",
    "The functions below are part of the pypo module and are\n",
    "separted below based on their functionality.\n",
    "\n",
    "## Conventional mapping (AIS to AOS)\n",
    "\n",
    "### Forward mapping\n",
    "\n",
    "```{eval-rst}\n",
    ".. autofunction:: pypo.AIS2AOS_map\n",
    "```\n",
    "\n",
    "###### Example\n",
    "Obtaining the Achievable Output Set (AOS) for the shower problem.\n",
    "\n",
    "Importing PyPO and Numpy:"
   ]
  },
  {
   "cell_type": "code",
   "execution_count": 1,
   "id": "6b2b0f33",
   "metadata": {},
   "outputs": [],
   "source": [
    "    from pypo import AIS2AOS_map\n",
    "    import numpy as np"
   ]
  },
  {
   "cell_type": "markdown",
   "id": "d209d26d",
   "metadata": {},
   "source": [
    "Defining the equations that describe the process:\n",
    "\n",
    "```{math}\n",
    "\\left\\{\\begin{array}{c}\n",
    "y_1=u_1+u_2 \\\\\n",
    "y_2=\\frac{\\left(60 u_1+120 u_2\\right)}{\\left(u_1+u_2\\right)}\n",
    "\\end{array}\\right. \\\\\n",
    "\\\\\n",
    "y_1 = 0\\rightarrow y_2 = \\frac{(60+120)}{2}\n",
    "```"
   ]
  },
  {
   "cell_type": "code",
   "execution_count": 2,
   "id": "2d7f0253",
   "metadata": {},
   "outputs": [],
   "source": [
    "    def shower_problem(u):\n",
    "        y = np.zeros(2)\n",
    "        y[0]=u[0]+u[1]\n",
    "        if y[0]!=0:\n",
    "            y[1]=(u[0]*60+u[1]*120)/(u[0]+u[1])\n",
    "        else:\n",
    "            y[1]=(60+120)/2\n",
    "            \n",
    "        return y"
   ]
  },
  {
   "cell_type": "markdown",
   "id": "6f29ea83",
   "metadata": {},
   "source": [
    "Defining the AIS bounds, as well as the discretization resolution:"
   ]
  },
  {
   "cell_type": "code",
   "execution_count": 3,
   "id": "702c391c",
   "metadata": {},
   "outputs": [],
   "source": [
    "    AIS_bounds =  np.array([[0, 10], [0, 10]])\n",
    "    resolution =  [5, 5]"
   ]
  },
  {
   "cell_type": "markdown",
   "id": "74ec3218",
   "metadata": {},
   "source": [
    "Obtain discretized AIS/AOS."
   ]
  },
  {
   "cell_type": "code",
   "execution_count": 4,
   "id": "d62a1770",
   "metadata": {},
   "outputs": [
    {
     "name": "stdout",
     "output_type": "stream",
     "text": [
      "[[[  0.       90.     ]\n",
      "  [  2.5     120.     ]\n",
      "  [  5.      120.     ]\n",
      "  [  7.5     120.     ]\n",
      "  [ 10.      120.     ]]\n",
      "\n",
      " [[  2.5      60.     ]\n",
      "  [  5.       90.     ]\n",
      "  [  7.5     100.     ]\n",
      "  [ 10.      105.     ]\n",
      "  [ 12.5     108.     ]]\n",
      "\n",
      " [[  5.       60.     ]\n",
      "  [  7.5      80.     ]\n",
      "  [ 10.       90.     ]\n",
      "  [ 12.5      96.     ]\n",
      "  [ 15.      100.     ]]\n",
      "\n",
      " [[  7.5      60.     ]\n",
      "  [ 10.       75.     ]\n",
      "  [ 12.5      84.     ]\n",
      "  [ 15.       90.     ]\n",
      "  [ 17.5      94.28571]]\n",
      "\n",
      " [[ 10.       60.     ]\n",
      "  [ 12.5      72.     ]\n",
      "  [ 15.       80.     ]\n",
      "  [ 17.5      85.71429]\n",
      "  [ 20.       90.     ]]]\n"
     ]
    }
   ],
   "source": [
    "    AIS, AOS =  AIS2AOS_map(shower_problem, AIS_bounds,  resolution)\n",
    "    print(AOS)"
   ]
  },
  {
   "cell_type": "markdown",
   "id": "a5221b02",
   "metadata": {},
   "source": [
    "### Inverse mapping (AOS/DOS to AIS/DIS)\n",
    "\n",
    "### NLP-Based\n",
    "\n",
    "```{eval-rst}\n",
    ".. autofunction:: pypo.nlp_based_approach\n",
    "```\n",
    "\n",
    "###### Example\n",
    "Obtaining the Feasible Desired Input Set (DIS*) for the shower problem.\n",
    "\n",
    "Importing PyPO and Numpy:"
   ]
  },
  {
   "cell_type": "code",
   "execution_count": 5,
   "id": "069f0a23",
   "metadata": {},
   "outputs": [],
   "source": [
    "    import numpy as np\n",
    "    from pypo import nlp_based_approach"
   ]
  },
  {
   "cell_type": "markdown",
   "id": "7388973e",
   "metadata": {},
   "source": [
    "Defining lower and upper bound for the AIS/DIS inverse map:"
   ]
  },
  {
   "cell_type": "code",
   "execution_count": 6,
   "id": "64ff41c7",
   "metadata": {},
   "outputs": [],
   "source": [
    "    lb = np.array([0, 0])\n",
    "    ub = np.array([100,100])"
   ]
  },
  {
   "cell_type": "markdown",
   "id": "4cbe897e",
   "metadata": {},
   "source": [
    "Defining DOS bounds and resolution to obtain the inverse map:"
   ]
  },
  {
   "cell_type": "code",
   "execution_count": 7,
   "id": "1c469721",
   "metadata": {},
   "outputs": [],
   "source": [
    "    DOS_bound = np.array([[17.5, 21.0],\n",
    "                          [80.0, 100.0]])\n",
    "    resolution = [5, 5]"
   ]
  },
  {
   "cell_type": "markdown",
   "id": "59c61b25",
   "metadata": {},
   "source": [
    "Defining the equations that describe the process:\n",
    "\n",
    "```{math}\n",
    "\\left\\{\\begin{array}{c}\n",
    "y_1=u_1+u_2 \\\\\n",
    "y_2=\\frac{\\left(60 u_1+120 u_2\\right)}{\\left(u_1+u_2\\right)}\n",
    "\\end{array}\\right. \\\\\n",
    "\\\\\n",
    "y_1 = 0\\rightarrow y_2 = \\frac{(60+120)}{2}\n",
    "```"
   ]
  },
  {
   "cell_type": "code",
   "execution_count": 8,
   "id": "fe2c520f",
   "metadata": {},
   "outputs": [],
   "source": [
    "    def shower_problem(u):\n",
    "        y = np.zeros(2)\n",
    "        y[0]=u[0]+u[1]\n",
    "        if y[0]!=0:\n",
    "            y[1]=(u[0]*60+u[1]*120)/(u[0]+u[1])\n",
    "        else:\n",
    "            y[1]=(60+120)/2\n",
    "            \n",
    "        return y"
   ]
  },
  {
   "cell_type": "markdown",
   "id": "e80b216f",
   "metadata": {},
   "source": [
    "Obtaining the DIS*, DOS* and the convergence for each inverse map run. \n",
    "Additionally, using IPOPT as NLP solver, enabling plotting of the process operability\n",
    "sets, cold-starting the\n",
    "NLP and using finite-differences:"
   ]
  },
  {
   "cell_type": "code",
   "execution_count": 9,
   "id": "d075886d",
   "metadata": {},
   "outputs": [
    {
     "name": "stderr",
     "output_type": "stream",
     "text": [
      "\r",
      "  0%|                                                                                           | 0/25 [00:00<?, ?it/s]"
     ]
    },
    {
     "name": "stderr",
     "output_type": "stream",
     "text": [
      "\r",
      "  8%|██████▋                                                                            | 2/25 [00:00<00:01, 13.50it/s]"
     ]
    },
    {
     "name": "stderr",
     "output_type": "stream",
     "text": [
      "\r",
      " 16%|█████████████▎                                                                     | 4/25 [00:00<00:01, 12.94it/s]"
     ]
    },
    {
     "name": "stderr",
     "output_type": "stream",
     "text": [
      "\r",
      " 24%|███████████████████▉                                                               | 6/25 [00:00<00:01, 13.50it/s]"
     ]
    },
    {
     "name": "stderr",
     "output_type": "stream",
     "text": [
      "\r",
      " 32%|██████████████████████████▌                                                        | 8/25 [00:00<00:01, 13.26it/s]"
     ]
    },
    {
     "name": "stderr",
     "output_type": "stream",
     "text": [
      "\r",
      " 40%|████████████████████████████████▊                                                 | 10/25 [00:00<00:01, 13.17it/s]"
     ]
    },
    {
     "name": "stderr",
     "output_type": "stream",
     "text": [
      "\r",
      " 48%|███████████████████████████████████████▎                                          | 12/25 [00:00<00:00, 13.38it/s]"
     ]
    },
    {
     "name": "stderr",
     "output_type": "stream",
     "text": [
      "\r",
      " 56%|█████████████████████████████████████████████▉                                    | 14/25 [00:01<00:00, 13.15it/s]"
     ]
    },
    {
     "name": "stderr",
     "output_type": "stream",
     "text": [
      "\r",
      " 64%|████████████████████████████████████████████████████▍                             | 16/25 [00:01<00:00, 12.87it/s]"
     ]
    },
    {
     "name": "stderr",
     "output_type": "stream",
     "text": [
      "\r",
      " 72%|███████████████████████████████████████████████████████████                       | 18/25 [00:01<00:00, 13.08it/s]"
     ]
    },
    {
     "name": "stderr",
     "output_type": "stream",
     "text": [
      "\r",
      " 80%|█████████████████████████████████████████████████████████████████▌                | 20/25 [00:01<00:00, 13.41it/s]"
     ]
    },
    {
     "name": "stderr",
     "output_type": "stream",
     "text": [
      "\r",
      " 88%|████████████████████████████████████████████████████████████████████████▏         | 22/25 [00:01<00:00, 13.12it/s]"
     ]
    },
    {
     "name": "stderr",
     "output_type": "stream",
     "text": [
      "\r",
      " 96%|██████████████████████████████████████████████████████████████████████████████▋   | 24/25 [00:01<00:00, 12.70it/s]"
     ]
    },
    {
     "name": "stderr",
     "output_type": "stream",
     "text": [
      "\r",
      "100%|██████████████████████████████████████████████████████████████████████████████████| 25/25 [00:01<00:00, 13.15it/s]"
     ]
    },
    {
     "name": "stderr",
     "output_type": "stream",
     "text": [
      "\n"
     ]
    },
    {
     "data": {
      "image/png": "[encoded data removed]",
      "text/plain": [
       "<Figure size 960x720 with 2 Axes>"
      ]
     },
     "metadata": {},
     "output_type": "display_data"
    }
   ],
   "source": [
    "    u0 = u0 = np.array([0, 10]) # Initial estimate for inverse mapping.\n",
    "    fDIS, fDOS, message = nlp_based_approach(DOS_bound, \n",
    "                                             resolution, \n",
    "                                             shower_problem, \n",
    "                                             u0, \n",
    "                                             lb,\n",
    "                                             ub, \n",
    "                                             method='ipopt', \n",
    "                                             plot=True, \n",
    "                                             ad=False,\n",
    "                                             warmstart=False)"
   ]
  },
  {
   "cell_type": "markdown",
   "id": "35b7eb19",
   "metadata": {},
   "source": [
    "## Implicit mapping\n",
    "\n",
    "```{eval-rst}\n",
    ".. autofunction:: pypo.implicit_map\n",
    "```\n",
    "\n",
    "## Multimodel representation\n",
    "\n",
    "```{eval-rst}\n",
    ".. autofunction:: pypo.multimodel_rep\n",
    "```\n",
    "\n",
    "###### Example\n",
    "Obtaining the Achievable Output Set (AOS) for the shower problem.\n",
    "\n",
    "Importing PyPO and Numpy:"
   ]
  },
  {
   "cell_type": "code",
   "execution_count": 10,
   "id": "551bcf6d",
   "metadata": {},
   "outputs": [],
   "source": [
    "    from pypo import multimodel_rep\n",
    "    import numpy as np"
   ]
  },
  {
   "cell_type": "markdown",
   "id": "3cb5392d",
   "metadata": {},
   "source": [
    "Defining the equations that describe the process:\n",
    "\n",
    "```{math}\n",
    "\\left\\{\\begin{array}{c}\n",
    "y_1=u_1+u_2 \\\\\n",
    "y_2=\\frac{\\left(60 u_1+120 u_2\\right)}{\\left(u_1+u_2\\right)}\n",
    "\\end{array}\\right. \\\\\n",
    "\\\\\n",
    "y_1 = 0\\rightarrow y_2 = \\frac{(60+120)}{2}\n",
    "```"
   ]
  },
  {
   "cell_type": "code",
   "execution_count": 11,
   "id": "51f64568",
   "metadata": {},
   "outputs": [],
   "source": [
    "    def shower_problem(u):\n",
    "        y = np.zeros(2)\n",
    "        y[0]=u[0]+u[1]\n",
    "        if y[0]!=0:\n",
    "            y[1]=(u[0]*60+u[1]*120)/(u[0]+u[1])\n",
    "        else:\n",
    "            y[1]=(60+120)/2\n",
    "            \n",
    "        return y"
   ]
  },
  {
   "cell_type": "markdown",
   "id": "ba2d8a3f",
   "metadata": {},
   "source": [
    "Defining the AIS bounds and the discretization resolution:"
   ]
  },
  {
   "cell_type": "code",
   "execution_count": 12,
   "id": "fe4676af",
   "metadata": {},
   "outputs": [],
   "source": [
    "    AIS_bounds =  np.array([[1, 10], [1, 10]])\n",
    "    AIS_resolution =  [5, 5]"
   ]
  },
  {
   "cell_type": "markdown",
   "id": "a513853d",
   "metadata": {},
   "source": [
    "Obtaining multimodel representation of paired polytopes for the AOS:"
   ]
  },
  {
   "cell_type": "code",
   "execution_count": 13,
   "id": "17d82a42",
   "metadata": {},
   "outputs": [
    {
     "data": {
      "image/png": "[encoded data removed]",
      "text/plain": [
       "<Figure size 960x720 with 1 Axes>"
      ]
     },
     "metadata": {},
     "output_type": "display_data"
    }
   ],
   "source": [
    "    AOS_region  =  multimodel_rep(AIS_bounds, AIS_resolution, shower_problem)"
   ]
  },
  {
   "cell_type": "markdown",
   "id": "cc19f7e8",
   "metadata": {},
   "source": [
    "## OI evaluation\n",
    "\n",
    "```{eval-rst}\n",
    ".. autofunction:: pypo.OI_eval\n",
    "```\n",
    "\n",
    "###### Example\n",
    "Evaluating the OI for the shower problem for a given DOS.\n",
    "\n",
    "\n",
    "\n",
    "Importing PyPO and Numpy:"
   ]
  },
  {
   "cell_type": "code",
   "execution_count": 14,
   "id": "004862c0",
   "metadata": {},
   "outputs": [],
   "source": [
    "    from pypo import multimodel_rep, OI_eval\n",
    "    import numpy as np"
   ]
  },
  {
   "cell_type": "markdown",
   "id": "d7b085a1",
   "metadata": {},
   "source": [
    "Defining the equations that describe the process:\n",
    "\n",
    "```{math}\n",
    "\\left\\{\\begin{array}{c}\n",
    "y_1=u_1+u_2 \\\\\n",
    "y_2=\\frac{\\left(60 u_1+120 u_2\\right)}{\\left(u_1+u_2\\right)}\n",
    "\\end{array}\\right. \\\\\n",
    "\\\\\n",
    "y_1 = 0\\rightarrow y_2 = \\frac{(60+120)}{2}\n",
    "```"
   ]
  },
  {
   "cell_type": "code",
   "execution_count": 15,
   "id": "e4d6fae0",
   "metadata": {},
   "outputs": [],
   "source": [
    "    def shower_problem(u):\n",
    "        y = np.zeros(2)\n",
    "        y[0]=u[0]+u[1]\n",
    "        if y[0]!=0:\n",
    "            y[1]=(u[0]*60+u[1]*120)/(u[0]+u[1])\n",
    "        else:\n",
    "            y[1]=(60+120)/2\n",
    "            \n",
    "        return y"
   ]
  },
  {
   "cell_type": "markdown",
   "id": "66848357",
   "metadata": {},
   "source": [
    "Defining the AIS bounds and the discretization resolution:"
   ]
  },
  {
   "cell_type": "code",
   "execution_count": 16,
   "id": "5bdf97c8",
   "metadata": {},
   "outputs": [],
   "source": [
    "    AIS_bounds =  np.array([[1, 10], [1, 10]])\n",
    "    AIS_resolution =  [5, 5]"
   ]
  },
  {
   "cell_type": "markdown",
   "id": "dfc22fe0",
   "metadata": {},
   "source": [
    "Obtaining multimodel representation of paired polytopes for the AOS:"
   ]
  },
  {
   "cell_type": "code",
   "execution_count": 17,
   "id": "50f1dda5",
   "metadata": {},
   "outputs": [
    {
     "name": "stdout",
     "output_type": "stream",
     "text": [
      "Either plotting is not possible (dimension > 3) or you have chosen plotting=False. The operability set is still returned as a polytopic region of general dimension.\n"
     ]
    }
   ],
   "source": [
    "    AOS_region  =  multimodel_rep(AIS_bounds, AIS_resolution, shower_problem,\n",
    "    plotting=False)"
   ]
  },
  {
   "cell_type": "markdown",
   "id": "efa17a89",
   "metadata": {},
   "source": [
    "Defining a DOS region between $y_1 =[10-20], y_2=[70-100]$"
   ]
  },
  {
   "cell_type": "code",
   "execution_count": 18,
   "id": "af2fc1fd",
   "metadata": {},
   "outputs": [],
   "source": [
    "    DOS_bounds =  np.array([[10, 20], \n",
    "                            [70, 100]])"
   ]
  },
  {
   "cell_type": "markdown",
   "id": "62b7371d",
   "metadata": {},
   "source": [
    "Evaluating the OI and seeing the intersection between the operability sets:"
   ]
  },
  {
   "cell_type": "code",
   "execution_count": 19,
   "id": "185e36a2",
   "metadata": {},
   "outputs": [
    {
     "data": {
      "image/png": "[encoded data removed]",
      "text/plain": [
       "<Figure size 960x720 with 1 Axes>"
      ]
     },
     "metadata": {},
     "output_type": "display_data"
    }
   ],
   "source": [
    "    OI = OI_eval(AOS_region, DOS_bounds)"
   ]
  },
  {
   "cell_type": "markdown",
   "id": "409885ea",
   "metadata": {},
   "source": [
    "## Utilities\n",
    "\n",
    "```{eval-rst}\n",
    ".. autofunction:: pypo.create_grid\n",
    "```\n",
    "###### Example\n",
    "Creating a 2-dimensional discretized rectangular grid for given DOS bounds."
   ]
  },
  {
   "cell_type": "code",
   "execution_count": 20,
   "id": "9a5c161d",
   "metadata": {},
   "outputs": [
    {
     "name": "stdout",
     "output_type": "stream",
     "text": [
      "[[[ 10.  70.]\n",
      "  [ 10.  85.]\n",
      "  [ 10. 100.]]\n",
      "\n",
      " [[ 15.  70.]\n",
      "  [ 15.  85.]\n",
      "  [ 15. 100.]]\n",
      "\n",
      " [[ 20.  70.]\n",
      "  [ 20.  85.]\n",
      "  [ 20. 100.]]]\n"
     ]
    }
   ],
   "source": [
    "    from pypo import create_grid\n",
    "    DOS_bounds =  np.array([[10, 20], \n",
    "                            [70, 100]])\n",
    "\n",
    "    DOS_resolution =  [3, 3]\n",
    "\n",
    "    DOSPts = create_grid(DOS_bounds, DOS_resolution)\n",
    "\n",
    "    print(DOSPts)"
   ]
  },
  {
   "cell_type": "markdown",
   "id": "977d845c",
   "metadata": {},
   "source": [
    "Visualizing this grid:"
   ]
  },
  {
   "cell_type": "code",
   "execution_count": 21,
   "id": "7c5d0956",
   "metadata": {},
   "outputs": [
    {
     "data": {
      "text/plain": [
       "<matplotlib.collections.PathCollection at 0x1ca5809ec40>"
      ]
     },
     "execution_count": 21,
     "metadata": {},
     "output_type": "execute_result"
    },
    {
     "data": {
      "image/png": "[encoded data removed]",
      "text/plain": [
       "<Figure size 960x720 with 1 Axes>"
      ]
     },
     "metadata": {},
     "output_type": "display_data"
    }
   ],
   "source": [
    "    import matplotlib.pyplot as plt\n",
    "    DOSPts = DOSPts.reshape(-1, 2)\n",
    "    plt.scatter(DOSPts[:, 0], DOSPts[:, 1])"
   ]
  },
  {
   "cell_type": "markdown",
   "id": "e8bb0ce0",
   "metadata": {},
   "source": [
    "```{eval-rst}\n",
    ".. autofunction:: pypo.points2simplices\n",
    "```\n",
    "\n",
    "###### Example\n",
    "Generating paired simplicial polytopes for the AIS/AOS generated for the\n",
    "shower problem example."
   ]
  },
  {
   "cell_type": "code",
   "execution_count": 22,
   "id": "1bdd3eeb",
   "metadata": {},
   "outputs": [
    {
     "name": "stdout",
     "output_type": "stream",
     "text": [
      "AIS Simplices \n",
      " [array([[2.5, 0. , 0. ],\n",
      "       [2.5, 2.5, 0. ]]), array([[2.5, 2.5, 0. ],\n",
      "       [2.5, 0. , 0. ]]), array([[5. , 2.5, 2.5],\n",
      "       [2.5, 2.5, 0. ]]), array([[5. , 5. , 2.5],\n",
      "       [2.5, 0. , 0. ]]), array([[7.5, 5. , 5. ],\n",
      "       [2.5, 2.5, 0. ]]), array([[7.5, 7.5, 5. ],\n",
      "       [2.5, 0. , 0. ]]), array([[10. ,  7.5,  7.5],\n",
      "       [ 2.5,  2.5,  0. ]]), array([[10. , 10. ,  7.5],\n",
      "       [ 2.5,  0. ,  0. ]]), array([[2.5, 0. , 0. ],\n",
      "       [5. , 5. , 2.5]]), array([[2.5, 2.5, 0. ],\n",
      "       [5. , 2.5, 2.5]]), array([[5. , 2.5, 2.5],\n",
      "       [5. , 5. , 2.5]]), array([[5. , 5. , 2.5],\n",
      "       [5. , 2.5, 2.5]]), array([[7.5, 5. , 5. ],\n",
      "       [5. , 5. , 2.5]]), array([[7.5, 7.5, 5. ],\n",
      "       [5. , 2.5, 2.5]]), array([[10. ,  7.5,  7.5],\n",
      "       [ 5. ,  5. ,  2.5]]), array([[10. , 10. ,  7.5],\n",
      "       [ 5. ,  2.5,  2.5]]), array([[2.5, 0. , 0. ],\n",
      "       [7.5, 7.5, 5. ]]), array([[2.5, 2.5, 0. ],\n",
      "       [7.5, 5. , 5. ]]), array([[5. , 2.5, 2.5],\n",
      "       [7.5, 7.5, 5. ]]), array([[5. , 5. , 2.5],\n",
      "       [7.5, 5. , 5. ]]), array([[7.5, 5. , 5. ],\n",
      "       [7.5, 7.5, 5. ]]), array([[7.5, 7.5, 5. ],\n",
      "       [7.5, 5. , 5. ]]), array([[10. ,  7.5,  7.5],\n",
      "       [ 7.5,  7.5,  5. ]]), array([[10. , 10. ,  7.5],\n",
      "       [ 7.5,  5. ,  5. ]]), array([[ 2.5,  0. ,  0. ],\n",
      "       [10. , 10. ,  7.5]]), array([[ 2.5,  2.5,  0. ],\n",
      "       [10. ,  7.5,  7.5]]), array([[ 5. ,  2.5,  2.5],\n",
      "       [10. , 10. ,  7.5]]), array([[ 5. ,  5. ,  2.5],\n",
      "       [10. ,  7.5,  7.5]]), array([[ 7.5,  5. ,  5. ],\n",
      "       [10. , 10. ,  7.5]]), array([[ 7.5,  7.5,  5. ],\n",
      "       [10. ,  7.5,  7.5]]), array([[10. ,  7.5,  7.5],\n",
      "       [10. , 10. ,  7.5]]), array([[10. , 10. ,  7.5],\n",
      "       [10. ,  7.5,  7.5]])]\n",
      "AOS Simplices \n",
      " [array([[  5. ,   2.5,   0. ],\n",
      "       [ 90. , 120. ,  90. ]]), array([[ 5. ,  2.5,  0. ],\n",
      "       [90. , 60. , 90. ]]), array([[ 7.5,  5. ,  2.5],\n",
      "       [80. , 90. , 60. ]]), array([[ 7.5,  5. ,  2.5],\n",
      "       [80. , 60. , 60. ]]), array([[10. ,  7.5,  5. ],\n",
      "       [75. , 80. , 60. ]]), array([[10. ,  7.5,  5. ],\n",
      "       [75. , 60. , 60. ]]), array([[12.5, 10. ,  7.5],\n",
      "       [72. , 75. , 60. ]]), array([[12.5, 10. ,  7.5],\n",
      "       [72. , 60. , 60. ]]), array([[  7.5,   5. ,   2.5],\n",
      "       [100. , 120. , 120. ]]), array([[  7.5,   5. ,   2.5],\n",
      "       [100. ,  90. , 120. ]]), array([[ 10. ,   7.5,   5. ],\n",
      "       [ 90. , 100. ,  90. ]]), array([[10. ,  7.5,  5. ],\n",
      "       [90. , 80. , 90. ]]), array([[12.5, 10. ,  7.5],\n",
      "       [84. , 90. , 80. ]]), array([[12.5, 10. ,  7.5],\n",
      "       [84. , 75. , 80. ]]), array([[15. , 12.5, 10. ],\n",
      "       [80. , 84. , 75. ]]), array([[15. , 12.5, 10. ],\n",
      "       [80. , 72. , 75. ]]), array([[ 10. ,   7.5,   5. ],\n",
      "       [105. , 120. , 120. ]]), array([[ 10. ,   7.5,   5. ],\n",
      "       [105. , 100. , 120. ]]), array([[ 12.5,  10. ,   7.5],\n",
      "       [ 96. , 105. , 100. ]]), array([[ 12.5,  10. ,   7.5],\n",
      "       [ 96. ,  90. , 100. ]]), array([[15. , 12.5, 10. ],\n",
      "       [90. , 96. , 90. ]]), array([[15. , 12.5, 10. ],\n",
      "       [90. , 84. , 90. ]]), array([[17.5    , 15.     , 12.5    ],\n",
      "       [85.71429, 90.     , 84.     ]]), array([[17.5    , 15.     , 12.5    ],\n",
      "       [85.71429, 80.     , 84.     ]]), array([[ 12.5,  10. ,   7.5],\n",
      "       [108. , 120. , 120. ]]), array([[ 12.5,  10. ,   7.5],\n",
      "       [108. , 105. , 120. ]]), array([[ 15. ,  12.5,  10. ],\n",
      "       [100. , 108. , 105. ]]), array([[ 15. ,  12.5,  10. ],\n",
      "       [100. ,  96. , 105. ]]), array([[ 17.5    ,  15.     ,  12.5    ],\n",
      "       [ 94.28571, 100.     ,  96.     ]]), array([[17.5    , 15.     , 12.5    ],\n",
      "       [94.28571, 90.     , 96.     ]]), array([[20.     , 17.5    , 15.     ],\n",
      "       [90.     , 94.28571, 90.     ]]), array([[20.     , 17.5    , 15.     ],\n",
      "       [90.     , 85.71429, 90.     ]])]\n"
     ]
    }
   ],
   "source": [
    "    from pypo import points2simplices\n",
    "    AIS_poly, AOS_poly = points2simplices(AIS,AOS)\n",
    "    print('AIS Simplices \\n', AIS_poly)\n",
    "    print('AOS Simplices \\n', AOS_poly)"
   ]
  },
  {
   "cell_type": "markdown",
   "id": "5de2a584",
   "metadata": {},
   "source": [
    "```{eval-rst}\n",
    ".. autofunction:: pypo.points2polyhedra\n",
    "```\n",
    "###### Example\n",
    "Generating paired polyhedrons for the AIS/AOS generated for the\n",
    "shower problem example."
   ]
  },
  {
   "cell_type": "code",
   "execution_count": 23,
   "id": "0a32d3e1",
   "metadata": {},
   "outputs": [
    {
     "name": "stdout",
     "output_type": "stream",
     "text": [
      "AIS Polyhedrons \n",
      " [array([[0. , 0. , 2.5, 2.5],\n",
      "       [0. , 2.5, 0. , 2.5]]), array([[2.5, 2.5, 5. , 5. ],\n",
      "       [0. , 2.5, 0. , 2.5]]), array([[5. , 5. , 7.5, 7.5],\n",
      "       [0. , 2.5, 0. , 2.5]]), array([[ 7.5,  7.5, 10. , 10. ],\n",
      "       [ 0. ,  2.5,  0. ,  2.5]]), array([[0. , 0. , 2.5, 2.5],\n",
      "       [2.5, 5. , 2.5, 5. ]]), array([[2.5, 2.5, 5. , 5. ],\n",
      "       [2.5, 5. , 2.5, 5. ]]), array([[5. , 5. , 7.5, 7.5],\n",
      "       [2.5, 5. , 2.5, 5. ]]), array([[ 7.5,  7.5, 10. , 10. ],\n",
      "       [ 2.5,  5. ,  2.5,  5. ]]), array([[0. , 0. , 2.5, 2.5],\n",
      "       [5. , 7.5, 5. , 7.5]]), array([[2.5, 2.5, 5. , 5. ],\n",
      "       [5. , 7.5, 5. , 7.5]]), array([[5. , 5. , 7.5, 7.5],\n",
      "       [5. , 7.5, 5. , 7.5]]), array([[ 7.5,  7.5, 10. , 10. ],\n",
      "       [ 5. ,  7.5,  5. ,  7.5]]), array([[ 0. ,  0. ,  2.5,  2.5],\n",
      "       [ 7.5, 10. ,  7.5, 10. ]]), array([[ 2.5,  2.5,  5. ,  5. ],\n",
      "       [ 7.5, 10. ,  7.5, 10. ]]), array([[ 5. ,  5. ,  7.5,  7.5],\n",
      "       [ 7.5, 10. ,  7.5, 10. ]]), array([[ 7.5,  7.5, 10. , 10. ],\n",
      "       [ 7.5, 10. ,  7.5, 10. ]])]\n",
      "AOS Polyhedrons \n",
      " [array([[  0. ,   2.5,   2.5,   5. ],\n",
      "       [ 90. , 120. ,  60. ,  90. ]]), array([[ 2.5,  5. ,  5. ,  7.5],\n",
      "       [60. , 90. , 60. , 80. ]]), array([[ 5. ,  7.5,  7.5, 10. ],\n",
      "       [60. , 80. , 60. , 75. ]]), array([[ 7.5, 10. , 10. , 12.5],\n",
      "       [60. , 75. , 60. , 72. ]]), array([[  2.5,   5. ,   5. ,   7.5],\n",
      "       [120. , 120. ,  90. , 100. ]]), array([[  5. ,   7.5,   7.5,  10. ],\n",
      "       [ 90. , 100. ,  80. ,  90. ]]), array([[ 7.5, 10. , 10. , 12.5],\n",
      "       [80. , 90. , 75. , 84. ]]), array([[10. , 12.5, 12.5, 15. ],\n",
      "       [75. , 84. , 72. , 80. ]]), array([[  5. ,   7.5,   7.5,  10. ],\n",
      "       [120. , 120. , 100. , 105. ]]), array([[  7.5,  10. ,  10. ,  12.5],\n",
      "       [100. , 105. ,  90. ,  96. ]]), array([[10. , 12.5, 12.5, 15. ],\n",
      "       [90. , 96. , 84. , 90. ]]), array([[12.5    , 15.     , 15.     , 17.5    ],\n",
      "       [84.     , 90.     , 80.     , 85.71429]]), array([[  7.5,  10. ,  10. ,  12.5],\n",
      "       [120. , 120. , 105. , 108. ]]), array([[ 10. ,  12.5,  12.5,  15. ],\n",
      "       [105. , 108. ,  96. , 100. ]]), array([[ 12.5    ,  15.     ,  15.     ,  17.5    ],\n",
      "       [ 96.     , 100.     ,  90.     ,  94.28571]]), array([[15.     , 17.5    , 17.5    , 20.     ],\n",
      "       [90.     , 94.28571, 85.71429, 90.     ]])]\n"
     ]
    }
   ],
   "source": [
    "    from pypo import points2polyhedra\n",
    "    AIS_poly, AOS_poly = points2polyhedra(AIS,AOS)\n",
    "    print('AIS Polyhedrons \\n', AIS_poly)\n",
    "    print('AOS Polyhedrons \\n', AOS_poly)"
   ]
  },
  {
   "cell_type": "markdown",
   "id": "ac2ecc04",
   "metadata": {},
   "source": [
    "```{eval-rst}\n",
    ".. autosummary::\n",
    "   :toctree: _autosummary\n",
    "   :recursive:\n",
    "\n",
    "   pypo\n",
    "```"
   ]
  }
 ],
 "metadata": {
  "jupytext": {
   "formats": "md:myst",
   "text_representation": {
    "extension": ".md",
    "format_name": "myst"
   }
  },
  "kernelspec": {
   "display_name": "Python 3",
   "language": "python",
   "name": "python3"
  },
  "language_info": {
   "codemirror_mode": {
    "name": "ipython",
    "version": 3
   },
   "file_extension": ".py",
   "mimetype": "text/x-python",
   "name": "python",
   "nbconvert_exporter": "python",
   "pygments_lexer": "ipython3",
   "version": "3.9.13"
  },
  "source_map": [
   11,
   31,
   34,
   46,
   56,
   58,
   61,
   65,
   68,
   83,
   86,
   90,
   93,
   96,
   100,
   113,
   123,
   130,
   143,
   162,
   165,
   177,
   187,
   189,
   192,
   196,
   198,
   212,
   215,
   227,
   237,
   239,
   242,
   246,
   249,
   252,
   255,
   258,
   260,
   269,
   279,
   281,
   285,
   296,
   301,
   312,
   317
  ]
 },
 "nbformat": 4,
 "nbformat_minor": 5
}