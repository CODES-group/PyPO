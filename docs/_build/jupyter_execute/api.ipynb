{
 "cells": [
  {
   "cell_type": "markdown",
   "id": "e57bbc03",
   "metadata": {},
   "source": [
    "# API documentation\n",
    "\n",
    "The functions described below are part of the PyPO and are\n",
    "classified based on their functionality.\n",
    "\n",
    "## Conventional mapping (AIS to AOS)\n",
    "\n",
    "### Forward mapping\n",
    "\n",
    "```{eval-rst}\n",
    ".. autofunction:: pypo.AIS2AOS_map\n",
    "```\n",
    "\n",
    "###### Example\n",
    "Obtaining the Achievable Output Set (AOS) for the shower problem.\n",
    "\n",
    "Importing PyPO and Numpy:"
   ]
  },
  {
   "cell_type": "code",
   "execution_count": null,
   "id": "64268175",
   "metadata": {
    "tags": [
     "remove-output"
    ]
   },
   "outputs": [],
   "source": [
    "    from pypo import AIS2AOS_map\n",
    "    import numpy as np"
   ]
  },
  {
   "cell_type": "markdown",
   "id": "7cc44b2b",
   "metadata": {},
   "source": [
    "Defining the equations that describe the process:\n",
    "\n",
    "```{math}\n",
    "\\left\\{\\begin{array}{c}\n",
    "y_1=u_1+u_2 \\\\\n",
    "y_2=\\frac{\\left(60 u_1+120 u_2\\right)}{\\left(u_1+u_2\\right)}\n",
    "\\end{array}\\right. \\\\\n",
    "\\\\\n",
    "y_1 = 0\\rightarrow y_2 = \\frac{(60+120)}{2}\n",
    "```"
   ]
  },
  {
   "cell_type": "code",
   "execution_count": null,
   "id": "dda60062",
   "metadata": {},
   "outputs": [],
   "source": [
    "    def shower_problem(u):\n",
    "        y = np.zeros(2)\n",
    "        y[0]=u[0]+u[1]\n",
    "        if y[0]!=0:\n",
    "            y[1]=(u[0]*60+u[1]*120)/(u[0]+u[1])\n",
    "        else:\n",
    "            y[1]=(60+120)/2\n",
    "            \n",
    "        return y"
   ]
  },
  {
   "cell_type": "markdown",
   "id": "8c7051f2",
   "metadata": {},
   "source": [
    "Defining the AIS bounds, as well as the discretization resolution:"
   ]
  },
  {
   "cell_type": "code",
   "execution_count": null,
   "id": "cbccecd0",
   "metadata": {},
   "outputs": [],
   "source": [
    "    AIS_bounds =  np.array([[0, 10], [0, 10]])\n",
    "    resolution =  [5, 5]"
   ]
  },
  {
   "cell_type": "markdown",
   "id": "b78e85fc",
   "metadata": {},
   "source": [
    "Obtain discretized AIS/AOS."
   ]
  },
  {
   "cell_type": "code",
   "execution_count": null,
   "id": "7ce2ef7c",
   "metadata": {},
   "outputs": [],
   "source": [
    "    AIS, AOS =  AIS2AOS_map(shower_problem, AIS_bounds,  resolution)\n",
    "    print(AOS)"
   ]
  },
  {
   "cell_type": "markdown",
   "id": "b66cace1",
   "metadata": {},
   "source": [
    "### Inverse mapping (AOS/DOS to AIS/DIS)\n",
    "\n",
    "### NLP-Based\n",
    "\n",
    "```{eval-rst}\n",
    ".. autofunction:: pypo.nlp_based_approach\n",
    "```\n",
    "\n",
    "###### Example\n",
    "Obtaining the Feasible Desired Input Set (DIS*) for the shower problem.\n",
    "\n",
    "Importing PyPO and Numpy:"
   ]
  },
  {
   "cell_type": "code",
   "execution_count": null,
   "id": "e6ed76ee",
   "metadata": {},
   "outputs": [],
   "source": [
    "    import numpy as np\n",
    "    from pypo import nlp_based_approach"
   ]
  },
  {
   "cell_type": "markdown",
   "id": "ae755799",
   "metadata": {},
   "source": [
    "Defining lower and upper bound for the AIS/DIS inverse map:"
   ]
  },
  {
   "cell_type": "code",
   "execution_count": null,
   "id": "5fb02c83",
   "metadata": {},
   "outputs": [],
   "source": [
    "    lb = np.array([0, 0])\n",
    "    ub = np.array([100,100])"
   ]
  },
  {
   "cell_type": "markdown",
   "id": "7b892188",
   "metadata": {},
   "source": [
    "Defining DOS bounds and resolution to obtain the inverse map:"
   ]
  },
  {
   "cell_type": "code",
   "execution_count": null,
   "id": "c2bbaf02",
   "metadata": {},
   "outputs": [],
   "source": [
    "    DOS_bound = np.array([[17.5, 21.0],\n",
    "                          [80.0, 100.0]])\n",
    "    resolution = [5, 5]"
   ]
  },
  {
   "cell_type": "markdown",
   "id": "344ab90b",
   "metadata": {},
   "source": [
    "Defining the equations that describe the process:\n",
    "\n",
    "```{math}\n",
    "\\left\\{\\begin{array}{c}\n",
    "y_1=u_1+u_2 \\\\\n",
    "y_2=\\frac{\\left(60 u_1+120 u_2\\right)}{\\left(u_1+u_2\\right)}\n",
    "\\end{array}\\right. \\\\\n",
    "\\\\\n",
    "y_1 = 0\\rightarrow y_2 = \\frac{(60+120)}{2}\n",
    "```"
   ]
  },
  {
   "cell_type": "code",
   "execution_count": null,
   "id": "8b0dd246",
   "metadata": {},
   "outputs": [],
   "source": [
    "    def shower_problem(u):\n",
    "        y = np.zeros(2)\n",
    "        y[0]=u[0]+u[1]\n",
    "        if y[0]!=0:\n",
    "            y[1]=(u[0]*60+u[1]*120)/(u[0]+u[1])\n",
    "        else:\n",
    "            y[1]=(60+120)/2\n",
    "            \n",
    "        return y"
   ]
  },
  {
   "cell_type": "markdown",
   "id": "af285ca3",
   "metadata": {},
   "source": [
    "Obtaining the DIS*, DOS* and the convergence for each inverse map run. \n",
    "Additionally, using IPOPT as NLP solver, enabling plotting of the process operability\n",
    "sets, cold-starting the\n",
    "NLP and using finite-differences:"
   ]
  },
  {
   "cell_type": "code",
   "execution_count": null,
   "id": "31b706a1",
   "metadata": {},
   "outputs": [],
   "source": [
    "    u0 = u0 = np.array([0, 10]) # Initial estimate for inverse mapping.\n",
    "    fDIS, fDOS, message = nlp_based_approach(DOS_bound, \n",
    "                                             resolution, \n",
    "                                             shower_problem, \n",
    "                                             u0, \n",
    "                                             lb,\n",
    "                                             ub, \n",
    "                                             method='ipopt', \n",
    "                                             plot=True, \n",
    "                                             ad=False,\n",
    "                                             warmstart=False)"
   ]
  },
  {
   "cell_type": "markdown",
   "id": "a7bb3ad7",
   "metadata": {},
   "source": [
    "## Implicit mapping\n",
    "\n",
    "```{eval-rst}\n",
    ".. autofunction:: pypo.implicit_map\n",
    "```\n",
    "\n",
    "## Multimodel representation\n",
    "\n",
    "```{eval-rst}\n",
    ".. autofunction:: pypo.multimodel_rep\n",
    "```\n",
    "\n",
    "###### Example\n",
    "Obtaining the Achievable Output Set (AOS) for the shower problem.\n",
    "\n",
    "Importing PyPO and Numpy:"
   ]
  },
  {
   "cell_type": "code",
   "execution_count": null,
   "id": "79ee07c3",
   "metadata": {},
   "outputs": [],
   "source": [
    "    from pypo import multimodel_rep\n",
    "    import numpy as np"
   ]
  },
  {
   "cell_type": "markdown",
   "id": "76397aaf",
   "metadata": {},
   "source": [
    "Defining the equations that describe the process:\n",
    "\n",
    "```{math}\n",
    "\\left\\{\\begin{array}{c}\n",
    "y_1=u_1+u_2 \\\\\n",
    "y_2=\\frac{\\left(60 u_1+120 u_2\\right)}{\\left(u_1+u_2\\right)}\n",
    "\\end{array}\\right. \\\\\n",
    "\\\\\n",
    "y_1 = 0\\rightarrow y_2 = \\frac{(60+120)}{2}\n",
    "```"
   ]
  },
  {
   "cell_type": "code",
   "execution_count": null,
   "id": "fdd1afb5",
   "metadata": {},
   "outputs": [],
   "source": [
    "    def shower_problem(u):\n",
    "        y = np.zeros(2)\n",
    "        y[0]=u[0]+u[1]\n",
    "        if y[0]!=0:\n",
    "            y[1]=(u[0]*60+u[1]*120)/(u[0]+u[1])\n",
    "        else:\n",
    "            y[1]=(60+120)/2\n",
    "            \n",
    "        return y"
   ]
  },
  {
   "cell_type": "markdown",
   "id": "10d081c3",
   "metadata": {},
   "source": [
    "Defining the AIS bounds and the discretization resolution:"
   ]
  },
  {
   "cell_type": "code",
   "execution_count": null,
   "id": "b95d382a",
   "metadata": {},
   "outputs": [],
   "source": [
    "    AIS_bounds =  np.array([[1, 10], [1, 10]])\n",
    "    AIS_resolution =  [5, 5]"
   ]
  },
  {
   "cell_type": "markdown",
   "id": "d100f30b",
   "metadata": {},
   "source": [
    "Obtaining multimodel representation of paired polytopes for the AOS:"
   ]
  },
  {
   "cell_type": "code",
   "execution_count": null,
   "id": "2361aa5a",
   "metadata": {},
   "outputs": [],
   "source": [
    "    AOS_region  =  multimodel_rep(AIS_bounds, AIS_resolution, shower_problem)"
   ]
  },
  {
   "cell_type": "markdown",
   "id": "09cdf56f",
   "metadata": {},
   "source": [
    "## OI evaluation\n",
    "\n",
    "```{eval-rst}\n",
    ".. autofunction:: pypo.OI_eval\n",
    "```\n",
    "\n",
    "###### Example\n",
    "Evaluating the OI for the shower problem for a given DOS.\n",
    "\n",
    "\n",
    "\n",
    "Importing PyPO and Numpy:"
   ]
  },
  {
   "cell_type": "code",
   "execution_count": null,
   "id": "fb339a84",
   "metadata": {},
   "outputs": [],
   "source": [
    "    from pypo import multimodel_rep, OI_eval\n",
    "    import numpy as np"
   ]
  },
  {
   "cell_type": "markdown",
   "id": "66d37e9e",
   "metadata": {},
   "source": [
    "Defining the equations that describe the process:\n",
    "\n",
    "```{math}\n",
    "\\left\\{\\begin{array}{c}\n",
    "y_1=u_1+u_2 \\\\\n",
    "y_2=\\frac{\\left(60 u_1+120 u_2\\right)}{\\left(u_1+u_2\\right)}\n",
    "\\end{array}\\right. \\\\\n",
    "\\\\\n",
    "y_1 = 0\\rightarrow y_2 = \\frac{(60+120)}{2}\n",
    "```"
   ]
  },
  {
   "cell_type": "code",
   "execution_count": null,
   "id": "616f4314",
   "metadata": {},
   "outputs": [],
   "source": [
    "    def shower_problem(u):\n",
    "        y = np.zeros(2)\n",
    "        y[0]=u[0]+u[1]\n",
    "        if y[0]!=0:\n",
    "            y[1]=(u[0]*60+u[1]*120)/(u[0]+u[1])\n",
    "        else:\n",
    "            y[1]=(60+120)/2\n",
    "            \n",
    "        return y"
   ]
  },
  {
   "cell_type": "markdown",
   "id": "c099e21c",
   "metadata": {},
   "source": [
    "Defining the AIS bounds and the discretization resolution:"
   ]
  },
  {
   "cell_type": "code",
   "execution_count": null,
   "id": "300c8fc3",
   "metadata": {},
   "outputs": [],
   "source": [
    "    AIS_bounds =  np.array([[1, 10], [1, 10]])\n",
    "    AIS_resolution =  [5, 5]"
   ]
  },
  {
   "cell_type": "markdown",
   "id": "b19626d1",
   "metadata": {},
   "source": [
    "Obtaining multimodel representation of paired polytopes for the AOS:"
   ]
  },
  {
   "cell_type": "code",
   "execution_count": null,
   "id": "ac11479e",
   "metadata": {},
   "outputs": [],
   "source": [
    "    AOS_region  =  multimodel_rep(AIS_bounds, AIS_resolution, shower_problem,\n",
    "    plotting=False)"
   ]
  },
  {
   "cell_type": "markdown",
   "id": "05fc0197",
   "metadata": {},
   "source": [
    "Defining a DOS region between $y_1 =[10-20], y_2=[70-100]$"
   ]
  },
  {
   "cell_type": "code",
   "execution_count": null,
   "id": "94280420",
   "metadata": {},
   "outputs": [],
   "source": [
    "    DOS_bounds =  np.array([[10, 20], \n",
    "                            [70, 100]])"
   ]
  },
  {
   "cell_type": "markdown",
   "id": "28e1d230",
   "metadata": {},
   "source": [
    "Evaluating the OI and seeing the intersection between the operability sets:"
   ]
  },
  {
   "cell_type": "code",
   "execution_count": null,
   "id": "b4bdddd2",
   "metadata": {},
   "outputs": [],
   "source": [
    "    OI = OI_eval(AOS_region, DOS_bounds)"
   ]
  },
  {
   "cell_type": "markdown",
   "id": "2f1b6e31",
   "metadata": {},
   "source": [
    "## Utilities\n",
    "\n",
    "```{eval-rst}\n",
    ".. autofunction:: pypo.create_grid\n",
    "```\n",
    "###### Example\n",
    "Creating a 2-dimensional discretized rectangular grid for given DOS bounds."
   ]
  },
  {
   "cell_type": "code",
   "execution_count": null,
   "id": "ac2a7121",
   "metadata": {},
   "outputs": [],
   "source": [
    "    from pypo import create_grid\n",
    "    DOS_bounds =  np.array([[10, 20], \n",
    "                            [70, 100]])\n",
    "\n",
    "    DOS_resolution =  [3, 3]\n",
    "\n",
    "    DOSPts = create_grid(DOS_bounds, DOS_resolution)\n",
    "\n",
    "    print(DOSPts)"
   ]
  },
  {
   "cell_type": "markdown",
   "id": "d8d664aa",
   "metadata": {},
   "source": [
    "Visualizing this grid:"
   ]
  },
  {
   "cell_type": "code",
   "execution_count": null,
   "id": "9f42fe6f",
   "metadata": {},
   "outputs": [],
   "source": [
    "    import matplotlib.pyplot as plt\n",
    "    DOSPts = DOSPts.reshape(-1, 2)\n",
    "    plt.scatter(DOSPts[:, 0], DOSPts[:, 1])"
   ]
  },
  {
   "cell_type": "markdown",
   "id": "b89f28e1",
   "metadata": {},
   "source": [
    "```{eval-rst}\n",
    ".. autofunction:: pypo.points2simplices\n",
    "```\n",
    "\n",
    "###### Example\n",
    "Generating paired simplicial polytopes for the AIS/AOS generated for the\n",
    "shower problem example."
   ]
  },
  {
   "cell_type": "code",
   "execution_count": null,
   "id": "1a5c8d82",
   "metadata": {},
   "outputs": [],
   "source": [
    "    from pypo import points2simplices\n",
    "    AIS_poly, AOS_poly = points2simplices(AIS,AOS)\n",
    "    print('AIS Simplices \\n', AIS_poly)\n",
    "    print('AOS Simplices \\n', AOS_poly)"
   ]
  },
  {
   "cell_type": "markdown",
   "id": "bc061d7c",
   "metadata": {},
   "source": [
    "```{eval-rst}\n",
    ".. autofunction:: pypo.points2polyhedra\n",
    "```\n",
    "###### Example\n",
    "Generating paired polyhedrons for the AIS/AOS generated for the\n",
    "shower problem example."
   ]
  },
  {
   "cell_type": "code",
   "execution_count": null,
   "id": "e21aafbe",
   "metadata": {},
   "outputs": [],
   "source": [
    "    from pypo import points2polyhedra\n",
    "    AIS_poly, AOS_poly = points2polyhedra(AIS,AOS)\n",
    "    print('AIS Polyhedrons \\n', AIS_poly)\n",
    "    print('AOS Polyhedrons \\n', AOS_poly)"
   ]
  },
  {
   "cell_type": "markdown",
   "id": "8078db87",
   "metadata": {},
   "source": [
    "## API documentation list\n",
    "```{eval-rst}\n",
    ".. autosummary::\n",
    "   :toctree: _autosummary\n",
    "   :recursive:\n",
    "\n",
    "   pypo\n",
    "```"
   ]
  }
 ],
 "metadata": {
  "jupytext": {
   "formats": "md:myst",
   "text_representation": {
    "extension": ".md",
    "format_name": "myst"
   }
  },
  "kernelspec": {
   "display_name": "Python 3",
   "language": "python",
   "name": "python3"
  },
  "source_map": [
   11,
   31,
   35,
   47,
   57,
   59,
   62,
   66,
   69,
   84,
   87,
   91,
   94,
   97,
   101,
   114,
   124,
   131,
   144,
   163,
   166,
   178,
   188,
   190,
   193,
   197,
   199,
   213,
   216,
   228,
   238,
   240,
   243,
   247,
   250,
   253,
   256,
   259,
   261,
   270,
   280,
   282,
   286,
   297,
   302,
   313,
   318
  ]
 },
 "nbformat": 4,
 "nbformat_minor": 5
}