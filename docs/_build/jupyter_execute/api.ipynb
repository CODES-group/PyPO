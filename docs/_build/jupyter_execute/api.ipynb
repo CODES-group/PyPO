{
 "cells": [
  {
   "cell_type": "markdown",
   "id": "b4f9e526",
   "metadata": {},
   "source": [
    "# API documentation\n",
    "\n",
    "The functions below are part of the pypo module and are\n",
    "separted below based on their functionality.\n",
    "\n",
    "## Conventional mapping (AIS to AOS)\n",
    "\n",
    "### Forward mapping\n",
    "\n",
    "```{eval-rst}\n",
    ".. autofunction:: pyprop.AIS2AOS_map\n",
    "```\n",
    "\n",
    "### Inverse mapping (AOS/DOS to AIS/DIS)\n",
    "\n",
    "### NLP-Based\n",
    "\n",
    "```{eval-rst}\n",
    ".. autofunction:: pyprop.nlp_based_approach\n",
    "```\n",
    "\n",
    "## Implicit mapping\n",
    "\n",
    "```{eval-rst}\n",
    ".. autofunction:: pyprop.implicit_map\n",
    "```\n",
    "\n",
    "## OI evaluation\n",
    "\n",
    "```{eval-rst}\n",
    ".. autofunction:: pyprop.OI_calc\n",
    "```\n",
    "\n",
    "## Multimodel representation\n",
    "\n",
    "```{eval-rst}\n",
    ".. autofunction:: pyprop.multimodel_rep\n",
    "```\n",
    "\n",
    "#### Example"
   ]
  },
  {
   "cell_type": "code",
   "execution_count": 1,
   "id": "3ed2aa07",
   "metadata": {},
   "outputs": [],
   "source": [
    "    from pyprop import multimodel_rep, OI_calc\n",
    "    import numpy as np"
   ]
  },
  {
   "cell_type": "code",
   "execution_count": 2,
   "id": "eb3a15f3",
   "metadata": {},
   "outputs": [],
   "source": [
    "    def shower_problem(u):\n",
    "        y = np.zeros(2)\n",
    "        y[0]=u[0]+u[1]\n",
    "        if y[0]!=0:\n",
    "            y[1]=(u[0]*60+u[1]*120)/(u[0]+u[1])\n",
    "        else:\n",
    "            y[1]=(60+120)/2\n",
    "            \n",
    "        return y"
   ]
  },
  {
   "cell_type": "code",
   "execution_count": 3,
   "id": "9353e1c1",
   "metadata": {},
   "outputs": [],
   "source": [
    "    DOS_bounds =  np.array([[10, 20], [70, 100]])\n",
    "    AIS_bounds =  np.array([[0, 10], [0, 10]])\n",
    "    AIS_resolution =  [5, 5]"
   ]
  },
  {
   "cell_type": "markdown",
   "id": "db2dc69b",
   "metadata": {},
   "source": [
    "Obtaining multimodel representation of paired polytopes for the AOS"
   ]
  },
  {
   "cell_type": "code",
   "execution_count": 4,
   "id": "d17bc467",
   "metadata": {},
   "outputs": [],
   "source": [
    "   AOS_region  =  multimodel_rep(AIS_bounds, AIS_resolution, shower_problem)"
   ]
  },
  {
   "cell_type": "markdown",
   "id": "74be661b",
   "metadata": {},
   "source": [
    "## Utilities\n",
    "\n",
    "```{eval-rst}\n",
    ".. autofunction:: pyprop.create_grid\n",
    "```\n",
    "\n",
    "```{eval-rst}\n",
    ".. autofunction:: pyprop.points2simplices\n",
    "```\n",
    "\n",
    "```{eval-rst}\n",
    ".. autofunction:: pyprop.points2polyhedra\n",
    "\n",
    "\n",
    "```\n",
    "\n",
    "```{eval-rst}\n",
    ".. autosummary::\n",
    "   :toctree: _autosummary\n",
    "   :recursive:\n",
    "\n",
    "   pyprop\n",
    "```"
   ]
  }
 ],
 "metadata": {
  "jupytext": {
   "formats": "md:myst",
   "text_representation": {
    "extension": ".md",
    "format_name": "myst",
    "format_version": 0.13,
    "jupytext_version": "1.11.5"
   }
  },
  "kernelspec": {
   "display_name": "Python 3",
   "language": "python",
   "name": "python3"
  },
  "language_info": {
   "codemirror_mode": {
    "name": "ipython",
    "version": 3
   },
   "file_extension": ".py",
   "mimetype": "text/x-python",
   "name": "python",
   "nbconvert_exporter": "python",
   "pygments_lexer": "ipython3",
   "version": "3.9.13"
  },
  "source_map": [
   13,
   57,
   62,
   74,
   78,
   82,
   84
  ]
 },
 "nbformat": 4,
 "nbformat_minor": 5
}