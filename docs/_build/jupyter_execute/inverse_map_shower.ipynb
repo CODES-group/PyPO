{
 "cells": [
  {
   "cell_type": "code",
   "execution_count": 1,
   "metadata": {},
   "outputs": [],
   "source": [
    "from opyrability import nlp_based_approach\n",
    "import numpy as np\n",
    "\n",
    "import time"
   ]
  },
  {
   "cell_type": "code",
   "execution_count": 2,
   "metadata": {},
   "outputs": [],
   "source": [
    "def shower2x2(u):\n",
    "    y = np.zeros(2)\n",
    "    y[0]=u[0]+u[1]\n",
    "    if y[0]!=0:\n",
    "        y[1]=(u[0]*60+u[1]*120)/(u[0]+u[1])\n",
    "    else:\n",
    "        y[1]=(60+120)/2\n",
    "        \n",
    "    return y"
   ]
  },
  {
   "cell_type": "code",
   "execution_count": 3,
   "metadata": {},
   "outputs": [
    {
     "ename": "IndexError",
     "evalue": "too many indices for array: array is 1-dimensional, but 2 were indexed",
     "output_type": "error",
     "traceback": [
      "\u001b[1;31m---------------------------------------------------------------------------\u001b[0m",
      "\u001b[1;31mIndexError\u001b[0m                                Traceback (most recent call last)",
      "Cell \u001b[1;32mIn[3], line 12\u001b[0m\n\u001b[0;32m      8\u001b[0m DOSresolution \u001b[38;5;241m=\u001b[39m [\u001b[38;5;241m10\u001b[39m, \u001b[38;5;241m10\u001b[39m]\n\u001b[0;32m     11\u001b[0m t \u001b[38;5;241m=\u001b[39m time\u001b[38;5;241m.\u001b[39mtime()\n\u001b[1;32m---> 12\u001b[0m fDIS, fDOS, message \u001b[38;5;241m=\u001b[39m \u001b[43mnlp_based_approach\u001b[49m\u001b[43m(\u001b[49m\u001b[43mDOS_bound\u001b[49m\u001b[43m,\u001b[49m\u001b[43m \u001b[49m\n\u001b[0;32m     13\u001b[0m \u001b[43m                                          \u001b[49m\u001b[43mDOSresolution\u001b[49m\u001b[43m,\u001b[49m\u001b[43m \u001b[49m\n\u001b[0;32m     14\u001b[0m \u001b[43m                                          \u001b[49m\u001b[43mshower2x2\u001b[49m\u001b[43m,\u001b[49m\u001b[43m \u001b[49m\n\u001b[0;32m     15\u001b[0m \u001b[43m                                          \u001b[49m\u001b[43mu0\u001b[49m\u001b[43m,\u001b[49m\u001b[43m \u001b[49m\n\u001b[0;32m     16\u001b[0m \u001b[43m                                          \u001b[49m\u001b[43mlb\u001b[49m\u001b[43m,\u001b[49m\n\u001b[0;32m     17\u001b[0m \u001b[43m                                          \u001b[49m\u001b[43mub\u001b[49m\u001b[43m,\u001b[49m\u001b[43m \u001b[49m\n\u001b[0;32m     18\u001b[0m \u001b[43m                                          \u001b[49m\u001b[43mmethod\u001b[49m\u001b[38;5;241;43m=\u001b[39;49m\u001b[38;5;124;43m'\u001b[39;49m\u001b[38;5;124;43mipopt\u001b[39;49m\u001b[38;5;124;43m'\u001b[39;49m\u001b[43m,\u001b[49m\u001b[43m \u001b[49m\n\u001b[0;32m     19\u001b[0m \u001b[43m                                          \u001b[49m\u001b[43mplot\u001b[49m\u001b[38;5;241;43m=\u001b[39;49m\u001b[38;5;28;43;01mTrue\u001b[39;49;00m\u001b[43m,\u001b[49m\u001b[43m \u001b[49m\n\u001b[0;32m     20\u001b[0m \u001b[43m                                          \u001b[49m\u001b[43mad\u001b[49m\u001b[38;5;241;43m=\u001b[39;49m\u001b[38;5;28;43;01mFalse\u001b[39;49;00m\u001b[43m,\u001b[49m\n\u001b[0;32m     21\u001b[0m \u001b[43m                                          \u001b[49m\u001b[43mwarmstart\u001b[49m\u001b[38;5;241;43m=\u001b[39;49m\u001b[38;5;28;43;01mFalse\u001b[39;49;00m\u001b[43m)\u001b[49m\n\u001b[0;32m     24\u001b[0m elapsed \u001b[38;5;241m=\u001b[39m time\u001b[38;5;241m.\u001b[39mtime() \u001b[38;5;241m-\u001b[39m t\n",
      "File \u001b[1;32mV:\\Documents\\python_operability\\src\\opyrability.py:793\u001b[0m, in \u001b[0;36mnlp_based_approach\u001b[1;34m(model, DOS_bounds, DOS_resolution, u0, lb, ub, constr, method, plot, ad, warmstart)\u001b[0m\n\u001b[0;32m    790\u001b[0m     \u001b[38;5;28;01mpass\u001b[39;00m\n\u001b[0;32m    792\u001b[0m dimDOS \u001b[38;5;241m=\u001b[39m DOS_bounds\u001b[38;5;241m.\u001b[39mshape[\u001b[38;5;241m0\u001b[39m]\n\u001b[1;32m--> 793\u001b[0m DOSPts \u001b[38;5;241m=\u001b[39m \u001b[43mcreate_grid\u001b[49m\u001b[43m(\u001b[49m\u001b[43mDOS_bounds\u001b[49m\u001b[43m,\u001b[49m\u001b[43m \u001b[49m\u001b[43mDOS_resolution\u001b[49m\u001b[43m)\u001b[49m\n\u001b[0;32m    794\u001b[0m DOSPts \u001b[38;5;241m=\u001b[39m DOSPts\u001b[38;5;241m.\u001b[39mreshape(\u001b[38;5;241m-\u001b[39m\u001b[38;5;241m1\u001b[39m, dimDOS)\n\u001b[0;32m    795\u001b[0m u00    \u001b[38;5;241m=\u001b[39m u0\n",
      "File \u001b[1;32mV:\\Documents\\python_operability\\src\\opyrability.py:1151\u001b[0m, in \u001b[0;36mcreate_grid\u001b[1;34m(region_bounds, region_resolution)\u001b[0m\n\u001b[0;32m   1149\u001b[0m \u001b[38;5;66;03m# Create discretized region based on bounds and resolution information.\u001b[39;00m\n\u001b[0;32m   1150\u001b[0m \u001b[38;5;28;01mfor\u001b[39;00m i \u001b[38;5;129;01min\u001b[39;00m \u001b[38;5;28mrange\u001b[39m(nInput):\n\u001b[1;32m-> 1151\u001b[0m     Input_u\u001b[38;5;241m.\u001b[39mappend(\u001b[38;5;28mlist\u001b[39m(np\u001b[38;5;241m.\u001b[39mlinspace(\u001b[43mregion_bounds\u001b[49m\u001b[43m[\u001b[49m\u001b[43mi\u001b[49m\u001b[43m,\u001b[49m\u001b[43m \u001b[49m\u001b[38;5;241;43m0\u001b[39;49m\u001b[43m]\u001b[49m,\n\u001b[0;32m   1152\u001b[0m                                     region_bounds[i, \u001b[38;5;241m1\u001b[39m],\n\u001b[0;32m   1153\u001b[0m                                     region_resolution[i])))\n\u001b[0;32m   1155\u001b[0m \u001b[38;5;66;03m# Create slack variables for preallocation purposes.\u001b[39;00m\n\u001b[0;32m   1156\u001b[0m region_grid \u001b[38;5;241m=\u001b[39m np\u001b[38;5;241m.\u001b[39mzeros(region_resolution \u001b[38;5;241m+\u001b[39m [nInput])\n",
      "\u001b[1;31mIndexError\u001b[0m: too many indices for array: array is 1-dimensional, but 2 were indexed"
     ]
    }
   ],
   "source": [
    "u0 = np.array([0, 10])\n",
    "lb = np.array([0, 0])\n",
    "ub = np.array([100,100])\n",
    "\n",
    "DOS_bound = np.array([[17.5, 21.0],\n",
    "                    [80.0, 100.0]])\n",
    "\n",
    "DOSresolution = [10, 10]\n",
    "    \n",
    "\n",
    "t = time.time()\n",
    "fDIS, fDOS, message = nlp_based_approach(DOS_bound, \n",
    "                                          DOSresolution, \n",
    "                                          shower2x2, \n",
    "                                          u0, \n",
    "                                          lb,\n",
    "                                          ub, \n",
    "                                          method='ipopt', \n",
    "                                          plot=True, \n",
    "                                          ad=False,\n",
    "                                          warmstart=False)\n",
    "    \n",
    "    \n",
    "elapsed = time.time() - t"
   ]
  }
 ],
 "metadata": {
  "kernelspec": {
   "display_name": "operability",
   "language": "python",
   "name": "python3"
  },
  "language_info": {
   "codemirror_mode": {
    "name": "ipython",
    "version": 3
   },
   "file_extension": ".py",
   "mimetype": "text/x-python",
   "name": "python",
   "nbconvert_exporter": "python",
   "pygments_lexer": "ipython3",
   "version": "3.11.4"
  }
 },
 "nbformat": 4,
 "nbformat_minor": 2
}