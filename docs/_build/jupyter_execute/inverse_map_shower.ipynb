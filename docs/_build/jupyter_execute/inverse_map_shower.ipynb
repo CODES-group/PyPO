{
 "cells": [
  {
   "cell_type": "code",
   "execution_count": 1,
   "metadata": {},
   "outputs": [],
   "source": [
    "from opyrability import nlp_based_approach\n",
    "import numpy as np\n",
    "\n",
    "import time"
   ]
  },
  {
   "cell_type": "code",
   "execution_count": 2,
   "metadata": {},
   "outputs": [],
   "source": [
    "def shower2x2(u):\n",
    "    y = np.zeros(2)\n",
    "    y[0]=u[0]+u[1]\n",
    "    if y[0]!=0:\n",
    "        y[1]=(u[0]*60+u[1]*120)/(u[0]+u[1])\n",
    "    else:\n",
    "        y[1]=(60+120)/2\n",
    "        \n",
    "    return y"
   ]
  },
  {
   "cell_type": "code",
   "execution_count": 3,
   "metadata": {},
   "outputs": [
    {
     "ename": "AttributeError",
     "evalue": "'list' object has no attribute 'shape'",
     "output_type": "error",
     "traceback": [
      "\u001b[1;31m---------------------------------------------------------------------------\u001b[0m",
      "\u001b[1;31mAttributeError\u001b[0m                            Traceback (most recent call last)",
      "\u001b[1;32m~\\AppData\\Local\\Temp\\ipykernel_7492\\3653854815.py\u001b[0m in \u001b[0;36m<cell line: 12>\u001b[1;34m()\u001b[0m\n\u001b[0;32m     10\u001b[0m \u001b[1;33m\u001b[0m\u001b[0m\n\u001b[0;32m     11\u001b[0m \u001b[0mt\u001b[0m \u001b[1;33m=\u001b[0m \u001b[0mtime\u001b[0m\u001b[1;33m.\u001b[0m\u001b[0mtime\u001b[0m\u001b[1;33m(\u001b[0m\u001b[1;33m)\u001b[0m\u001b[1;33m\u001b[0m\u001b[1;33m\u001b[0m\u001b[0m\n\u001b[1;32m---> 12\u001b[1;33m fDIS, fDOS, message = nlp_based_approach(DOS_bound, \n\u001b[0m\u001b[0;32m     13\u001b[0m                                           \u001b[0mDOSresolution\u001b[0m\u001b[1;33m,\u001b[0m\u001b[1;33m\u001b[0m\u001b[1;33m\u001b[0m\u001b[0m\n\u001b[0;32m     14\u001b[0m                                           \u001b[0mshower2x2\u001b[0m\u001b[1;33m,\u001b[0m\u001b[1;33m\u001b[0m\u001b[1;33m\u001b[0m\u001b[0m\n",
      "\u001b[1;32m~\\Documents\\python_operability\\python_operability\\src\\opyrability.py\u001b[0m in \u001b[0;36mnlp_based_approach\u001b[1;34m(model, DOS_bounds, DOS_resolution, u0, lb, ub, constr, method, plot, ad, warmstart)\u001b[0m\n\u001b[0;32m    819\u001b[0m \u001b[1;33m\u001b[0m\u001b[0m\n\u001b[0;32m    820\u001b[0m \u001b[1;33m\u001b[0m\u001b[0m\n\u001b[1;32m--> 821\u001b[1;33m     \u001b[0mdimDOS\u001b[0m \u001b[1;33m=\u001b[0m \u001b[0mDOS_bounds\u001b[0m\u001b[1;33m.\u001b[0m\u001b[0mshape\u001b[0m\u001b[1;33m[\u001b[0m\u001b[1;36m0\u001b[0m\u001b[1;33m]\u001b[0m\u001b[1;33m\u001b[0m\u001b[1;33m\u001b[0m\u001b[0m\n\u001b[0m\u001b[0;32m    822\u001b[0m     \u001b[0mDOSPts\u001b[0m \u001b[1;33m=\u001b[0m \u001b[0mcreate_grid\u001b[0m\u001b[1;33m(\u001b[0m\u001b[0mDOS_bounds\u001b[0m\u001b[1;33m,\u001b[0m \u001b[0mDOS_resolution\u001b[0m\u001b[1;33m)\u001b[0m\u001b[1;33m\u001b[0m\u001b[1;33m\u001b[0m\u001b[0m\n\u001b[0;32m    823\u001b[0m     \u001b[0mDOSPts_multi\u001b[0m \u001b[1;33m=\u001b[0m \u001b[0mDOSPts\u001b[0m\u001b[1;33m\u001b[0m\u001b[1;33m\u001b[0m\u001b[0m\n",
      "\u001b[1;31mAttributeError\u001b[0m: 'list' object has no attribute 'shape'"
     ]
    }
   ],
   "source": [
    "u0 = np.array([0, 10])\n",
    "lb = np.array([0, 0])\n",
    "ub = np.array([100,100])\n",
    "\n",
    "DOS_bound = np.array([[17.5, 21.0],\n",
    "                    [80.0, 100.0]])\n",
    "\n",
    "DOSresolution = [10, 10]\n",
    "    \n",
    "\n",
    "t = time.time()\n",
    "fDIS, fDOS, message = nlp_based_approach(DOS_bound, \n",
    "                                          DOSresolution, \n",
    "                                          shower2x2, \n",
    "                                          u0, \n",
    "                                          lb,\n",
    "                                          ub, \n",
    "                                          method='ipopt', \n",
    "                                          plot=True, \n",
    "                                          ad=False,\n",
    "                                          warmstart=False)\n",
    "    \n",
    "    \n",
    "elapsed = time.time() - t"
   ]
  }
 ],
 "metadata": {
  "kernelspec": {
   "display_name": "operability",
   "language": "python",
   "name": "python3"
  },
  "language_info": {
   "codemirror_mode": {
    "name": "ipython",
    "version": 3
   },
   "file_extension": ".py",
   "mimetype": "text/x-python",
   "name": "python",
   "nbconvert_exporter": "python",
   "pygments_lexer": "ipython3",
   "version": "3.9.17"
  }
 },
 "nbformat": 4,
 "nbformat_minor": 2
}