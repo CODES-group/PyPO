{
 "cells": [
  {
   "cell_type": "code",
   "execution_count": 1,
   "metadata": {},
   "outputs": [],
   "source": [
    "from pypo import nlp_based_approach\n",
    "import numpy as np\n",
    "\n",
    "import time"
   ]
  },
  {
   "cell_type": "code",
   "execution_count": 2,
   "metadata": {},
   "outputs": [],
   "source": [
    "def shower2x2(u):\n",
    "    y = np.zeros(2)\n",
    "    y[0]=u[0]+u[1]\n",
    "    if y[0]!=0:\n",
    "        y[1]=(u[0]*60+u[1]*120)/(u[0]+u[1])\n",
    "    else:\n",
    "        y[1]=(60+120)/2\n",
    "        \n",
    "    return y"
   ]
  },
  {
   "cell_type": "code",
   "execution_count": 3,
   "metadata": {},
   "outputs": [
    {
     "ename": "AttributeError",
     "evalue": "'list' object has no attribute 'shape'",
     "output_type": "error",
     "traceback": [
      "\u001b[1;31m---------------------------------------------------------------------------\u001b[0m",
      "\u001b[1;31mAttributeError\u001b[0m                            Traceback (most recent call last)",
      "Cell \u001b[1;32mIn[3], line 12\u001b[0m\n\u001b[0;32m      8\u001b[0m DOSresolution \u001b[38;5;241m=\u001b[39m [\u001b[38;5;241m10\u001b[39m, \u001b[38;5;241m10\u001b[39m]\n\u001b[0;32m     11\u001b[0m t \u001b[38;5;241m=\u001b[39m time\u001b[38;5;241m.\u001b[39mtime()\n\u001b[1;32m---> 12\u001b[0m fDIS, fDOS, message \u001b[38;5;241m=\u001b[39m nlp_based_approach(DOS_bound, \n\u001b[0;32m     13\u001b[0m                                           DOSresolution, \n\u001b[0;32m     14\u001b[0m                                           shower2x2, \n\u001b[0;32m     15\u001b[0m                                           u0, \n\u001b[0;32m     16\u001b[0m                                           lb,\n\u001b[0;32m     17\u001b[0m                                           ub, \n\u001b[0;32m     18\u001b[0m                                           method\u001b[38;5;241m=\u001b[39m\u001b[38;5;124m'\u001b[39m\u001b[38;5;124mipopt\u001b[39m\u001b[38;5;124m'\u001b[39m, \n\u001b[0;32m     19\u001b[0m                                           plot\u001b[38;5;241m=\u001b[39m\u001b[38;5;28;01mTrue\u001b[39;00m, \n\u001b[0;32m     20\u001b[0m                                           ad\u001b[38;5;241m=\u001b[39m\u001b[38;5;28;01mFalse\u001b[39;00m,\n\u001b[0;32m     21\u001b[0m                                           warmstart\u001b[38;5;241m=\u001b[39m\u001b[38;5;28;01mFalse\u001b[39;00m)\n\u001b[0;32m     24\u001b[0m elapsed \u001b[38;5;241m=\u001b[39m time\u001b[38;5;241m.\u001b[39mtime() \u001b[38;5;241m-\u001b[39m t\n",
      "File \u001b[1;32mV:\\Documents\\python_operability\\src\\pypo.py:802\u001b[0m, in \u001b[0;36mnlp_based_approach\u001b[1;34m(model, DOS_bounds, DOS_resolution, u0, lb, ub, constr, method, plot, ad, warmstart)\u001b[0m\n\u001b[0;32m    790\u001b[0m         \u001b[38;5;66;03m# constr['fun'] = jit(constr['fun'])\u001b[39;00m\n\u001b[0;32m    791\u001b[0m         \u001b[38;5;66;03m# BUG: AD-based hessians are deactivated for in ipopt now \u001b[39;00m\n\u001b[0;32m    792\u001b[0m         \u001b[38;5;66;03m# due to Cyipopt`s bug.\u001b[39;00m\n\u001b[1;32m   (...)\u001b[0m\n\u001b[0;32m    796\u001b[0m         \u001b[38;5;66;03m# constr['hess'] = jit(jacrev(jacrev(constr['fun'])))\u001b[39;00m\n\u001b[0;32m    797\u001b[0m     \u001b[38;5;28;01melse\u001b[39;00m:\n\u001b[0;32m    798\u001b[0m         \u001b[38;5;28;01mpass\u001b[39;00m\n\u001b[1;32m--> 802\u001b[0m dimDOS \u001b[38;5;241m=\u001b[39m DOS_bounds\u001b[38;5;241m.\u001b[39mshape[\u001b[38;5;241m0\u001b[39m]\n\u001b[0;32m    803\u001b[0m DOSPts \u001b[38;5;241m=\u001b[39m create_grid(DOS_bounds, DOS_resolution)\n\u001b[0;32m    804\u001b[0m DOSPts \u001b[38;5;241m=\u001b[39m DOSPts\u001b[38;5;241m.\u001b[39mreshape(\u001b[38;5;241m-\u001b[39m\u001b[38;5;241m1\u001b[39m, dimDOS)\n",
      "\u001b[1;31mAttributeError\u001b[0m: 'list' object has no attribute 'shape'"
     ]
    }
   ],
   "source": [
    "u0 = np.array([0, 10])\n",
    "lb = np.array([0, 0])\n",
    "ub = np.array([100,100])\n",
    "\n",
    "DOS_bound = np.array([[17.5, 21.0],\n",
    "                    [80.0, 100.0]])\n",
    "\n",
    "DOSresolution = [10, 10]\n",
    "    \n",
    "\n",
    "t = time.time()\n",
    "fDIS, fDOS, message = nlp_based_approach(DOS_bound, \n",
    "                                          DOSresolution, \n",
    "                                          shower2x2, \n",
    "                                          u0, \n",
    "                                          lb,\n",
    "                                          ub, \n",
    "                                          method='ipopt', \n",
    "                                          plot=True, \n",
    "                                          ad=False,\n",
    "                                          warmstart=False)\n",
    "    \n",
    "    \n",
    "elapsed = time.time() - t"
   ]
  }
 ],
 "metadata": {
  "kernelspec": {
   "display_name": "operability",
   "language": "python",
   "name": "python3"
  },
  "language_info": {
   "codemirror_mode": {
    "name": "ipython",
    "version": 3
   },
   "file_extension": ".py",
   "mimetype": "text/x-python",
   "name": "python",
   "nbconvert_exporter": "python",
   "pygments_lexer": "ipython3",
   "version": "3.11.4"
  }
 },
 "nbformat": 4,
 "nbformat_minor": 2
}