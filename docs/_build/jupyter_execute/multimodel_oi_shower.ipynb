{
 "cells": [
  {
   "attachments": {},
   "cell_type": "markdown",
   "id": "56036a99",
   "metadata": {},
   "source": [
    "Example\n",
    "-------"
   ]
  },
  {
   "cell_type": "code",
   "execution_count": 1,
   "id": "b3a00ed3",
   "metadata": {
    "tags": []
   },
   "outputs": [],
   "source": [
    "from pyprop import multimodel_rep, OI_calc\n",
    "import numpy as np"
   ]
  },
  {
   "attachments": {},
   "cell_type": "markdown",
   "id": "9dff3e0e",
   "metadata": {},
   "source": [
    "Defining the equations for the shower problem"
   ]
  },
  {
   "attachments": {},
   "cell_type": "markdown",
   "id": "a29ce6ef",
   "metadata": {},
   "source": [
    "$$\n",
    "y_1 =  u_1 + u_2 \\\\\n",
    "y_2 = \\frac{(60*u_1 +  120*u_2)}{(u_1 + u_2)} \\\\\n",
    "if \\, y_1 = 0, \\\\ then \\, y_2 = \\frac{(60+120)}{2}\n",
    "$$"
   ]
  },
  {
   "cell_type": "code",
   "execution_count": 2,
   "id": "e03d2e26",
   "metadata": {},
   "outputs": [],
   "source": [
    "def shower_problem_2x2(u):\n",
    "    y = np.zeros(2)\n",
    "    y[0]=u[0]+u[1]\n",
    "    if y[0]!=0:\n",
    "        y[1]=(u[0]*60+u[1]*120)/(u[0]+u[1])\n",
    "    else:\n",
    "        y[1]=(60+120)/2\n",
    "        \n",
    "    return y"
   ]
  },
  {
   "cell_type": "markdown",
   "id": "aecd9003",
   "metadata": {},
   "source": [
    "Defining The AIS and DOS Bounds"
   ]
  },
  {
   "cell_type": "code",
   "execution_count": 3,
   "id": "8d253e65",
   "metadata": {},
   "outputs": [],
   "source": [
    "DOS_bounds =  np.array([[10, 20], \n",
    "                        [70, 100]])\n",
    "\n",
    "AIS_bounds =  np.array([[0, 10],\n",
    "                        [0, 10]])\n",
    "\n",
    "AIS_resolution =  [5, 5]\n",
    "\n",
    "model =  shower_problem_2x2"
   ]
  },
  {
   "cell_type": "markdown",
   "id": "bb9268a8",
   "metadata": {},
   "source": [
    "Obtaining the AOS from the AIS"
   ]
  },
  {
   "cell_type": "code",
   "execution_count": 4,
   "id": "d07a70dc",
   "metadata": {},
   "outputs": [],
   "source": [
    "AOS_region  =  multimodel_rep(AIS_bounds, AIS_resolution, model)"
   ]
  },
  {
   "cell_type": "code",
   "execution_count": 5,
   "id": "f3849696",
   "metadata": {},
   "outputs": [
    {
     "ename": "RuntimeError",
     "evalue": "`polytope.solvers.lpsolve` returned:  {'status': 3, 'x': None, 'fun': None}\nits docstring describes return values",
     "output_type": "error",
     "traceback": [
      "\u001b[1;31m---------------------------------------------------------------------------\u001b[0m",
      "\u001b[1;31mRuntimeError\u001b[0m                              Traceback (most recent call last)",
      "\u001b[1;32m~\\AppData\\Local\\Temp\\ipykernel_10744\\3375087089.py\u001b[0m in \u001b[0;36m<module>\u001b[1;34m\u001b[0m\n\u001b[1;32m----> 1\u001b[1;33m \u001b[0mOI\u001b[0m \u001b[1;33m=\u001b[0m \u001b[0mOI_calc\u001b[0m\u001b[1;33m(\u001b[0m\u001b[0mAOS_region\u001b[0m\u001b[1;33m,\u001b[0m \u001b[0mDOS_bounds\u001b[0m\u001b[1;33m)\u001b[0m\u001b[1;33m\u001b[0m\u001b[1;33m\u001b[0m\u001b[0m\n\u001b[0m",
      "\u001b[1;32m~\\Documents\\python_operability\\python_operability\\docs\\pyprop.py\u001b[0m in \u001b[0;36mOI_calc\u001b[1;34m(AS, DS, perspective, hypervol_calc)\u001b[0m\n\u001b[0;32m    238\u001b[0m     \u001b[0mDS_region\u001b[0m \u001b[1;33m=\u001b[0m \u001b[0mpc\u001b[0m\u001b[1;33m.\u001b[0m\u001b[0mreduce\u001b[0m\u001b[1;33m(\u001b[0m\u001b[0mDS_region\u001b[0m\u001b[1;33m)\u001b[0m\u001b[1;33m\u001b[0m\u001b[1;33m\u001b[0m\u001b[0m\n\u001b[0;32m    239\u001b[0m \u001b[1;33m\u001b[0m\u001b[0m\n\u001b[1;32m--> 240\u001b[1;33m     \u001b[0mintersection\u001b[0m \u001b[1;33m=\u001b[0m \u001b[0mpc\u001b[0m\u001b[1;33m.\u001b[0m\u001b[0mintersect\u001b[0m\u001b[1;33m(\u001b[0m\u001b[0mAS\u001b[0m\u001b[1;33m,\u001b[0m \u001b[0mDS_region\u001b[0m\u001b[1;33m)\u001b[0m\u001b[1;33m\u001b[0m\u001b[1;33m\u001b[0m\u001b[0m\n\u001b[0m\u001b[0;32m    241\u001b[0m \u001b[1;33m\u001b[0m\u001b[0m\n\u001b[0;32m    242\u001b[0m \u001b[1;33m\u001b[0m\u001b[0m\n",
      "\u001b[1;32m~\\Anaconda3\\envs\\operability\\lib\\site-packages\\polytope\\polytope.py\u001b[0m in \u001b[0;36mintersect\u001b[1;34m(poly1, poly2, abs_tol)\u001b[0m\n\u001b[0;32m   1501\u001b[0m     \u001b[1;31m# use {Polytope, Region}.intersect instead')\u001b[0m\u001b[1;33m\u001b[0m\u001b[1;33m\u001b[0m\u001b[0m\n\u001b[0;32m   1502\u001b[0m     \u001b[1;32mif\u001b[0m \u001b[0misinstance\u001b[0m\u001b[1;33m(\u001b[0m\u001b[0mpoly1\u001b[0m\u001b[1;33m,\u001b[0m \u001b[0mRegion\u001b[0m\u001b[1;33m)\u001b[0m\u001b[1;33m:\u001b[0m\u001b[1;33m\u001b[0m\u001b[1;33m\u001b[0m\u001b[0m\n\u001b[1;32m-> 1503\u001b[1;33m         \u001b[1;32mreturn\u001b[0m \u001b[0mpoly1\u001b[0m\u001b[1;33m.\u001b[0m\u001b[0mintersect\u001b[0m\u001b[1;33m(\u001b[0m\u001b[0mpoly2\u001b[0m\u001b[1;33m,\u001b[0m \u001b[0mabs_tol\u001b[0m\u001b[1;33m=\u001b[0m\u001b[0mabs_tol\u001b[0m\u001b[1;33m)\u001b[0m\u001b[1;33m\u001b[0m\u001b[1;33m\u001b[0m\u001b[0m\n\u001b[0m\u001b[0;32m   1504\u001b[0m     \u001b[1;32mif\u001b[0m \u001b[0misinstance\u001b[0m\u001b[1;33m(\u001b[0m\u001b[0mpoly2\u001b[0m\u001b[1;33m,\u001b[0m \u001b[0mRegion\u001b[0m\u001b[1;33m)\u001b[0m\u001b[1;33m:\u001b[0m\u001b[1;33m\u001b[0m\u001b[1;33m\u001b[0m\u001b[0m\n\u001b[0;32m   1505\u001b[0m         \u001b[1;32mreturn\u001b[0m \u001b[0mpoly2\u001b[0m\u001b[1;33m.\u001b[0m\u001b[0mintersect\u001b[0m\u001b[1;33m(\u001b[0m\u001b[0mpoly1\u001b[0m\u001b[1;33m,\u001b[0m \u001b[0mabs_tol\u001b[0m\u001b[1;33m=\u001b[0m\u001b[0mabs_tol\u001b[0m\u001b[1;33m)\u001b[0m\u001b[1;33m\u001b[0m\u001b[1;33m\u001b[0m\u001b[0m\n",
      "\u001b[1;32m~\\Anaconda3\\envs\\operability\\lib\\site-packages\\polytope\\polytope.py\u001b[0m in \u001b[0;36mintersect\u001b[1;34m(self, other, abs_tol)\u001b[0m\n\u001b[0;32m    823\u001b[0m                 \u001b[0mrp\u001b[0m\u001b[1;33m,\u001b[0m \u001b[0mxp\u001b[0m \u001b[1;33m=\u001b[0m \u001b[0misect\u001b[0m\u001b[1;33m.\u001b[0m\u001b[0mcheby\u001b[0m\u001b[1;33m\u001b[0m\u001b[1;33m\u001b[0m\u001b[0m\n\u001b[0;32m    824\u001b[0m                 \u001b[1;32mif\u001b[0m \u001b[0mrp\u001b[0m \u001b[1;33m>\u001b[0m \u001b[0mabs_tol\u001b[0m\u001b[1;33m:\u001b[0m\u001b[1;33m\u001b[0m\u001b[1;33m\u001b[0m\u001b[0m\n\u001b[1;32m--> 825\u001b[1;33m                     \u001b[0mP\u001b[0m \u001b[1;33m=\u001b[0m \u001b[0munion\u001b[0m\u001b[1;33m(\u001b[0m\u001b[0mP\u001b[0m\u001b[1;33m,\u001b[0m \u001b[0misect\u001b[0m\u001b[1;33m,\u001b[0m \u001b[0mcheck_convex\u001b[0m\u001b[1;33m=\u001b[0m\u001b[1;32mTrue\u001b[0m\u001b[1;33m)\u001b[0m\u001b[1;33m\u001b[0m\u001b[1;33m\u001b[0m\u001b[0m\n\u001b[0m\u001b[0;32m    826\u001b[0m         \u001b[1;32mreturn\u001b[0m \u001b[0mP\u001b[0m\u001b[1;33m\u001b[0m\u001b[1;33m\u001b[0m\u001b[0m\n\u001b[0;32m    827\u001b[0m \u001b[1;33m\u001b[0m\u001b[0m\n",
      "\u001b[1;32m~\\Anaconda3\\envs\\operability\\lib\\site-packages\\polytope\\polytope.py\u001b[0m in \u001b[0;36munion\u001b[1;34m(polyreg1, polyreg2, check_convex)\u001b[0m\n\u001b[0;32m   1220\u001b[0m                 \u001b[1;32mfor\u001b[0m \u001b[0mii\u001b[0m \u001b[1;32min\u001b[0m \u001b[0mrange\u001b[0m\u001b[1;33m(\u001b[0m\u001b[1;36m1\u001b[0m\u001b[1;33m,\u001b[0m \u001b[0mN\u001b[0m\u001b[1;33m)\u001b[0m\u001b[1;33m:\u001b[0m\u001b[1;33m\u001b[0m\u001b[1;33m\u001b[0m\u001b[0m\n\u001b[0;32m   1221\u001b[0m                     \u001b[0mtemplist\u001b[0m\u001b[1;33m.\u001b[0m\u001b[0mappend\u001b[0m\u001b[1;33m(\u001b[0m\u001b[0mlst\u001b[0m\u001b[1;33m[\u001b[0m\u001b[0mii\u001b[0m\u001b[1;33m]\u001b[0m\u001b[1;33m)\u001b[0m\u001b[1;33m\u001b[0m\u001b[1;33m\u001b[0m\u001b[0m\n\u001b[1;32m-> 1222\u001b[1;33m                     \u001b[0mis_conv\u001b[0m\u001b[1;33m,\u001b[0m \u001b[0menv\u001b[0m \u001b[1;33m=\u001b[0m \u001b[0mis_convex\u001b[0m\u001b[1;33m(\u001b[0m\u001b[0mRegion\u001b[0m\u001b[1;33m(\u001b[0m\u001b[0mtemplist\u001b[0m\u001b[1;33m)\u001b[0m\u001b[1;33m)\u001b[0m\u001b[1;33m\u001b[0m\u001b[1;33m\u001b[0m\u001b[0m\n\u001b[0m\u001b[0;32m   1223\u001b[0m                     \u001b[1;32mif\u001b[0m \u001b[1;32mnot\u001b[0m \u001b[0mis_conv\u001b[0m\u001b[1;33m:\u001b[0m\u001b[1;33m\u001b[0m\u001b[1;33m\u001b[0m\u001b[0m\n\u001b[0;32m   1224\u001b[0m                         \u001b[0mtemplist\u001b[0m\u001b[1;33m.\u001b[0m\u001b[0mremove\u001b[0m\u001b[1;33m(\u001b[0m\u001b[0mlst\u001b[0m\u001b[1;33m[\u001b[0m\u001b[0mii\u001b[0m\u001b[1;33m]\u001b[0m\u001b[1;33m)\u001b[0m\u001b[1;33m\u001b[0m\u001b[1;33m\u001b[0m\u001b[0m\n",
      "\u001b[1;32m~\\Anaconda3\\envs\\operability\\lib\\site-packages\\polytope\\polytope.py\u001b[0m in \u001b[0;36mis_convex\u001b[1;34m(reg, abs_tol)\u001b[0m\n\u001b[0;32m   1000\u001b[0m         \u001b[1;32mreturn\u001b[0m \u001b[1;32mFalse\u001b[0m\u001b[1;33m,\u001b[0m \u001b[1;32mNone\u001b[0m\u001b[1;33m\u001b[0m\u001b[1;33m\u001b[0m\u001b[0m\n\u001b[0;32m   1001\u001b[0m     \u001b[0mPl\u001b[0m\u001b[1;33m,\u001b[0m \u001b[0mPu\u001b[0m \u001b[1;33m=\u001b[0m \u001b[0mreg\u001b[0m\u001b[1;33m.\u001b[0m\u001b[0mbounding_box\u001b[0m\u001b[1;33m\u001b[0m\u001b[1;33m\u001b[0m\u001b[0m\n\u001b[1;32m-> 1002\u001b[1;33m     \u001b[0mOl\u001b[0m\u001b[1;33m,\u001b[0m \u001b[0mOu\u001b[0m \u001b[1;33m=\u001b[0m \u001b[0mouter\u001b[0m\u001b[1;33m.\u001b[0m\u001b[0mbounding_box\u001b[0m\u001b[1;33m\u001b[0m\u001b[1;33m\u001b[0m\u001b[0m\n\u001b[0m\u001b[0;32m   1003\u001b[0m     \u001b[0mbboxP\u001b[0m \u001b[1;33m=\u001b[0m \u001b[0mnp\u001b[0m\u001b[1;33m.\u001b[0m\u001b[0mhstack\u001b[0m\u001b[1;33m(\u001b[0m\u001b[1;33m[\u001b[0m\u001b[0mPl\u001b[0m\u001b[1;33m,\u001b[0m \u001b[0mPu\u001b[0m\u001b[1;33m]\u001b[0m\u001b[1;33m)\u001b[0m\u001b[1;33m\u001b[0m\u001b[1;33m\u001b[0m\u001b[0m\n\u001b[0;32m   1004\u001b[0m     \u001b[0mbboxO\u001b[0m \u001b[1;33m=\u001b[0m \u001b[0mnp\u001b[0m\u001b[1;33m.\u001b[0m\u001b[0mhstack\u001b[0m\u001b[1;33m(\u001b[0m\u001b[1;33m[\u001b[0m\u001b[0mOl\u001b[0m\u001b[1;33m,\u001b[0m \u001b[0mOu\u001b[0m\u001b[1;33m]\u001b[0m\u001b[1;33m)\u001b[0m\u001b[1;33m\u001b[0m\u001b[1;33m\u001b[0m\u001b[0m\n",
      "\u001b[1;32m~\\Anaconda3\\envs\\operability\\lib\\site-packages\\polytope\\polytope.py\u001b[0m in \u001b[0;36mbounding_box\u001b[1;34m(self)\u001b[0m\n\u001b[0;32m    417\u001b[0m         \"\"\"\n\u001b[0;32m    418\u001b[0m         \u001b[1;32mif\u001b[0m \u001b[0mself\u001b[0m\u001b[1;33m.\u001b[0m\u001b[0mbbox\u001b[0m \u001b[1;32mis\u001b[0m \u001b[1;32mNone\u001b[0m\u001b[1;33m:\u001b[0m\u001b[1;33m\u001b[0m\u001b[1;33m\u001b[0m\u001b[0m\n\u001b[1;32m--> 419\u001b[1;33m             \u001b[0mself\u001b[0m\u001b[1;33m.\u001b[0m\u001b[0mbbox\u001b[0m \u001b[1;33m=\u001b[0m \u001b[0mbounding_box\u001b[0m\u001b[1;33m(\u001b[0m\u001b[0mself\u001b[0m\u001b[1;33m)\u001b[0m\u001b[1;33m\u001b[0m\u001b[1;33m\u001b[0m\u001b[0m\n\u001b[0m\u001b[0;32m    420\u001b[0m         \u001b[1;32mreturn\u001b[0m \u001b[0mself\u001b[0m\u001b[1;33m.\u001b[0m\u001b[0mbbox\u001b[0m\u001b[1;33m\u001b[0m\u001b[1;33m\u001b[0m\u001b[0m\n\u001b[0;32m    421\u001b[0m \u001b[1;33m\u001b[0m\u001b[0m\n",
      "\u001b[1;32m~\\Anaconda3\\envs\\operability\\lib\\site-packages\\polytope\\polytope.py\u001b[0m in \u001b[0;36mbounding_box\u001b[1;34m(polyreg)\u001b[0m\n\u001b[0;32m   1372\u001b[0m             \u001b[0ml\u001b[0m\u001b[1;33m[\u001b[0m\u001b[0mi\u001b[0m\u001b[1;33m]\u001b[0m \u001b[1;33m=\u001b[0m \u001b[0mx\u001b[0m\u001b[1;33m[\u001b[0m\u001b[0mi\u001b[0m\u001b[1;33m]\u001b[0m\u001b[1;33m\u001b[0m\u001b[1;33m\u001b[0m\u001b[0m\n\u001b[0;32m   1373\u001b[0m         \u001b[1;32melse\u001b[0m\u001b[1;33m:\u001b[0m\u001b[1;33m\u001b[0m\u001b[1;33m\u001b[0m\u001b[0m\n\u001b[1;32m-> 1374\u001b[1;33m             raise RuntimeError((\n\u001b[0m\u001b[0;32m   1375\u001b[0m                 \u001b[1;34m'`polytope.solvers.lpsolve` returned:  {v}\\n'\u001b[0m\u001b[1;33m\u001b[0m\u001b[1;33m\u001b[0m\u001b[0m\n\u001b[0;32m   1376\u001b[0m                 \u001b[1;34m'its docstring describes return values'\u001b[0m\u001b[1;33m\u001b[0m\u001b[1;33m\u001b[0m\u001b[0m\n",
      "\u001b[1;31mRuntimeError\u001b[0m: `polytope.solvers.lpsolve` returned:  {'status': 3, 'x': None, 'fun': None}\nits docstring describes return values"
     ]
    }
   ],
   "source": [
    "OI = OI_calc(AOS_region, DOS_bounds)"
   ]
  },
  {
   "cell_type": "code",
   "execution_count": null,
   "id": "9d97ab38",
   "metadata": {},
   "outputs": [],
   "source": []
  }
 ],
 "metadata": {
  "kernelspec": {
   "display_name": "Python 3 (Spyder)",
   "language": "python3",
   "name": "python3"
  },
  "language_info": {
   "codemirror_mode": {
    "name": "ipython",
    "version": 3
   },
   "file_extension": ".py",
   "mimetype": "text/x-python",
   "name": "python",
   "nbconvert_exporter": "python",
   "pygments_lexer": "ipython3",
   "version": "3.9.13"
  }
 },
 "nbformat": 4,
 "nbformat_minor": 5
}